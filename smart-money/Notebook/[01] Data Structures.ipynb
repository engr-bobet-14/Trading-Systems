{
 "cells": [
  {
   "cell_type": "code",
   "execution_count": 1,
   "metadata": {},
   "outputs": [],
   "source": [
    "import pyarrow.dataset as ds\n",
    "import pandas as pd\n",
    "import numpy as np\n",
    "import matplotlib.pyplot as plt"
   ]
  },
  {
   "cell_type": "code",
   "execution_count": 2,
   "metadata": {},
   "outputs": [],
   "source": [
    "from statsmodels.stats import stattools\n",
    "from scipy import stats\n",
    "import seaborn as sns"
   ]
  },
  {
   "cell_type": "code",
   "execution_count": 3,
   "metadata": {},
   "outputs": [],
   "source": [
    "from RiskLabAI.controller import Controller\n",
    "\n",
    "# initialize controller\n",
    "controller = Controller()"
   ]
  },
  {
   "cell_type": "code",
   "execution_count": 4,
   "metadata": {},
   "outputs": [
    {
     "name": "stdout",
     "output_type": "stream",
     "text": [
      "True\n"
     ]
    }
   ],
   "source": [
    "import optuna\n",
    "import torch\n",
    "print(torch.backends.mps.is_available())"
   ]
  },
  {
   "cell_type": "markdown",
   "metadata": {},
   "source": [
    "# Load Datasets"
   ]
  },
  {
   "cell_type": "code",
   "execution_count": 5,
   "metadata": {},
   "outputs": [
    {
     "data": {
      "text/html": [
       "<div>\n",
       "<style scoped>\n",
       "    .dataframe tbody tr th:only-of-type {\n",
       "        vertical-align: middle;\n",
       "    }\n",
       "\n",
       "    .dataframe tbody tr th {\n",
       "        vertical-align: top;\n",
       "    }\n",
       "\n",
       "    .dataframe thead th {\n",
       "        text-align: right;\n",
       "    }\n",
       "</style>\n",
       "<table border=\"1\" class=\"dataframe\">\n",
       "  <thead>\n",
       "    <tr style=\"text-align: right;\">\n",
       "      <th></th>\n",
       "      <th>symbol</th>\n",
       "      <th>ts_ms</th>\n",
       "      <th>iso_utc</th>\n",
       "      <th>ohlc_ts_open</th>\n",
       "      <th>ohlc_open</th>\n",
       "      <th>ohlc_high</th>\n",
       "      <th>ohlc_low</th>\n",
       "      <th>ohlc_close</th>\n",
       "      <th>ohlc_volume</th>\n",
       "      <th>ohlc_ts_close</th>\n",
       "      <th>...</th>\n",
       "      <th>tr_volume_base</th>\n",
       "      <th>tr_volume_quote</th>\n",
       "      <th>tr_vwap</th>\n",
       "      <th>tr_buy_sell_imbalance</th>\n",
       "      <th>spot_price</th>\n",
       "      <th>perp_mark_price</th>\n",
       "      <th>basis_abs</th>\n",
       "      <th>basis_pct</th>\n",
       "      <th>funding_rate</th>\n",
       "      <th>next_funding_time_ms</th>\n",
       "    </tr>\n",
       "  </thead>\n",
       "  <tbody>\n",
       "    <tr>\n",
       "      <th>29396</th>\n",
       "      <td>BTCUSDT</td>\n",
       "      <td>1757235398782</td>\n",
       "      <td>2025-09-07T08:56:38.782629+00:00</td>\n",
       "      <td>1757235360000</td>\n",
       "      <td>111064.48</td>\n",
       "      <td>111064.49</td>\n",
       "      <td>111056.56</td>\n",
       "      <td>111056.57</td>\n",
       "      <td>2.20840</td>\n",
       "      <td>1757235419999</td>\n",
       "      <td>...</td>\n",
       "      <td>13.34440</td>\n",
       "      <td>1.482838e+06</td>\n",
       "      <td>111120.587469</td>\n",
       "      <td>-0.743010</td>\n",
       "      <td>111056.56</td>\n",
       "      <td>111012.000000</td>\n",
       "      <td>-44.560000</td>\n",
       "      <td>-0.000401</td>\n",
       "      <td>0.000057</td>\n",
       "      <td>1757260800000</td>\n",
       "    </tr>\n",
       "    <tr>\n",
       "      <th>29397</th>\n",
       "      <td>BTCUSDT</td>\n",
       "      <td>1757235458832</td>\n",
       "      <td>2025-09-07T08:57:38.832643+00:00</td>\n",
       "      <td>1757235420000</td>\n",
       "      <td>111056.57</td>\n",
       "      <td>111056.57</td>\n",
       "      <td>111056.56</td>\n",
       "      <td>111056.57</td>\n",
       "      <td>1.36043</td>\n",
       "      <td>1757235479999</td>\n",
       "      <td>...</td>\n",
       "      <td>14.19905</td>\n",
       "      <td>1.577770e+06</td>\n",
       "      <td>111118.009205</td>\n",
       "      <td>-0.770104</td>\n",
       "      <td>111056.57</td>\n",
       "      <td>111009.024457</td>\n",
       "      <td>-47.545543</td>\n",
       "      <td>-0.000428</td>\n",
       "      <td>0.000057</td>\n",
       "      <td>1757260800000</td>\n",
       "    </tr>\n",
       "    <tr>\n",
       "      <th>29398</th>\n",
       "      <td>BTCUSDT</td>\n",
       "      <td>1757235518882</td>\n",
       "      <td>2025-09-07T08:58:38.882621+00:00</td>\n",
       "      <td>1757235480000</td>\n",
       "      <td>111056.56</td>\n",
       "      <td>111056.57</td>\n",
       "      <td>111056.56</td>\n",
       "      <td>111056.57</td>\n",
       "      <td>1.23647</td>\n",
       "      <td>1757235539999</td>\n",
       "      <td>...</td>\n",
       "      <td>8.16041</td>\n",
       "      <td>9.065610e+05</td>\n",
       "      <td>111092.576224</td>\n",
       "      <td>-0.587442</td>\n",
       "      <td>111056.57</td>\n",
       "      <td>111003.800000</td>\n",
       "      <td>-52.770000</td>\n",
       "      <td>-0.000475</td>\n",
       "      <td>0.000058</td>\n",
       "      <td>1757260800000</td>\n",
       "    </tr>\n",
       "    <tr>\n",
       "      <th>29399</th>\n",
       "      <td>BTCUSDT</td>\n",
       "      <td>1757235578942</td>\n",
       "      <td>2025-09-07T08:59:38.942235+00:00</td>\n",
       "      <td>1757235540000</td>\n",
       "      <td>111056.57</td>\n",
       "      <td>111071.25</td>\n",
       "      <td>111056.56</td>\n",
       "      <td>111071.25</td>\n",
       "      <td>8.48946</td>\n",
       "      <td>1757235599999</td>\n",
       "      <td>...</td>\n",
       "      <td>7.84490</td>\n",
       "      <td>8.714298e+05</td>\n",
       "      <td>111082.330495</td>\n",
       "      <td>-0.861344</td>\n",
       "      <td>111071.25</td>\n",
       "      <td>111035.600000</td>\n",
       "      <td>-35.650000</td>\n",
       "      <td>-0.000321</td>\n",
       "      <td>0.000058</td>\n",
       "      <td>1757260800000</td>\n",
       "    </tr>\n",
       "    <tr>\n",
       "      <th>29400</th>\n",
       "      <td>BTCUSDT</td>\n",
       "      <td>1757235638992</td>\n",
       "      <td>2025-09-07T09:00:38.992628+00:00</td>\n",
       "      <td>1757235600000</td>\n",
       "      <td>111071.25</td>\n",
       "      <td>111071.25</td>\n",
       "      <td>111071.24</td>\n",
       "      <td>111071.25</td>\n",
       "      <td>2.93395</td>\n",
       "      <td>1757235659999</td>\n",
       "      <td>...</td>\n",
       "      <td>8.17185</td>\n",
       "      <td>9.075995e+05</td>\n",
       "      <td>111064.142909</td>\n",
       "      <td>-0.800718</td>\n",
       "      <td>111071.25</td>\n",
       "      <td>111028.000000</td>\n",
       "      <td>-43.250000</td>\n",
       "      <td>-0.000389</td>\n",
       "      <td>0.000058</td>\n",
       "      <td>1757260800000</td>\n",
       "    </tr>\n",
       "  </tbody>\n",
       "</table>\n",
       "<p>5 rows × 37 columns</p>\n",
       "</div>"
      ],
      "text/plain": [
       "        symbol          ts_ms                           iso_utc  \\\n",
       "29396  BTCUSDT  1757235398782  2025-09-07T08:56:38.782629+00:00   \n",
       "29397  BTCUSDT  1757235458832  2025-09-07T08:57:38.832643+00:00   \n",
       "29398  BTCUSDT  1757235518882  2025-09-07T08:58:38.882621+00:00   \n",
       "29399  BTCUSDT  1757235578942  2025-09-07T08:59:38.942235+00:00   \n",
       "29400  BTCUSDT  1757235638992  2025-09-07T09:00:38.992628+00:00   \n",
       "\n",
       "        ohlc_ts_open  ohlc_open  ohlc_high   ohlc_low  ohlc_close  \\\n",
       "29396  1757235360000  111064.48  111064.49  111056.56   111056.57   \n",
       "29397  1757235420000  111056.57  111056.57  111056.56   111056.57   \n",
       "29398  1757235480000  111056.56  111056.57  111056.56   111056.57   \n",
       "29399  1757235540000  111056.57  111071.25  111056.56   111071.25   \n",
       "29400  1757235600000  111071.25  111071.25  111071.24   111071.25   \n",
       "\n",
       "       ohlc_volume  ohlc_ts_close  ...  tr_volume_base  tr_volume_quote  \\\n",
       "29396      2.20840  1757235419999  ...        13.34440     1.482838e+06   \n",
       "29397      1.36043  1757235479999  ...        14.19905     1.577770e+06   \n",
       "29398      1.23647  1757235539999  ...         8.16041     9.065610e+05   \n",
       "29399      8.48946  1757235599999  ...         7.84490     8.714298e+05   \n",
       "29400      2.93395  1757235659999  ...         8.17185     9.075995e+05   \n",
       "\n",
       "             tr_vwap  tr_buy_sell_imbalance  spot_price  perp_mark_price  \\\n",
       "29396  111120.587469              -0.743010   111056.56    111012.000000   \n",
       "29397  111118.009205              -0.770104   111056.57    111009.024457   \n",
       "29398  111092.576224              -0.587442   111056.57    111003.800000   \n",
       "29399  111082.330495              -0.861344   111071.25    111035.600000   \n",
       "29400  111064.142909              -0.800718   111071.25    111028.000000   \n",
       "\n",
       "       basis_abs  basis_pct  funding_rate  next_funding_time_ms  \n",
       "29396 -44.560000  -0.000401      0.000057         1757260800000  \n",
       "29397 -47.545543  -0.000428      0.000057         1757260800000  \n",
       "29398 -52.770000  -0.000475      0.000058         1757260800000  \n",
       "29399 -35.650000  -0.000321      0.000058         1757260800000  \n",
       "29400 -43.250000  -0.000389      0.000058         1757260800000  \n",
       "\n",
       "[5 rows x 37 columns]"
      ]
     },
     "execution_count": 5,
     "metadata": {},
     "output_type": "execute_result"
    }
   ],
   "source": [
    "# define dataset\n",
    "dataset = ds.dataset(\n",
    "    \"/Users/bobet/Documents/Code Repository/Trading-Systems/_datasets\",\n",
    "    format=\"parquet\")\n",
    "\n",
    "# push filter into Arrow scan (faster, uses partition pruning if possible)\n",
    "table = dataset.to_table(filter=ds.field(\"symbol\") == \"BTCUSDT\")\n",
    "\n",
    "# convert to pandasssss\n",
    "df = table.to_pandas()\n",
    "df.tail()"
   ]
  },
  {
   "cell_type": "code",
   "execution_count": 6,
   "metadata": {},
   "outputs": [
    {
     "data": {
      "text/plain": [
       "Index(['symbol', 'ts_ms', 'iso_utc', 'ohlc_ts_open', 'ohlc_open', 'ohlc_high',\n",
       "       'ohlc_low', 'ohlc_close', 'ohlc_volume', 'ohlc_ts_close', 'ohlc_trades',\n",
       "       'ohlc_taker_base', 'ohlc_taker_quote', 'l1_bid', 'l1_ask', 'l1_mid',\n",
       "       'l1_spread', 'l1_bid_qty', 'l1_ask_qty', 'l1_imbalance', 'l2_bid_depth',\n",
       "       'l2_ask_depth', 'l2_depth_asymmetry', 'l2_bid_vwap', 'l2_ask_vwap',\n",
       "       'l2_bid_slope', 'l2_ask_slope', 'tr_volume_base', 'tr_volume_quote',\n",
       "       'tr_vwap', 'tr_buy_sell_imbalance', 'spot_price', 'perp_mark_price',\n",
       "       'basis_abs', 'basis_pct', 'funding_rate', 'next_funding_time_ms'],\n",
       "      dtype='object')"
      ]
     },
     "execution_count": 6,
     "metadata": {},
     "output_type": "execute_result"
    }
   ],
   "source": [
    "#features\n",
    "df.columns"
   ]
  },
  {
   "cell_type": "code",
   "execution_count": 7,
   "metadata": {},
   "outputs": [
    {
     "name": "stdout",
     "output_type": "stream",
     "text": [
      "<class 'pandas.core.frame.DataFrame'>\n",
      "RangeIndex: 29401 entries, 0 to 29400\n",
      "Data columns (total 37 columns):\n",
      " #   Column                 Non-Null Count  Dtype  \n",
      "---  ------                 --------------  -----  \n",
      " 0   symbol                 29401 non-null  object \n",
      " 1   ts_ms                  29401 non-null  int64  \n",
      " 2   iso_utc                29401 non-null  object \n",
      " 3   ohlc_ts_open           29401 non-null  int64  \n",
      " 4   ohlc_open              29401 non-null  float64\n",
      " 5   ohlc_high              29401 non-null  float64\n",
      " 6   ohlc_low               29401 non-null  float64\n",
      " 7   ohlc_close             29401 non-null  float64\n",
      " 8   ohlc_volume            29401 non-null  float64\n",
      " 9   ohlc_ts_close          29401 non-null  int64  \n",
      " 10  ohlc_trades            29401 non-null  int64  \n",
      " 11  ohlc_taker_base        29401 non-null  float64\n",
      " 12  ohlc_taker_quote       29401 non-null  float64\n",
      " 13  l1_bid                 29401 non-null  float64\n",
      " 14  l1_ask                 29401 non-null  float64\n",
      " 15  l1_mid                 29401 non-null  float64\n",
      " 16  l1_spread              29401 non-null  float64\n",
      " 17  l1_bid_qty             29401 non-null  float64\n",
      " 18  l1_ask_qty             29401 non-null  float64\n",
      " 19  l1_imbalance           29401 non-null  float64\n",
      " 20  l2_bid_depth           29401 non-null  float64\n",
      " 21  l2_ask_depth           29401 non-null  float64\n",
      " 22  l2_depth_asymmetry     29401 non-null  float64\n",
      " 23  l2_bid_vwap            29401 non-null  float64\n",
      " 24  l2_ask_vwap            29401 non-null  float64\n",
      " 25  l2_bid_slope           29401 non-null  float64\n",
      " 26  l2_ask_slope           29401 non-null  float64\n",
      " 27  tr_volume_base         29401 non-null  float64\n",
      " 28  tr_volume_quote        29401 non-null  float64\n",
      " 29  tr_vwap                29401 non-null  float64\n",
      " 30  tr_buy_sell_imbalance  29401 non-null  float64\n",
      " 31  spot_price             29401 non-null  float64\n",
      " 32  perp_mark_price        29401 non-null  float64\n",
      " 33  basis_abs              29401 non-null  float64\n",
      " 34  basis_pct              29401 non-null  float64\n",
      " 35  funding_rate           29401 non-null  float64\n",
      " 36  next_funding_time_ms   29401 non-null  int64  \n",
      "dtypes: float64(30), int64(5), object(2)\n",
      "memory usage: 8.3+ MB\n"
     ]
    }
   ],
   "source": [
    "sample_size = df.count()[0]\n",
    "df.info()"
   ]
  },
  {
   "cell_type": "markdown",
   "metadata": {},
   "source": [
    "## Raw Features\n",
    "\n",
    "### General\n",
    "- **symbol**: Trading pair identifier (e.g., BTCUSDT).  \n",
    "- **ts_ms**: Data timestamp in milliseconds (epoch time).  \n",
    "- **iso_utc**: Data timestamp in human-readable UTC format.  \n",
    "\n",
    "### OHLC Data (Candlestick)\n",
    "- **ohlc_ts_open**: Opening timestamp for the candlestick period.  \n",
    "- **ohlc_open**: Opening price of the candlestick.  \n",
    "- **ohlc_high**: Highest price within the candlestick.  \n",
    "- **ohlc_low**: Lowest price within the candlestick.  \n",
    "- **ohlc_close**: Closing price of the candlestick.  \n",
    "- **ohlc_volume**: Trading volume during the candlestick (base asset units).  \n",
    "- **ohlc_ts_close**: Closing timestamp for the candlestick period.  \n",
    "- **ohlc_trades**: Number of trades in the candlestick.  \n",
    "- **ohlc_taker_base**: Base asset volume traded by takers (aggressors).  \n",
    "- **ohlc_taker_quote**: Quote asset volume traded by takers.  \n",
    "\n",
    "### Level 1 Order Book (Top of Book)\n",
    "- **l1_bid**: Best bid price (highest buy order).  \n",
    "- **l1_ask**: Best ask price (lowest sell order).  \n",
    "- **l1_mid**: Midpoint price between bid and ask.  \n",
    "- **l1_spread**: Difference between best ask and bid (ask - bid).  \n",
    "- **l1_bid_qty**: Quantity available at best bid.  \n",
    "- **l1_ask_qty**: Quantity available at best ask.  \n",
    "- **l1_imbalance**: Order book imbalance at Level 1 = (bid_qty – ask_qty) / (bid_qty + ask_qty).  \n",
    "\n",
    "### Level 2 Order Book (Depth of Market)\n",
    "- **l2_bid_depth**: Total buy-side liquidity across multiple bid levels.  \n",
    "- **l2_ask_depth**: Total sell-side liquidity across multiple ask levels.  \n",
    "- **l2_depth_asymmetry**: Relative difference between bid and ask depth.  \n",
    "- **l2_bid_vwap**: Volume-weighted average bid price across order book levels.  \n",
    "- **l2_ask_vwap**: Volume-weighted average ask price across order book levels.  \n",
    "- **l2_bid_slope**: Measure of how steeply bid prices rise with quantity (liquidity gradient).  \n",
    "- **l2_ask_slope**: Measure of how steeply ask prices rise with quantity.  \n",
    "\n",
    "### Trade Data\n",
    "- **tr_volume_base**: Total traded volume in base asset.  \n",
    "- **tr_volume_quote**: Total traded volume in quote asset.  \n",
    "- **tr_vwap**: Trade volume-weighted average price.  \n",
    "- **tr_buy_sell_imbalance**: Difference between buy-initiated and sell-initiated trade volumes.  \n",
    "\n",
    "### Derived Prices\n",
    "- **spot_price**: Current spot market price.  \n",
    "- **perp_mark_price**: Mark price used in perpetual futures to avoid manipulation.  \n",
    "- **basis_abs**: Absolute difference between perpetual mark price and spot price.  \n",
    "- **basis_pct**: Percentage difference between perpetual mark price and spot price.  \n",
    "- **funding_rate**: Periodic payment rate between long and short positions in perpetual contracts.  \n",
    "- **next_funding_time_ms**: Timestamp (ms) of the next funding event.  "
   ]
  },
  {
   "cell_type": "markdown",
   "metadata": {},
   "source": [
    "## Data hygiene & storage\n",
    "\n",
    "✔ Why: storage efficiency + ordering. A 10GB dataset may shrink to ~3-4GB when optimized."
   ]
  },
  {
   "cell_type": "code",
   "execution_count": 8,
   "metadata": {},
   "outputs": [],
   "source": [
    "# Ensure correct dtypes (saves memory on 10GB dataset)\n",
    "dtype_map = {\n",
    "    \"symbol\": \"category\",\n",
    "    \"ohlc_open\": \"float32\", \"ohlc_high\": \"float32\", \"ohlc_low\": \"float32\", \"ohlc_close\": \"float32\",\n",
    "    \"ohlc_volume\": \"float32\", \"ohlc_trades\": \"int32\",\n",
    "    \"ohlc_taker_base\": \"float32\", \"ohlc_taker_quote\": \"float32\",\n",
    "    \"l1_bid\": \"float32\", \"l1_ask\": \"float32\", \"l1_mid\": \"float32\", \"l1_spread\": \"float32\",\n",
    "    \"l1_bid_qty\": \"float32\", \"l1_ask_qty\": \"float32\", \"l1_imbalance\": \"float32\",\n",
    "    \"l2_bid_depth\": \"float32\", \"l2_ask_depth\": \"float32\", \"l2_depth_asymmetry\": \"float32\",\n",
    "    \"l2_bid_vwap\": \"float32\", \"l2_ask_vwap\": \"float32\",\n",
    "    \"l2_bid_slope\": \"float32\", \"l2_ask_slope\": \"float32\",\n",
    "    \"tr_volume_base\": \"float32\", \"tr_volume_quote\": \"float32\", \"tr_vwap\": \"float32\",\n",
    "    \"tr_buy_sell_imbalance\": \"float32\",\n",
    "    \"spot_price\": \"float32\", \"perp_mark_price\": \"float32\",\n",
    "    \"basis_abs\": \"float32\", \"basis_pct\": \"float32\", \"funding_rate\": \"float32\"\n",
    "}\n",
    "\n",
    "df = df.astype(dtype_map)\n",
    "\n",
    "# Make sure timestamp is datetime\n",
    "df[\"iso_utc\"] = pd.to_datetime(df[\"iso_utc\"])\n",
    "df = df.set_index(\"iso_utc\").sort_index()\n",
    "\n",
    "\n",
    "#Intergrity Check\n",
    "# Drop duplicates, check ordering\n",
    "df = df[~df.index.duplicated(keep=\"first\")].sort_index()\n",
    "\n",
    "# Sanity checks for OHLC\n",
    "mask = (\n",
    "    (df[\"ohlc_low\"] <= df[\"ohlc_open\"]) &\n",
    "    (df[\"ohlc_low\"] <= df[\"ohlc_close\"]) &\n",
    "    (df[\"ohlc_high\"] >= df[\"ohlc_open\"]) &\n",
    "    (df[\"ohlc_high\"] >= df[\"ohlc_close\"])\n",
    ")\n",
    "df = df[mask]\n",
    "\n",
    "# Check non-negative volumes\n",
    "df = df[df[\"ohlc_volume\"] >= 0]"
   ]
  },
  {
   "cell_type": "code",
   "execution_count": 75,
   "metadata": {},
   "outputs": [
    {
     "data": {
      "text/html": [
       "<div>\n",
       "<style scoped>\n",
       "    .dataframe tbody tr th:only-of-type {\n",
       "        vertical-align: middle;\n",
       "    }\n",
       "\n",
       "    .dataframe tbody tr th {\n",
       "        vertical-align: top;\n",
       "    }\n",
       "\n",
       "    .dataframe thead th {\n",
       "        text-align: right;\n",
       "    }\n",
       "</style>\n",
       "<table border=\"1\" class=\"dataframe\">\n",
       "  <thead>\n",
       "    <tr style=\"text-align: right;\">\n",
       "      <th></th>\n",
       "      <th>Sampling_Scheme</th>\n",
       "      <th>n_trials</th>\n",
       "      <th>n_samples</th>\n",
       "      <th>window_size_for_expected_n_ticks_estimation</th>\n",
       "      <th>window_size_for_expected_imbalance_estimation</th>\n",
       "      <th>initial_estimate_of_expected_n_ticks_in_bar</th>\n",
       "      <th>batch_size</th>\n",
       "      <th>Shapiro-Wilk_statistic</th>\n",
       "      <th>Shapiro-Wilk_pvalue</th>\n",
       "    </tr>\n",
       "  </thead>\n",
       "  <tbody>\n",
       "    <tr>\n",
       "      <th>0</th>\n",
       "      <td>imbalance bar_tick</td>\n",
       "      <td>NaN</td>\n",
       "      <td>29401</td>\n",
       "      <td>5</td>\n",
       "      <td>10000</td>\n",
       "      <td>20000</td>\n",
       "      <td>1000000</td>\n",
       "      <td>0.860134</td>\n",
       "      <td>0.000000</td>\n",
       "    </tr>\n",
       "    <tr>\n",
       "      <th>1</th>\n",
       "      <td>imbalance bar_volume</td>\n",
       "      <td>NaN</td>\n",
       "      <td>29401</td>\n",
       "      <td>5</td>\n",
       "      <td>10000</td>\n",
       "      <td>20000</td>\n",
       "      <td>1000000</td>\n",
       "      <td>0.966333</td>\n",
       "      <td>0.870860</td>\n",
       "    </tr>\n",
       "    <tr>\n",
       "      <th>2</th>\n",
       "      <td>imbalance bar_dollar</td>\n",
       "      <td>NaN</td>\n",
       "      <td>29401</td>\n",
       "      <td>5</td>\n",
       "      <td>10000</td>\n",
       "      <td>20000</td>\n",
       "      <td>1000000</td>\n",
       "      <td>0.961657</td>\n",
       "      <td>0.832820</td>\n",
       "    </tr>\n",
       "    <tr>\n",
       "      <th>3</th>\n",
       "      <td>run_bars_tick</td>\n",
       "      <td>NaN</td>\n",
       "      <td>29401</td>\n",
       "      <td>5</td>\n",
       "      <td>10000</td>\n",
       "      <td>20000</td>\n",
       "      <td>1000000</td>\n",
       "      <td>NaN</td>\n",
       "      <td>NaN</td>\n",
       "    </tr>\n",
       "    <tr>\n",
       "      <th>4</th>\n",
       "      <td>run_bars_volume</td>\n",
       "      <td>NaN</td>\n",
       "      <td>29401</td>\n",
       "      <td>5</td>\n",
       "      <td>10000</td>\n",
       "      <td>20000</td>\n",
       "      <td>1000000</td>\n",
       "      <td>NaN</td>\n",
       "      <td>NaN</td>\n",
       "    </tr>\n",
       "    <tr>\n",
       "      <th>5</th>\n",
       "      <td>run_bars_dollar</td>\n",
       "      <td>NaN</td>\n",
       "      <td>29401</td>\n",
       "      <td>5</td>\n",
       "      <td>10000</td>\n",
       "      <td>20000</td>\n",
       "      <td>1000000</td>\n",
       "      <td>NaN</td>\n",
       "      <td>NaN</td>\n",
       "    </tr>\n",
       "    <tr>\n",
       "      <th>6</th>\n",
       "      <td>run_bars_dollar</td>\n",
       "      <td>NaN</td>\n",
       "      <td>29401</td>\n",
       "      <td>100</td>\n",
       "      <td>1000</td>\n",
       "      <td>500</td>\n",
       "      <td>1000000</td>\n",
       "      <td>0.971702</td>\n",
       "      <td>0.567037</td>\n",
       "    </tr>\n",
       "  </tbody>\n",
       "</table>\n",
       "</div>"
      ],
      "text/plain": [
       "        Sampling_Scheme  n_trials  n_samples  \\\n",
       "0    imbalance bar_tick       NaN      29401   \n",
       "1  imbalance bar_volume       NaN      29401   \n",
       "2  imbalance bar_dollar       NaN      29401   \n",
       "3         run_bars_tick       NaN      29401   \n",
       "4       run_bars_volume       NaN      29401   \n",
       "5       run_bars_dollar       NaN      29401   \n",
       "6       run_bars_dollar       NaN      29401   \n",
       "\n",
       "   window_size_for_expected_n_ticks_estimation  \\\n",
       "0                                            5   \n",
       "1                                            5   \n",
       "2                                            5   \n",
       "3                                            5   \n",
       "4                                            5   \n",
       "5                                            5   \n",
       "6                                          100   \n",
       "\n",
       "   window_size_for_expected_imbalance_estimation  \\\n",
       "0                                          10000   \n",
       "1                                          10000   \n",
       "2                                          10000   \n",
       "3                                          10000   \n",
       "4                                          10000   \n",
       "5                                          10000   \n",
       "6                                           1000   \n",
       "\n",
       "   initial_estimate_of_expected_n_ticks_in_bar  batch_size  \\\n",
       "0                                        20000     1000000   \n",
       "1                                        20000     1000000   \n",
       "2                                        20000     1000000   \n",
       "3                                        20000     1000000   \n",
       "4                                        20000     1000000   \n",
       "5                                        20000     1000000   \n",
       "6                                          500     1000000   \n",
       "\n",
       "   Shapiro-Wilk_statistic  Shapiro-Wilk_pvalue  \n",
       "0                0.860134             0.000000  \n",
       "1                0.966333             0.870860  \n",
       "2                0.961657             0.832820  \n",
       "3                     NaN                  NaN  \n",
       "4                     NaN                  NaN  \n",
       "5                     NaN                  NaN  \n",
       "6                0.971702             0.567037  "
      ]
     },
     "execution_count": 75,
     "metadata": {},
     "output_type": "execute_result"
    }
   ],
   "source": [
    "# Load JSON\n",
    "params = pd.read_json(\"params_resampling-scheme.json\")\n",
    "params"
   ]
  },
  {
   "cell_type": "markdown",
   "metadata": {},
   "source": [
    "# Utilily Functions"
   ]
  },
  {
   "cell_type": "markdown",
   "metadata": {},
   "source": [
    "## Helper Functions"
   ]
  },
  {
   "cell_type": "markdown",
   "metadata": {},
   "source": [
    "Summed (additive counts / volumes)\n",
    "\n",
    "We sum over the ticks inside each bar:\n",
    "\t•\tohlc_trades\n",
    "\t•\tohlc_taker_base\n",
    "\t•\tohlc_taker_quote\n",
    "\t•\ttr_volume_base\n",
    "\t•\ttr_volume_quote\n",
    "\n",
    "⸻\n",
    "\n",
    "Last (state-like snapshots, take the latest tick in the bar)\n",
    "\n",
    "We forward-fill within the bar only, then take the last available value:\n",
    "\t•\tl1_bid, l1_ask, l1_mid, l1_spread\n",
    "\t•\tl1_bid_qty, l1_ask_qty, l1_imbalance\n",
    "\t•\tl2_bid_depth, l2_ask_depth, l2_depth_asymmetry\n",
    "\t•\tl2_bid_vwap, l2_ask_vwap, l2_bid_slope, l2_ask_slope\n",
    "\t•\tspot_price, perp_mark_price\n",
    "\t•\tbasis_abs, basis_pct\n",
    "\t•\tfunding_rate, next_funding_time_ms\n",
    "\n",
    "(These are “levels” or “state variables” you’d want at the bar close.)\n",
    "\n",
    "⸻\n",
    "\n",
    "Mean (averaged inside the bar)\n",
    "\t•\ttr_buy_sell_imbalance\n",
    "\n",
    "⸻\n",
    "\n",
    "Weighted mean (value × volume / total volume)\n",
    "\t•\ttr_vwap (weighted by tr_volume_base)\n",
    "\n",
    "(This is the standard definition of VWAP: average trade price weighted by base-asset volume.)"
   ]
  },
  {
   "cell_type": "code",
   "execution_count": 10,
   "metadata": {},
   "outputs": [],
   "source": [
    "from __future__ import annotations\n",
    "\n",
    "from typing import Callable, Iterable, Mapping, Optional\n",
    "\n",
    "\n",
    "# --- replace the helper entirely ---\n",
    "def _to_utc_series(s: pd.Series, *, assume_unit_ms: bool | None = None) -> pd.Series:\n",
    "    \"\"\"\n",
    "    Coerce a time-like Series to timezone-aware UTC pandas Timestamps.\n",
    "    - If the Series is integer-like, interpret as Unix milliseconds.\n",
    "    - If tz-aware, convert to UTC (no-op if already UTC).\n",
    "    - If naive datetime or object, parse and localize to UTC.\n",
    "    \"\"\"\n",
    "\n",
    "\n",
    "    # Auto-detect integer-ms if not explicitly passed\n",
    "    if assume_unit_ms is None:\n",
    "        assume_unit_ms = pd.api.types.is_integer_dtype(s)\n",
    "\n",
    "    if assume_unit_ms:\n",
    "        return pd.to_datetime(s.astype(\"int64\"), unit=\"ms\", utc=True)\n",
    "\n",
    "    if pd.api.types.is_datetime64tz_dtype(s):\n",
    "        # Already tz-aware: just convert to UTC\n",
    "        return s.dt.tz_convert(\"UTC\")\n",
    "\n",
    "    # Covers naive datetime64[ns], object, string, etc.\n",
    "    return pd.to_datetime(s, utc=True, errors=\"coerce\")\n",
    "\n",
    "\n",
    "def _ensure_datetime_naive_ns_utc(s_aware: pd.Series) -> pd.Series:\n",
    "    \"\"\"\n",
    "    Convert timezone-aware UTC timestamps to naive datetime64[ns] in UTC\n",
    "    (i.e., drop tz info). This is convenient for binning with pd.cut.\n",
    "    \"\"\"\n",
    "    if not pd.api.types.is_datetime64tz_dtype(s_aware.dtype):\n",
    "        raise TypeError(\"Expected tz-aware datetime64[ns, UTC] series.\")\n",
    "    return s_aware.dt.tz_convert(\"UTC\").dt.tz_localize(None)\n",
    "\n",
    "\n",
    "def _default_agg_spec(feature_cols: Iterable[str]) -> tuple[dict[str, str], dict[str, tuple[str, str]]]:\n",
    "    \"\"\"\n",
    "    Build default aggregation maps given the available columns.\n",
    "    Returns (agg_spec, weighted_cols).\n",
    "    \"\"\"\n",
    "    vol_sum = {\n",
    "        'ohlc_trades','ohlc_taker_base','ohlc_taker_quote',\n",
    "        'tr_volume_base','tr_volume_quote'\n",
    "    }\n",
    "    last_like = {\n",
    "        'l1_bid','l1_ask','l1_mid','l1_spread',\n",
    "        'l1_bid_qty','l1_ask_qty','l1_imbalance',\n",
    "        'l2_bid_depth','l2_ask_depth','l2_depth_asymmetry',\n",
    "        'l2_bid_vwap','l2_ask_vwap','l2_bid_slope','l2_ask_slope',\n",
    "        'spot_price','perp_mark_price','basis_abs','basis_pct',\n",
    "        'funding_rate','next_funding_time_ms'\n",
    "    }\n",
    "    mean_like = {'tr_buy_sell_imbalance'}\n",
    "\n",
    "    agg: dict[str, str] = {}\n",
    "    for c in feature_cols:\n",
    "        if c in vol_sum:\n",
    "            agg[c] = \"sum\"\n",
    "        elif c in last_like:\n",
    "            agg[c] = \"last\"\n",
    "        elif c in mean_like:\n",
    "            agg[c] = \"mean\"\n",
    "\n",
    "    weighted: dict[str, tuple[str, str]] = {}\n",
    "    # VWAP-like default if both columns exist\n",
    "    if 'tr_vwap' in feature_cols and 'tr_volume_base' in feature_cols:\n",
    "        weighted['tr_vwap'] = ('tr_vwap', 'tr_volume_base')\n",
    "\n",
    "    return agg, weighted\n",
    "\n",
    "\n",
    "def attach_extra_features_to_bars(\n",
    "    df: pd.DataFrame,\n",
    "    bars: pd.DataFrame,\n",
    "    feature_cols: list[str],\n",
    "    *,\n",
    "    time_col: str = \"ts_ms\",\n",
    "    bar_time_col: str = \"Date Time\",\n",
    "    agg_spec: Optional[Mapping[str, str | Callable]] = None,\n",
    "    weighted_cols: Optional[Mapping[str, tuple[str, str]]] = None,\n",
    "    drop_empty: bool = False,\n",
    ") -> pd.DataFrame:\n",
    "    \"\"\"\n",
    "    Aggregate tick-level features from `df` into expected tick-imbalance bars `bars`.\n",
    "\n",
    "    For each bar i with close time T_i (bars[bar_time_col]) and previous close T_{i-1},\n",
    "    aggregate df rows whose time is in (T_{i-1}, T_i] (left-open, right-closed).\n",
    "    The first bar uses (-inf, T_0].\n",
    "\n",
    "    Aggregations:\n",
    "      * `agg_spec`: mapping {col: reduction}, where reduction is a pandas\n",
    "        reduction name (e.g., 'sum','mean','last','max','min') or a callable.\n",
    "      * `weighted_cols`: mapping {out_col: (value_col, weight_col)} computing\n",
    "        sum(value*weight)/sum(weight) per bar. When the weight sum is zero (or\n",
    "        no rows fall into the interval), result is NaN.\n",
    "\n",
    "    Timestamp handling:\n",
    "      * Robustly coerces both `df[time_col]` and `bars[bar_time_col]` to tz-aware\n",
    "        UTC timestamps. Integer ms are supported (interpreted as Unix ms).\n",
    "      * Sorting is applied internally; original `bars` order and index are preserved.\n",
    "\n",
    "    Special rules:\n",
    "      * For columns aggregated with 'last', values are forward-filled *within the\n",
    "        same bar only* before taking the last, to make 'last' robust against\n",
    "        missing ticks inside the bar. No forward filling across bars.\n",
    "      * Empty intervals produce NaNs. Set `drop_empty=True` to drop those bars\n",
    "        **from the returned DataFrame** (i.e., fewer rows than input `bars`).\n",
    "\n",
    "    Implementation notes:\n",
    "      * Uses a categorical bin index via `pd.cut` with bins (-inf, T_0], (T_0, T_1], ...\n",
    "        to avoid O(N*M) loops.\n",
    "      * Preserves the input `bars` index and order (unless `drop_empty=True`).\n",
    "      * New columns are named `{col}_bar`.\n",
    "\n",
    "    Parameters\n",
    "    ----------\n",
    "    df : pd.DataFrame\n",
    "        Tick-level data with at least `time_col` and requested feature columns.\n",
    "    bars : pd.DataFrame\n",
    "        Bar dataframe with at least `bar_time_col` and a row per bar close time.\n",
    "    feature_cols : list[str]\n",
    "        Columns from `df` to aggregate (some may be produced via `weighted_cols`).\n",
    "    time_col : str, default 'ts_ms'\n",
    "        Column in `df` containing tick timestamps (int ms or datetime-like).\n",
    "    bar_time_col : str, default 'Date Time'\n",
    "        Column in `bars` containing bar close timestamps (tz-aware or UTC-naive).\n",
    "    agg_spec : dict[str, str | Callable] | None\n",
    "        Map of simple aggregations for selected columns (see above).\n",
    "        If None, sensible defaults are used (per the prompt).\n",
    "    weighted_cols : dict[str, tuple[str, str]] | None\n",
    "        Map for weighted averages: {out_col: (value_col, weight_col)}.\n",
    "        Defaults include tr_vwap weighted by tr_volume_base if available.\n",
    "    drop_empty : bool, default False\n",
    "        If True, rows where *all new aggregated columns* are NaN are dropped\n",
    "        from the returned DataFrame.\n",
    "\n",
    "    Returns\n",
    "    -------\n",
    "    pd.DataFrame\n",
    "        A copy of `bars` with additional aggregated columns appended.\n",
    "\n",
    "    Raises\n",
    "    ------\n",
    "    KeyError\n",
    "        If required columns are missing in `df` or `bars`.\n",
    "    TypeError / ValueError\n",
    "        On invalid dtypes or aggregation specifications.\n",
    "    \"\"\"\n",
    "    # --- Parameter validation -------------------------------------------------\n",
    "    if not isinstance(df, pd.DataFrame):\n",
    "        raise TypeError(\"`df` must be a pandas DataFrame.\")\n",
    "    if not isinstance(bars, pd.DataFrame):\n",
    "        raise TypeError(\"`bars` must be a pandas DataFrame.\")\n",
    "    if not isinstance(feature_cols, (list, tuple)):\n",
    "        raise TypeError(\"`feature_cols` must be a list of column names.\")\n",
    "\n",
    "    for col in [time_col]:\n",
    "        if col not in df.columns:\n",
    "            raise KeyError(f\"`df` is missing required time column: {col!r}\")\n",
    "    if bar_time_col not in bars.columns:\n",
    "        raise KeyError(f\"`bars` is missing required column: {bar_time_col!r}\")\n",
    "\n",
    "    # Determine default agg/weighted if not provided\n",
    "    if agg_spec is None or weighted_cols is None:\n",
    "        dflt_agg, dflt_weighted = _default_agg_spec(feature_cols)\n",
    "        agg_spec = dflt_agg if agg_spec is None else dict(agg_spec)\n",
    "        # merge defaults with user-provided, user overrides defaults\n",
    "        weighted_cols = dflt_weighted | (weighted_cols or {})\n",
    "\n",
    "    # Validate agg_spec values\n",
    "    valid_reductions = {\n",
    "        \"sum\", \"mean\", \"last\", \"first\", \"min\", \"max\", \"median\", \"std\", \"var\"\n",
    "    }\n",
    "    for k, v in agg_spec.items():\n",
    "        if not (callable(v) or (isinstance(v, str) and v in valid_reductions)):\n",
    "            raise ValueError(\n",
    "                f\"agg_spec[{k!r}] must be a callable or one of {sorted(valid_reductions)}; got {v!r}\"\n",
    "            )\n",
    "\n",
    "    # Validate presence of required columns in df for simple aggs\n",
    "    simple_cols = [c for c in feature_cols if c in agg_spec]\n",
    "    missing_simple = [c for c in simple_cols if c not in df.columns]\n",
    "    if missing_simple:\n",
    "        raise KeyError(f\"`df` is missing required feature columns for agg_spec: {missing_simple}\")\n",
    "\n",
    "    # Validate weighted columns\n",
    "    weighted_cols = dict(weighted_cols or {})\n",
    "    for out_col, (val_col, w_col) in weighted_cols.items():\n",
    "        if val_col not in df.columns or w_col not in df.columns:\n",
    "            raise KeyError(\n",
    "                f\"Weighted column {out_col!r} requires value={val_col!r} and weight={w_col!r} to be present in `df`.\"\n",
    "            )\n",
    "\n",
    "    # Some feature_cols might be produced outputs (e.g., 'tr_vwap'); ensure we'll emit them\n",
    "    out_cols = set(simple_cols) | set(weighted_cols.keys())\n",
    "    if not out_cols:\n",
    "        raise ValueError(\"No aggregations inferred. Check `feature_cols`, `agg_spec`, or `weighted_cols`.\")\n",
    "\n",
    "    # --- Timestamp coercion ---------------------------------------------------\n",
    "    # df times\n",
    "    df_ts = _to_utc_series(df[time_col])  # safe: auto-detects int-ms, tz-aware, or naive\n",
    "    if df_ts.isna().any():\n",
    "        bad = int(df_ts.isna().sum())\n",
    "        raise ValueError(f\"{bad} rows in `df[{time_col!r}]` could not be parsed to timestamps.\")\n",
    "\n",
    "    # bars times\n",
    "    bars_ts = _to_utc_series(bars[bar_time_col], assume_unit_ms=False)\n",
    "    if bars_ts.isna().any():\n",
    "        bad = int(bars_ts.isna().sum())\n",
    "        raise ValueError(f\"{bad} rows in `bars[{bar_time_col!r}]` could not be parsed to timestamps.\")\n",
    "\n",
    "    # Sort df by time; keep bars original order for final alignment\n",
    "    df_ord = df_ts.sort_values(kind=\"mergesort\").index\n",
    "    df_sorted = df.loc[df_ord].copy()\n",
    "    df_ts_sorted = df_ts.loc[df_ord]\n",
    "\n",
    "    # Sort bars by time to build bins; remember mapping back to original order\n",
    "    bars_ts_sorted = bars_ts.sort_values(kind=\"mergesort\")\n",
    "    bars_sorted_index = bars_ts_sorted.index  # index labels of bars in ascending time\n",
    "    n_bars = len(bars_sorted_index)\n",
    "\n",
    "    # Convert both to naive datetime64[ns] for pd.cut\n",
    "    df_ts_naive = _ensure_datetime_naive_ns_utc(df_ts_sorted)\n",
    "    bars_ts_naive_sorted = _ensure_datetime_naive_ns_utc(bars_ts_sorted)\n",
    "\n",
    "    # --- Build categorical bin labels: (-inf, T0], (T0, T1], ..., (T_{n-1}, T_n] ---\n",
    "    # Use Timestamp.min as practical -inf for datetime bins.\n",
    "    # --- Build categorical bin labels: (-inf, T0], (T0, T1], ..., (T_{n-1}, T_n] ---\n",
    "    if n_bars == 0:\n",
    "        return bars.copy()\n",
    "\n",
    "    # Keep datetime64[ns] dtype by constructing a DatetimeIndex\n",
    "    bins_idx = pd.DatetimeIndex([pd.Timestamp.min]).append(\n",
    "        pd.DatetimeIndex(bars_ts_naive_sorted)\n",
    "    )\n",
    "\n",
    "    # (Optional but helpful) validate bins are increasing; duplicates create zero-width bins\n",
    "    if not bins_idx.is_monotonic_increasing:\n",
    "        # We sorted bars earlier, so this should only trip if there are NaNs (already checked) or weird inputs\n",
    "        raise ValueError(\"Bar close times are not monotonic after normalization.\")\n",
    "\n",
    "    labels = pd.Index(np.arange(n_bars), name=\"_bar_pos\")  # positions in SORTED bar order\n",
    "\n",
    "    cat = pd.cut(\n",
    "        df_ts_naive,\n",
    "        bins=bins_idx,           # <- DatetimeIndex keeps dtype correct\n",
    "        labels=labels,\n",
    "        right=True,\n",
    "        include_lowest=True,\n",
    "    )\n",
    "\n",
    "    # Groupby helper on the categorical bar position\n",
    "    gb = df_sorted.groupby(cat, observed=True, sort=False)\n",
    "\n",
    "    # --- Prepare aggregations -------------------------------------------------\n",
    "    results = []\n",
    "\n",
    "    # 1) Handle 'last' columns with intra-bar forward-fill (no cross-bar carry)\n",
    "    last_cols = [c for c in simple_cols if agg_spec[c] == \"last\"]\n",
    "    if last_cols:\n",
    "        # Forward-fill within each bar only\n",
    "        last_block = df_sorted[last_cols].copy()\n",
    "        last_block = last_block.groupby(cat, observed=True).ffill()\n",
    "        last_agg = last_block.groupby(cat, observed=True).last()\n",
    "        last_agg.index = last_agg.index.astype(\"Int64\")  # groupby over Categorical yields categorical index; make it integer-ish\n",
    "        last_agg = last_agg.reindex(labels.astype(\"Int64\"))  # include empty bars as NaN\n",
    "        last_agg.columns = [f\"{c}_bar\" for c in last_agg.columns]\n",
    "        results.append(last_agg)\n",
    "\n",
    "    # 2) Other simple reductions (sum/mean/min/max/etc.), excluding 'last'\n",
    "    other_cols = [c for c in simple_cols if agg_spec[c] != \"last\"]\n",
    "    if other_cols:\n",
    "        # Build a column-wise aggregation map\n",
    "        agg_map: dict[str, str | Callable] = {c: agg_spec[c] for c in other_cols}\n",
    "        other_agg = gb.agg(agg_map)\n",
    "        # When aggregating multiple functions, gb.agg returns DataFrame; else Series\n",
    "        if isinstance(other_agg, pd.Series):\n",
    "            other_agg = other_agg.to_frame()\n",
    "        # Ensure full set of bars (inject empty intervals as NaN)\n",
    "        other_agg.index = other_agg.index.astype(\"Int64\")\n",
    "        other_agg = other_agg.reindex(labels.astype(\"Int64\"))\n",
    "        other_agg.columns = [f\"{c}_bar\" for c in other_agg.columns]\n",
    "        results.append(other_agg)\n",
    "\n",
    "    # 3) Weighted averages\n",
    "    for out_col, (vcol, wcol) in weighted_cols.items():\n",
    "        if out_col not in feature_cols:\n",
    "            continue\n",
    "\n",
    "        vals = df_sorted[vcol]\n",
    "        wgts = df_sorted[wcol]\n",
    "\n",
    "        # Compute numerator and denominator as Series, then group them directly.\n",
    "        prod = vals * wgts  # may have name=None; that's fine since we group the series itself\n",
    "\n",
    "        num = prod.groupby(cat, observed=True).sum(min_count=1)\n",
    "        den = wgts.groupby(cat, observed=True).sum(min_count=1)\n",
    "\n",
    "        # Align to full set of bars (include empty bars as NaN)\n",
    "        num.index = num.index.astype(\"Int64\")\n",
    "        den.index = den.index.astype(\"Int64\")\n",
    "        num = num.reindex(labels.astype(\"Int64\"))\n",
    "        den = den.reindex(labels.astype(\"Int64\"))\n",
    "\n",
    "        wavg = (num / den).replace([np.inf, -np.inf], np.nan)\n",
    "        wavg = wavg.rename(f\"{out_col}_bar\").to_frame()\n",
    "\n",
    "        results.append(wavg)\n",
    "\n",
    "    # If nothing to concatenate (shouldn't happen), return bars copy\n",
    "    if not results:\n",
    "        return bars.copy()\n",
    "\n",
    "    # Concatenate all aggregates; index currently is bar position in *sorted* order (0..n_bars-1)\n",
    "    agg_df = pd.concat(results, axis=1)\n",
    "\n",
    "    # Replace +/- inf with NaN (e.g., divisions)\n",
    "    agg_df = agg_df.replace([np.inf, -np.inf], np.nan)\n",
    "\n",
    "    # Map from sorted bar positions → original bars index labels\n",
    "    # positions: 0..n_bars-1 correspond to bars_sorted_index order\n",
    "    agg_df.index = pd.Index(bars_sorted_index, name=bars.index.name)\n",
    "\n",
    "    # Reindex to original bars order\n",
    "    agg_df = agg_df.reindex(bars.index)\n",
    "\n",
    "    # Assemble result\n",
    "    out = bars.copy()\n",
    "    out = pd.concat([out, agg_df], axis=1)\n",
    "\n",
    "    if drop_empty:\n",
    "        new_cols = [c for c in out.columns if c.endswith(\"_bar\")]\n",
    "        mask_all_nan = out[new_cols].isna().all(axis=1)\n",
    "        out = out.loc[~mask_all_nan]\n",
    "\n",
    "    return out"
   ]
  },
  {
   "cell_type": "code",
   "execution_count": 11,
   "metadata": {},
   "outputs": [],
   "source": [
    "log_return = lambda s: np.log(s).diff().dropna()"
   ]
  },
  {
   "cell_type": "markdown",
   "metadata": {},
   "source": [
    "# Sampling schemes\n",
    "\n",
    "In financial time series, sampling schemes determine how raw tick-level data (individual trades) are aggregated into bars (OHLC structures). Traditional time bars sample at fixed calendar intervals, but these often distort statistical properties by oversampling quiet periods and undersampling volatile ones.\n",
    "\n",
    "To address this, López de Prado (2018) introduced alternative, `event-driven` bars that adapt to market activity. In this work, the focus is on:\n",
    "\n",
    "- `Expected Imbalance Bars (EIBs)`\n",
    "EIBs close a bar when the accumulated buy–sell volume imbalance exceeds an expected threshold, estimated dynamically from historical data. This produces bars of variable length that contain approximately equal amounts of information, improving stationarity and normality of returns. EIBs are particularly well suited for machine learning tasks that rely on balanced and stable input data.\n",
    "\n",
    "- `Expected Run Bars (ERBs)`\n",
    "ERBs close a bar when the number of consecutive buy or sell trades (a “run”) surpasses an expected run length, again estimated adaptively. This highlights periods of persistent order flow, often associated with informed trading or liquidity grabs. ERBs are especially valuable for detecting market microstructure patterns, such as those studied in Smart Money Concepts (SMC)."
   ]
  },
  {
   "cell_type": "code",
   "execution_count": 12,
   "metadata": {},
   "outputs": [],
   "source": [
    "features = [\n",
    "    'ohlc_trades','ohlc_taker_base','ohlc_taker_quote',\n",
    "    'l1_bid','l1_ask','l1_mid','l1_spread',\n",
    "    'l1_bid_qty','l1_ask_qty','l1_imbalance',\n",
    "    'l2_bid_depth','l2_ask_depth','l2_depth_asymmetry',\n",
    "    'l2_bid_vwap','l2_ask_vwap','l2_bid_slope','l2_ask_slope',\n",
    "    'tr_volume_base','tr_volume_quote','tr_vwap','tr_buy_sell_imbalance',\n",
    "    'spot_price','perp_mark_price','basis_abs','basis_pct',\n",
    "    'funding_rate','next_funding_time_ms'\n",
    "]\n"
   ]
  },
  {
   "cell_type": "markdown",
   "metadata": {},
   "source": [
    "## Expected Imbalance Bars"
   ]
  },
  {
   "cell_type": "code",
   "execution_count": 13,
   "metadata": {},
   "outputs": [
    {
     "data": {
      "text/html": [
       "<div>\n",
       "<style scoped>\n",
       "    .dataframe tbody tr th:only-of-type {\n",
       "        vertical-align: middle;\n",
       "    }\n",
       "\n",
       "    .dataframe tbody tr th {\n",
       "        vertical-align: top;\n",
       "    }\n",
       "\n",
       "    .dataframe thead th {\n",
       "        text-align: right;\n",
       "    }\n",
       "</style>\n",
       "<table border=\"1\" class=\"dataframe\">\n",
       "  <thead>\n",
       "    <tr style=\"text-align: right;\">\n",
       "      <th></th>\n",
       "      <th>date</th>\n",
       "      <th>price</th>\n",
       "      <th>volume</th>\n",
       "    </tr>\n",
       "  </thead>\n",
       "  <tbody>\n",
       "    <tr>\n",
       "      <th>0</th>\n",
       "      <td>2025-08-17 15:45:47.575950+00:00</td>\n",
       "      <td>118251.351562</td>\n",
       "      <td>0.75580</td>\n",
       "    </tr>\n",
       "    <tr>\n",
       "      <th>1</th>\n",
       "      <td>2025-08-17 15:46:47.606265+00:00</td>\n",
       "      <td>118234.531250</td>\n",
       "      <td>5.14589</td>\n",
       "    </tr>\n",
       "    <tr>\n",
       "      <th>2</th>\n",
       "      <td>2025-08-17 15:47:47.643040+00:00</td>\n",
       "      <td>118234.531250</td>\n",
       "      <td>2.35213</td>\n",
       "    </tr>\n",
       "    <tr>\n",
       "      <th>3</th>\n",
       "      <td>2025-08-17 15:48:47.662644+00:00</td>\n",
       "      <td>118234.523438</td>\n",
       "      <td>6.03409</td>\n",
       "    </tr>\n",
       "    <tr>\n",
       "      <th>4</th>\n",
       "      <td>2025-08-17 15:49:47.702649+00:00</td>\n",
       "      <td>118234.523438</td>\n",
       "      <td>1.28289</td>\n",
       "    </tr>\n",
       "  </tbody>\n",
       "</table>\n",
       "</div>"
      ],
      "text/plain": [
       "                              date          price   volume\n",
       "0 2025-08-17 15:45:47.575950+00:00  118251.351562  0.75580\n",
       "1 2025-08-17 15:46:47.606265+00:00  118234.531250  5.14589\n",
       "2 2025-08-17 15:47:47.643040+00:00  118234.531250  2.35213\n",
       "3 2025-08-17 15:48:47.662644+00:00  118234.523438  6.03409\n",
       "4 2025-08-17 15:49:47.702649+00:00  118234.523438  1.28289"
      ]
     },
     "execution_count": 13,
     "metadata": {},
     "output_type": "execute_result"
    }
   ],
   "source": [
    "data = df.loc[:,['ohlc_close','ohlc_volume']]\n",
    "data.reset_index(inplace=True)\n",
    "#rename column\n",
    "data.columns = ['date', 'price', 'volume']\n",
    "data.head()"
   ]
  },
  {
   "cell_type": "markdown",
   "metadata": {},
   "source": [
    "### Imbalance Tick Bars"
   ]
  },
  {
   "cell_type": "code",
   "execution_count": 14,
   "metadata": {},
   "outputs": [
    {
     "name": "stdout",
     "output_type": "stream",
     "text": [
      "Processing batch 0 with size 29401\n"
     ]
    },
    {
     "data": {
      "text/html": [
       "<div>\n",
       "<style scoped>\n",
       "    .dataframe tbody tr th:only-of-type {\n",
       "        vertical-align: middle;\n",
       "    }\n",
       "\n",
       "    .dataframe tbody tr th {\n",
       "        vertical-align: top;\n",
       "    }\n",
       "\n",
       "    .dataframe thead th {\n",
       "        text-align: right;\n",
       "    }\n",
       "</style>\n",
       "<table border=\"1\" class=\"dataframe\">\n",
       "  <thead>\n",
       "    <tr style=\"text-align: right;\">\n",
       "      <th></th>\n",
       "      <th>Date Time</th>\n",
       "      <th>Tick Number</th>\n",
       "      <th>Open</th>\n",
       "      <th>High</th>\n",
       "      <th>Low</th>\n",
       "      <th>Close</th>\n",
       "      <th>Cumulative Volume</th>\n",
       "      <th>Cumulative Buy Volume</th>\n",
       "      <th>Cumulative Sell Volume</th>\n",
       "      <th>Cumulative Ticks</th>\n",
       "      <th>Cumulative Dollar Value</th>\n",
       "      <th>Threshold</th>\n",
       "    </tr>\n",
       "  </thead>\n",
       "  <tbody>\n",
       "    <tr>\n",
       "      <th>0</th>\n",
       "      <td>2025-08-19 08:02:47.952667+00:00</td>\n",
       "      <td>2000</td>\n",
       "      <td>118251.351562</td>\n",
       "      <td>118316.007812</td>\n",
       "      <td>114574.507812</td>\n",
       "      <td>114946.593750</td>\n",
       "      <td>7135.756033</td>\n",
       "      <td>2961.876805</td>\n",
       "      <td>4173.879228</td>\n",
       "      <td>2000</td>\n",
       "      <td>8.280297e+08</td>\n",
       "      <td>5.784036</td>\n",
       "    </tr>\n",
       "    <tr>\n",
       "      <th>1</th>\n",
       "      <td>2025-08-19 08:08:48.202938+00:00</td>\n",
       "      <td>2006</td>\n",
       "      <td>114940.000000</td>\n",
       "      <td>114940.000000</td>\n",
       "      <td>114804.000000</td>\n",
       "      <td>114804.000000</td>\n",
       "      <td>39.409420</td>\n",
       "      <td>0.000000</td>\n",
       "      <td>39.409420</td>\n",
       "      <td>6</td>\n",
       "      <td>4.526917e+06</td>\n",
       "      <td>5.784036</td>\n",
       "    </tr>\n",
       "    <tr>\n",
       "      <th>2</th>\n",
       "      <td>2025-08-19 08:52:49.842643+00:00</td>\n",
       "      <td>2050</td>\n",
       "      <td>114816.656250</td>\n",
       "      <td>115263.757812</td>\n",
       "      <td>114805.773438</td>\n",
       "      <td>115263.757812</td>\n",
       "      <td>282.337731</td>\n",
       "      <td>199.016580</td>\n",
       "      <td>83.321151</td>\n",
       "      <td>44</td>\n",
       "      <td>3.247061e+07</td>\n",
       "      <td>7.813768</td>\n",
       "    </tr>\n",
       "    <tr>\n",
       "      <th>3</th>\n",
       "      <td>2025-08-19 08:53:49.882956+00:00</td>\n",
       "      <td>2051</td>\n",
       "      <td>115203.453125</td>\n",
       "      <td>115203.453125</td>\n",
       "      <td>115203.453125</td>\n",
       "      <td>115203.453125</td>\n",
       "      <td>5.272910</td>\n",
       "      <td>0.000000</td>\n",
       "      <td>5.272910</td>\n",
       "      <td>1</td>\n",
       "      <td>6.074575e+05</td>\n",
       "      <td>0.030384</td>\n",
       "    </tr>\n",
       "    <tr>\n",
       "      <th>4</th>\n",
       "      <td>2025-08-19 08:54:49.922659+00:00</td>\n",
       "      <td>2052</td>\n",
       "      <td>115277.421875</td>\n",
       "      <td>115277.421875</td>\n",
       "      <td>115277.421875</td>\n",
       "      <td>115277.421875</td>\n",
       "      <td>9.837890</td>\n",
       "      <td>9.837890</td>\n",
       "      <td>0.000000</td>\n",
       "      <td>1</td>\n",
       "      <td>1.134087e+06</td>\n",
       "      <td>0.273591</td>\n",
       "    </tr>\n",
       "  </tbody>\n",
       "</table>\n",
       "</div>"
      ],
      "text/plain": [
       "                         Date Time  Tick Number           Open           High  \\\n",
       "0 2025-08-19 08:02:47.952667+00:00         2000  118251.351562  118316.007812   \n",
       "1 2025-08-19 08:08:48.202938+00:00         2006  114940.000000  114940.000000   \n",
       "2 2025-08-19 08:52:49.842643+00:00         2050  114816.656250  115263.757812   \n",
       "3 2025-08-19 08:53:49.882956+00:00         2051  115203.453125  115203.453125   \n",
       "4 2025-08-19 08:54:49.922659+00:00         2052  115277.421875  115277.421875   \n",
       "\n",
       "             Low          Close  Cumulative Volume  Cumulative Buy Volume  \\\n",
       "0  114574.507812  114946.593750        7135.756033            2961.876805   \n",
       "1  114804.000000  114804.000000          39.409420               0.000000   \n",
       "2  114805.773438  115263.757812         282.337731             199.016580   \n",
       "3  115203.453125  115203.453125           5.272910               0.000000   \n",
       "4  115277.421875  115277.421875           9.837890               9.837890   \n",
       "\n",
       "   Cumulative Sell Volume  Cumulative Ticks  Cumulative Dollar Value  \\\n",
       "0             4173.879228              2000             8.280297e+08   \n",
       "1               39.409420                 6             4.526917e+06   \n",
       "2               83.321151                44             3.247061e+07   \n",
       "3                5.272910                 1             6.074575e+05   \n",
       "4                0.000000                 1             1.134087e+06   \n",
       "\n",
       "   Threshold  \n",
       "0   5.784036  \n",
       "1   5.784036  \n",
       "2   7.813768  \n",
       "3   0.030384  \n",
       "4   0.273591  "
      ]
     },
     "execution_count": 14,
     "metadata": {},
     "output_type": "execute_result"
    }
   ],
   "source": [
    "EIB_ticks = controller.handle_input_command(\n",
    "    method_name=\"expected_tick_imbalance_bars\",\n",
    "    method_arguments={\n",
    "        \"window_size_for_expected_n_ticks_estimation\": 5,\n",
    "        \"window_size_for_expected_imbalance_estimation\": 10000,\n",
    "        \"initial_estimate_of_expected_n_ticks_in_bar\": 2000,\n",
    "    },\n",
    "    input_data=data,\n",
    "    batch_size=1_000_000,\n",
    ")\n",
    "\n",
    "#Map / Aggreagate to other features\n",
    "\n",
    "EIB_ticks_with_orderbook = attach_extra_features_to_bars(\n",
    "    df,\n",
    "    EIB_ticks,\n",
    "    feature_cols=features,\n",
    "    # optional overrides:\n",
    "    # agg_spec={\"spot_price\": \"mean\"},  # if you want different aggregation\n",
    "    # weighted_cols={\"tr_vwap\": (\"tr_vwap\", \"tr_volume_base\")},\n",
    "    drop_empty=False\n",
    ")\n",
    "\n",
    "EIB_ticks_with_orderbook.head()\n",
    "EIB_ticks.head()\n",
    "\n"
   ]
  },
  {
   "cell_type": "markdown",
   "metadata": {},
   "source": [
    "### Imbalance Volume Bars"
   ]
  },
  {
   "cell_type": "code",
   "execution_count": 15,
   "metadata": {},
   "outputs": [
    {
     "name": "stdout",
     "output_type": "stream",
     "text": [
      "Processing batch 0 with size 29401\n"
     ]
    },
    {
     "data": {
      "text/html": [
       "<div>\n",
       "<style scoped>\n",
       "    .dataframe tbody tr th:only-of-type {\n",
       "        vertical-align: middle;\n",
       "    }\n",
       "\n",
       "    .dataframe tbody tr th {\n",
       "        vertical-align: top;\n",
       "    }\n",
       "\n",
       "    .dataframe thead th {\n",
       "        text-align: right;\n",
       "    }\n",
       "</style>\n",
       "<table border=\"1\" class=\"dataframe\">\n",
       "  <thead>\n",
       "    <tr style=\"text-align: right;\">\n",
       "      <th></th>\n",
       "      <th>Date Time</th>\n",
       "      <th>Tick Number</th>\n",
       "      <th>Open</th>\n",
       "      <th>High</th>\n",
       "      <th>Low</th>\n",
       "      <th>Close</th>\n",
       "      <th>Cumulative Volume</th>\n",
       "      <th>Cumulative Buy Volume</th>\n",
       "      <th>Cumulative Sell Volume</th>\n",
       "      <th>Cumulative Ticks</th>\n",
       "      <th>Cumulative Dollar Value</th>\n",
       "      <th>Threshold</th>\n",
       "    </tr>\n",
       "  </thead>\n",
       "  <tbody>\n",
       "    <tr>\n",
       "      <th>0</th>\n",
       "      <td>2025-08-19 08:06:48.122659+00:00</td>\n",
       "      <td>2004</td>\n",
       "      <td>118251.351562</td>\n",
       "      <td>118316.007812</td>\n",
       "      <td>114574.507812</td>\n",
       "      <td>114860.343750</td>\n",
       "      <td>7160.604382</td>\n",
       "      <td>2961.876805</td>\n",
       "      <td>4198.727577</td>\n",
       "      <td>2004</td>\n",
       "      <td>8.308845e+08</td>\n",
       "      <td>1225.412327</td>\n",
       "    </tr>\n",
       "    <tr>\n",
       "      <th>1</th>\n",
       "      <td>2025-08-22 15:36:40.842883+00:00</td>\n",
       "      <td>6771</td>\n",
       "      <td>114856.000000</td>\n",
       "      <td>116985.976562</td>\n",
       "      <td>111700.000000</td>\n",
       "      <td>116859.382812</td>\n",
       "      <td>28416.158416</td>\n",
       "      <td>14856.855396</td>\n",
       "      <td>13559.303020</td>\n",
       "      <td>4767</td>\n",
       "      <td>3.234002e+09</td>\n",
       "      <td>1279.366725</td>\n",
       "    </tr>\n",
       "    <tr>\n",
       "      <th>2</th>\n",
       "      <td>2025-08-24 19:36:35.942654+00:00</td>\n",
       "      <td>9889</td>\n",
       "      <td>116824.937500</td>\n",
       "      <td>117409.593750</td>\n",
       "      <td>112963.906250</td>\n",
       "      <td>112963.906250</td>\n",
       "      <td>16566.511754</td>\n",
       "      <td>7429.400280</td>\n",
       "      <td>9137.111474</td>\n",
       "      <td>3118</td>\n",
       "      <td>1.914037e+09</td>\n",
       "      <td>1383.160318</td>\n",
       "    </tr>\n",
       "    <tr>\n",
       "      <th>3</th>\n",
       "      <td>2025-08-24 19:37:35.982667+00:00</td>\n",
       "      <td>9890</td>\n",
       "      <td>111075.546875</td>\n",
       "      <td>111075.546875</td>\n",
       "      <td>111075.546875</td>\n",
       "      <td>111075.546875</td>\n",
       "      <td>905.008423</td>\n",
       "      <td>0.000000</td>\n",
       "      <td>905.008423</td>\n",
       "      <td>1</td>\n",
       "      <td>1.005243e+08</td>\n",
       "      <td>837.071623</td>\n",
       "    </tr>\n",
       "    <tr>\n",
       "      <th>4</th>\n",
       "      <td>2025-08-25 10:55:09.882759+00:00</td>\n",
       "      <td>10807</td>\n",
       "      <td>111992.039062</td>\n",
       "      <td>113664.000000</td>\n",
       "      <td>111011.812500</td>\n",
       "      <td>111011.812500</td>\n",
       "      <td>8601.936594</td>\n",
       "      <td>3831.012761</td>\n",
       "      <td>4770.923833</td>\n",
       "      <td>917</td>\n",
       "      <td>9.692402e+08</td>\n",
       "      <td>910.603257</td>\n",
       "    </tr>\n",
       "  </tbody>\n",
       "</table>\n",
       "</div>"
      ],
      "text/plain": [
       "                         Date Time  Tick Number           Open           High  \\\n",
       "0 2025-08-19 08:06:48.122659+00:00         2004  118251.351562  118316.007812   \n",
       "1 2025-08-22 15:36:40.842883+00:00         6771  114856.000000  116985.976562   \n",
       "2 2025-08-24 19:36:35.942654+00:00         9889  116824.937500  117409.593750   \n",
       "3 2025-08-24 19:37:35.982667+00:00         9890  111075.546875  111075.546875   \n",
       "4 2025-08-25 10:55:09.882759+00:00        10807  111992.039062  113664.000000   \n",
       "\n",
       "             Low          Close  Cumulative Volume  Cumulative Buy Volume  \\\n",
       "0  114574.507812  114860.343750        7160.604382            2961.876805   \n",
       "1  111700.000000  116859.382812       28416.158416           14856.855396   \n",
       "2  112963.906250  112963.906250       16566.511754            7429.400280   \n",
       "3  111075.546875  111075.546875         905.008423               0.000000   \n",
       "4  111011.812500  111011.812500        8601.936594            3831.012761   \n",
       "\n",
       "   Cumulative Sell Volume  Cumulative Ticks  Cumulative Dollar Value  \\\n",
       "0             4198.727577              2004             8.308845e+08   \n",
       "1            13559.303020              4767             3.234002e+09   \n",
       "2             9137.111474              3118             1.914037e+09   \n",
       "3              905.008423                 1             1.005243e+08   \n",
       "4             4770.923833               917             9.692402e+08   \n",
       "\n",
       "     Threshold  \n",
       "0  1225.412327  \n",
       "1  1279.366725  \n",
       "2  1383.160318  \n",
       "3   837.071623  \n",
       "4   910.603257  "
      ]
     },
     "execution_count": 15,
     "metadata": {},
     "output_type": "execute_result"
    }
   ],
   "source": [
    "EIB_vol = controller.handle_input_command(\n",
    "    method_name=\"expected_volume_imbalance_bars\",\n",
    "    method_arguments={\n",
    "        \"window_size_for_expected_n_ticks_estimation\": 5,\n",
    "        \"window_size_for_expected_imbalance_estimation\": 10000,\n",
    "        \"initial_estimate_of_expected_n_ticks_in_bar\": 2000,\n",
    "    },\n",
    "    input_data=data,\n",
    "    batch_size=1_000_000,\n",
    ")\n",
    "\n",
    "#Map / Aggreagate to other features\n",
    "\n",
    "EIB_vol_with_orderbook = attach_extra_features_to_bars(\n",
    "    df,\n",
    "    EIB_vol,\n",
    "    feature_cols=features,\n",
    "    # optional overrides:\n",
    "    # agg_spec={\"spot_price\": \"mean\"},  # if you want different aggregation\n",
    "    # weighted_cols={\"tr_vwap\": (\"tr_vwap\", \"tr_volume_base\")},\n",
    "    drop_empty=False\n",
    ")\n",
    "\n",
    "EIB_vol_with_orderbook.head()\n",
    "EIB_vol.head()"
   ]
  },
  {
   "cell_type": "markdown",
   "metadata": {},
   "source": [
    "### Imbalance Dollar Bars"
   ]
  },
  {
   "cell_type": "code",
   "execution_count": 16,
   "metadata": {},
   "outputs": [
    {
     "name": "stdout",
     "output_type": "stream",
     "text": [
      "Processing batch 0 with size 29401\n"
     ]
    },
    {
     "data": {
      "text/html": [
       "<div>\n",
       "<style scoped>\n",
       "    .dataframe tbody tr th:only-of-type {\n",
       "        vertical-align: middle;\n",
       "    }\n",
       "\n",
       "    .dataframe tbody tr th {\n",
       "        vertical-align: top;\n",
       "    }\n",
       "\n",
       "    .dataframe thead th {\n",
       "        text-align: right;\n",
       "    }\n",
       "</style>\n",
       "<table border=\"1\" class=\"dataframe\">\n",
       "  <thead>\n",
       "    <tr style=\"text-align: right;\">\n",
       "      <th></th>\n",
       "      <th>Date Time</th>\n",
       "      <th>Tick Number</th>\n",
       "      <th>Open</th>\n",
       "      <th>High</th>\n",
       "      <th>Low</th>\n",
       "      <th>Close</th>\n",
       "      <th>Cumulative Volume</th>\n",
       "      <th>Cumulative Buy Volume</th>\n",
       "      <th>Cumulative Sell Volume</th>\n",
       "      <th>Cumulative Ticks</th>\n",
       "      <th>Cumulative Dollar Value</th>\n",
       "      <th>Threshold</th>\n",
       "    </tr>\n",
       "  </thead>\n",
       "  <tbody>\n",
       "    <tr>\n",
       "      <th>0</th>\n",
       "      <td>2025-08-20 20:35:06.722810+00:00</td>\n",
       "      <td>4191</td>\n",
       "      <td>118251.351562</td>\n",
       "      <td>118316.007812</td>\n",
       "      <td>112398.906250</td>\n",
       "      <td>114178.421875</td>\n",
       "      <td>19931.575182</td>\n",
       "      <td>9420.182501</td>\n",
       "      <td>10511.392681</td>\n",
       "      <td>4191</td>\n",
       "      <td>2.284479e+09</td>\n",
       "      <td>2.664737e+07</td>\n",
       "    </tr>\n",
       "    <tr>\n",
       "      <th>1</th>\n",
       "      <td>2025-08-21 15:13:47.812736+00:00</td>\n",
       "      <td>5309</td>\n",
       "      <td>114160.007812</td>\n",
       "      <td>114769.500000</td>\n",
       "      <td>112765.023438</td>\n",
       "      <td>112765.023438</td>\n",
       "      <td>3664.071869</td>\n",
       "      <td>1701.064533</td>\n",
       "      <td>1963.007335</td>\n",
       "      <td>1118</td>\n",
       "      <td>4.163967e+08</td>\n",
       "      <td>2.664737e+07</td>\n",
       "    </tr>\n",
       "    <tr>\n",
       "      <th>2</th>\n",
       "      <td>2025-08-22 14:40:38.843514+00:00</td>\n",
       "      <td>6715</td>\n",
       "      <td>112734.117188</td>\n",
       "      <td>116049.601562</td>\n",
       "      <td>111700.000000</td>\n",
       "      <td>116049.601562</td>\n",
       "      <td>10087.984020</td>\n",
       "      <td>5498.354083</td>\n",
       "      <td>4589.629937</td>\n",
       "      <td>1406</td>\n",
       "      <td>1.143682e+09</td>\n",
       "      <td>1.025288e+08</td>\n",
       "    </tr>\n",
       "    <tr>\n",
       "      <th>3</th>\n",
       "      <td>2025-08-25 20:11:29.902669+00:00</td>\n",
       "      <td>11363</td>\n",
       "      <td>115907.218750</td>\n",
       "      <td>117409.593750</td>\n",
       "      <td>110201.953125</td>\n",
       "      <td>110201.953125</td>\n",
       "      <td>31458.951376</td>\n",
       "      <td>13699.248384</td>\n",
       "      <td>17759.702993</td>\n",
       "      <td>4648</td>\n",
       "      <td>3.593585e+09</td>\n",
       "      <td>4.427271e+08</td>\n",
       "    </tr>\n",
       "  </tbody>\n",
       "</table>\n",
       "</div>"
      ],
      "text/plain": [
       "                         Date Time  Tick Number           Open           High  \\\n",
       "0 2025-08-20 20:35:06.722810+00:00         4191  118251.351562  118316.007812   \n",
       "1 2025-08-21 15:13:47.812736+00:00         5309  114160.007812  114769.500000   \n",
       "2 2025-08-22 14:40:38.843514+00:00         6715  112734.117188  116049.601562   \n",
       "3 2025-08-25 20:11:29.902669+00:00        11363  115907.218750  117409.593750   \n",
       "\n",
       "             Low          Close  Cumulative Volume  Cumulative Buy Volume  \\\n",
       "0  112398.906250  114178.421875       19931.575182            9420.182501   \n",
       "1  112765.023438  112765.023438        3664.071869            1701.064533   \n",
       "2  111700.000000  116049.601562       10087.984020            5498.354083   \n",
       "3  110201.953125  110201.953125       31458.951376           13699.248384   \n",
       "\n",
       "   Cumulative Sell Volume  Cumulative Ticks  Cumulative Dollar Value  \\\n",
       "0            10511.392681              4191             2.284479e+09   \n",
       "1             1963.007335              1118             4.163967e+08   \n",
       "2             4589.629937              1406             1.143682e+09   \n",
       "3            17759.702993              4648             3.593585e+09   \n",
       "\n",
       "      Threshold  \n",
       "0  2.664737e+07  \n",
       "1  2.664737e+07  \n",
       "2  1.025288e+08  \n",
       "3  4.427271e+08  "
      ]
     },
     "execution_count": 16,
     "metadata": {},
     "output_type": "execute_result"
    }
   ],
   "source": [
    "EIB_dollar = controller.handle_input_command(\n",
    "    method_name=\"expected_dollar_imbalance_bars\",\n",
    "    method_arguments={\n",
    "        \"window_size_for_expected_n_ticks_estimation\": 6,\n",
    "        \"window_size_for_expected_imbalance_estimation\": 1254,\n",
    "        \"initial_estimate_of_expected_n_ticks_in_bar\": 4191,\n",
    "    },\n",
    "    input_data=data,\n",
    "    batch_size=1_000_000,\n",
    ")\n",
    "\n",
    "#Map / Aggreagate to other features\n",
    "\n",
    "EIB_dollar_with_orderbook = attach_extra_features_to_bars(\n",
    "    df,\n",
    "    EIB_dollar,\n",
    "    feature_cols=features,\n",
    "    # optional overrides:\n",
    "    # agg_spec={\"spot_price\": \"mean\"},  # if you want different aggregation\n",
    "    # weighted_cols={\"tr_vwap\": (\"tr_vwap\", \"tr_volume_base\")},\n",
    "    drop_empty=False\n",
    ")\n",
    "\n",
    "EIB_dollar_with_orderbook.head()\n",
    "EIB_dollar.head()\n"
   ]
  },
  {
   "cell_type": "markdown",
   "metadata": {},
   "source": [
    "### Statistical Test"
   ]
  },
  {
   "cell_type": "markdown",
   "metadata": {},
   "source": [
    "#### Log Return"
   ]
  },
  {
   "cell_type": "code",
   "execution_count": 17,
   "metadata": {},
   "outputs": [],
   "source": [
    "time_returns = log_return(df['ohlc_close'])\n",
    "ticks_EIB_returns = log_return(EIB_ticks['Close'])\n",
    "volume_EIB_returns = log_return(EIB_vol['Close'])\n",
    "dollars_EIB_returns = log_return(EIB_dollar['Close'])"
   ]
  },
  {
   "cell_type": "markdown",
   "metadata": {},
   "source": [
    "####  Jarque–Bera test statistic \n",
    "\n",
    "The `Jarque–Bera (JB) test` is used to check whether data follow a normal distribution by looking at skewness and kurtosis. In this test, smaller values are desirable because they indicate the data are closer to being normally distributed. For example, a statistic around 1 suggests the data are reasonably consistent with normality. A very large value, such as 6,633,374, strongly signals that the data deviate from normality, often due to heavy tails or asymmetry. In rare cases, the statistic can be 0, which occurs if the data have exactly zero skewness and a normal level of kurtosis, or if the dataset has no variation at all."
   ]
  },
  {
   "cell_type": "code",
   "execution_count": 18,
   "metadata": {},
   "outputs": [
    {
     "name": "stdout",
     "output_type": "stream",
     "text": [
      "Jarque-Bera test statistic for time returns: 6474885\n",
      "Jarque-Bera test statistic for EIB tick returns: 6573955\n",
      "Jarque-Bera test statistic for EIB volume returns: 0\n",
      "Jarque-Bera test statistic for EIB dollar returns: 0\n"
     ]
    }
   ],
   "source": [
    "print(\"Jarque-Bera test statistic for time returns:\", int(stats.jarque_bera(time_returns)[0]))\n",
    "print(\"Jarque-Bera test statistic for EIB tick returns:\", int(stats.jarque_bera(ticks_EIB_returns)[0]))\n",
    "print(\"Jarque-Bera test statistic for EIB volume returns:\", int(stats.jarque_bera(volume_EIB_returns)[0]))\n",
    "print(\"Jarque-Bera test statistic for EIB dollar returns:\", int(stats.jarque_bera(dollars_EIB_returns)[0]))\n"
   ]
  },
  {
   "cell_type": "markdown",
   "metadata": {},
   "source": [
    "#### Shapiro-Wilk Test\n",
    "\n",
    "The `Shapiro–Wilk` test is a statistical method used to check whether a dataset follows a normal distribution. Unlike the Jarque–Bera test, which looks at skewness and kurtosis, the Shapiro–Wilk test directly compares the data to a perfectly normal shape. The test produces a statistic between 0 and 1, where values closer to 1 indicate the data are more consistent with normality. For example, a statistic of 0.98 would suggest the data are likely normal, while a much smaller value, such as 0.70, would indicate a strong departure from normality. The test also provides a p-value: if it is larger than 0.05, the data are considered roughly normal; if smaller, the data are unlikely to be normally distributed."
   ]
  },
  {
   "cell_type": "code",
   "execution_count": 19,
   "metadata": {},
   "outputs": [
    {
     "name": "stdout",
     "output_type": "stream",
     "text": [
      "Shapiro-Wilk test statistic for time returns: ShapiroResult(statistic=0.8639540672302246, pvalue=0.0)\n",
      "Shapiro-Wilk test statistic for EIB tick returns: ShapiroResult(statistic=0.8601343631744385, pvalue=0.0)\n",
      "Shapiro-Wilk test statistic for EIB volume returns: ShapiroResult(statistic=0.9663330912590027, pvalue=0.8708602786064148)\n",
      "Shapiro-Wilk test statistic for EIB dollar returns: ShapiroResult(statistic=0.9998098611831665, pvalue=0.9736639562545907)\n"
     ]
    }
   ],
   "source": [
    "print(\"Shapiro-Wilk test statistic for time returns:\", stats.shapiro(time_returns))\n",
    "print(\"Shapiro-Wilk test statistic for EIB tick returns:\", stats.shapiro(ticks_EIB_returns))\n",
    "print(\"Shapiro-Wilk test statistic for EIB volume returns:\", stats.shapiro(volume_EIB_returns))\n",
    "print(\"Shapiro-Wilk test statistic for EIB dollar returns:\", stats.shapiro(dollars_EIB_returns))"
   ]
  },
  {
   "cell_type": "markdown",
   "metadata": {},
   "source": [
    "#### Kernel Density Estimate (KDE) plot\n",
    "\n",
    "A `Kernel Density Estimate (KDE) plot` is a smooth curve that shows the probability distribution of a dataset. It can be thought of as a smoothed version of a histogram, where the peaks indicate where the data are most concentrated and the shape of the curve shows how the values are distributed. KDE plots are often used to visually assess whether data resemble a normal distribution or display skewness, heavy tails, or multiple peaks."
   ]
  },
  {
   "cell_type": "code",
   "execution_count": 20,
   "metadata": {},
   "outputs": [],
   "source": [
    "#Standardize Data \n",
    "time_standard = (time_returns - time_returns.mean()) / time_returns.std()\n",
    "EIB_tick_standard = (ticks_EIB_returns - ticks_EIB_returns.mean()) / ticks_EIB_returns.std()\n",
    "EIB_volume_standard = (volume_EIB_returns  - volume_EIB_returns.mean()) / volume_EIB_returns.std()\n",
    "EIB_dollar_standard = (dollars_EIB_returns - dollars_EIB_returns.mean()) / dollars_EIB_returns.std()"
   ]
  },
  {
   "cell_type": "code",
   "execution_count": 21,
   "metadata": {},
   "outputs": [
    {
     "data": {
      "image/png": "[encoded data removed]",
      "text/plain": [
       "<Figure size 1600x1200 with 1 Axes>"
      ]
     },
     "metadata": {},
     "output_type": "display_data"
    }
   ],
   "source": [
    "#Distribution Plot\n",
    "plt.figure(figsize=(16, 12))\n",
    "sns.kdeplot(time_standard, label=\"Time\", color=\"red\")\n",
    "sns.kdeplot(EIB_tick_standard, label=\"Tick\", color=\"blue\")\n",
    "sns.kdeplot(EIB_volume_standard, label=\"Volume\", color=\"green\")\n",
    "sns.kdeplot(EIB_dollar_standard, label=\"Dollar\", color=\"purple\", linestyle=\"-.\")\n",
    "sns.kdeplot(np.random.normal(size=1000000), label=\"Normal\", linestyle=\"dotted\")\n",
    "plt.xticks(range(-4, +4))\n",
    "\n",
    "#labels\n",
    "plt.xlabel(\"Standardized Log Returns\")\n",
    "plt.ylabel(\"Density\")\n",
    "plt.title(\n",
    "    'Partial Recovery of Normality for Expected Imbalance Bars',\n",
    "    loc='center', \n",
    ")\n",
    "plt.xlim(-5, 5)\n",
    "plt.legend()\n",
    "plt.show()"
   ]
  },
  {
   "cell_type": "markdown",
   "metadata": {},
   "source": [
    "## Run Bars"
   ]
  },
  {
   "cell_type": "markdown",
   "metadata": {},
   "source": [
    "### Tick Run Bars"
   ]
  },
  {
   "cell_type": "code",
   "execution_count": 22,
   "metadata": {},
   "outputs": [
    {
     "name": "stdout",
     "output_type": "stream",
     "text": [
      "Processing batch 0 with size 29401\n"
     ]
    },
    {
     "data": {
      "text/html": [
       "<div>\n",
       "<style scoped>\n",
       "    .dataframe tbody tr th:only-of-type {\n",
       "        vertical-align: middle;\n",
       "    }\n",
       "\n",
       "    .dataframe tbody tr th {\n",
       "        vertical-align: top;\n",
       "    }\n",
       "\n",
       "    .dataframe thead th {\n",
       "        text-align: right;\n",
       "    }\n",
       "</style>\n",
       "<table border=\"1\" class=\"dataframe\">\n",
       "  <thead>\n",
       "    <tr style=\"text-align: right;\">\n",
       "      <th></th>\n",
       "      <th>Date Time</th>\n",
       "      <th>Tick Number</th>\n",
       "      <th>Open</th>\n",
       "      <th>High</th>\n",
       "      <th>Low</th>\n",
       "      <th>Close</th>\n",
       "      <th>Cumulative Volume</th>\n",
       "      <th>Cumulative Buy Volume</th>\n",
       "      <th>Cumulative Sell Volume</th>\n",
       "      <th>Cumulative Ticks</th>\n",
       "      <th>Cumulative Dollar Value</th>\n",
       "      <th>Threshold</th>\n",
       "    </tr>\n",
       "  </thead>\n",
       "  <tbody>\n",
       "  </tbody>\n",
       "</table>\n",
       "</div>"
      ],
      "text/plain": [
       "Empty DataFrame\n",
       "Columns: [Date Time, Tick Number, Open, High, Low, Close, Cumulative Volume, Cumulative Buy Volume, Cumulative Sell Volume, Cumulative Ticks, Cumulative Dollar Value, Threshold]\n",
       "Index: []"
      ]
     },
     "execution_count": 22,
     "metadata": {},
     "output_type": "execute_result"
    }
   ],
   "source": [
    "tick_run_bars = controller.handle_input_command(\n",
    "    method_name=\"expected_tick_run_bars\",\n",
    "    method_arguments={\n",
    "        \"window_size_for_expected_n_ticks_estimation\": 240, #5\n",
    "        \"window_size_for_expected_imbalance_estimation\": 1460, #10000\n",
    "        \"initial_estimate_of_expected_n_ticks_in_bar\": 7450, #20000\n",
    "    },\n",
    "    input_data=data,\n",
    "    batch_size=1_000_000,\n",
    ")\n",
    "\n",
    "#Map / Aggreagate to other features\n",
    "\n",
    "tick_run_bars_with_orderbook = attach_extra_features_to_bars(\n",
    "    df,\n",
    "    tick_run_bars,\n",
    "    feature_cols=features,\n",
    "    # optional overrides:\n",
    "    # agg_spec={\"spot_price\": \"mean\"},  # if you want different aggregation\n",
    "    # weighted_cols={\"tr_vwap\": (\"tr_vwap\", \"tr_volume_base\")},\n",
    "    drop_empty=False\n",
    ")\n",
    "\n",
    "tick_run_bars_with_orderbook.head()\n",
    "tick_run_bars.head()"
   ]
  },
  {
   "cell_type": "markdown",
   "metadata": {},
   "source": [
    "### Volume Run Bars"
   ]
  },
  {
   "cell_type": "code",
   "execution_count": 23,
   "metadata": {},
   "outputs": [
    {
     "name": "stdout",
     "output_type": "stream",
     "text": [
      "Processing batch 0 with size 29401\n"
     ]
    },
    {
     "data": {
      "text/html": [
       "<div>\n",
       "<style scoped>\n",
       "    .dataframe tbody tr th:only-of-type {\n",
       "        vertical-align: middle;\n",
       "    }\n",
       "\n",
       "    .dataframe tbody tr th {\n",
       "        vertical-align: top;\n",
       "    }\n",
       "\n",
       "    .dataframe thead th {\n",
       "        text-align: right;\n",
       "    }\n",
       "</style>\n",
       "<table border=\"1\" class=\"dataframe\">\n",
       "  <thead>\n",
       "    <tr style=\"text-align: right;\">\n",
       "      <th></th>\n",
       "      <th>Date Time</th>\n",
       "      <th>Tick Number</th>\n",
       "      <th>Open</th>\n",
       "      <th>High</th>\n",
       "      <th>Low</th>\n",
       "      <th>Close</th>\n",
       "      <th>Cumulative Volume</th>\n",
       "      <th>Cumulative Buy Volume</th>\n",
       "      <th>Cumulative Sell Volume</th>\n",
       "      <th>Cumulative Ticks</th>\n",
       "      <th>Cumulative Dollar Value</th>\n",
       "      <th>Threshold</th>\n",
       "    </tr>\n",
       "  </thead>\n",
       "  <tbody>\n",
       "  </tbody>\n",
       "</table>\n",
       "</div>"
      ],
      "text/plain": [
       "Empty DataFrame\n",
       "Columns: [Date Time, Tick Number, Open, High, Low, Close, Cumulative Volume, Cumulative Buy Volume, Cumulative Sell Volume, Cumulative Ticks, Cumulative Dollar Value, Threshold]\n",
       "Index: []"
      ]
     },
     "execution_count": 23,
     "metadata": {},
     "output_type": "execute_result"
    }
   ],
   "source": [
    "\n",
    "\n",
    "volume_run_bars = controller.handle_input_command(\n",
    "    method_name=\"expected_volume_run_bars\",\n",
    "    method_arguments={\n",
    "        \"window_size_for_expected_n_ticks_estimation\": 50, #5\n",
    "        \"window_size_for_expected_imbalance_estimation\": 2000, #10000\n",
    "        \"initial_estimate_of_expected_n_ticks_in_bar\": 200, #20000\n",
    "    },\n",
    "    input_data=data,\n",
    "    batch_size=1_000_000,\n",
    ")\n",
    "\n",
    "#Map / Aggreagate to other features\n",
    "\n",
    "volume_run_bars_with_orderbook = attach_extra_features_to_bars(\n",
    "    df,\n",
    "    volume_run_bars,\n",
    "    feature_cols=features,\n",
    "    # optional overrides:\n",
    "    # agg_spec={\"spot_price\": \"mean\"},  # if you want different aggregation\n",
    "    # weighted_cols={\"tr_vwap\": (\"tr_vwap\", \"tr_volume_base\")},\n",
    "    drop_empty=False\n",
    ")\n",
    "\n",
    "volume_run_bars_with_orderbook.head()\n",
    "volume_run_bars.head()\n",
    "\n"
   ]
  },
  {
   "cell_type": "markdown",
   "metadata": {},
   "source": [
    "### Dollar Run Bars"
   ]
  },
  {
   "cell_type": "code",
   "execution_count": 24,
   "metadata": {},
   "outputs": [
    {
     "name": "stdout",
     "output_type": "stream",
     "text": [
      "Processing batch 0 with size 29401\n"
     ]
    },
    {
     "data": {
      "text/html": [
       "<div>\n",
       "<style scoped>\n",
       "    .dataframe tbody tr th:only-of-type {\n",
       "        vertical-align: middle;\n",
       "    }\n",
       "\n",
       "    .dataframe tbody tr th {\n",
       "        vertical-align: top;\n",
       "    }\n",
       "\n",
       "    .dataframe thead th {\n",
       "        text-align: right;\n",
       "    }\n",
       "</style>\n",
       "<table border=\"1\" class=\"dataframe\">\n",
       "  <thead>\n",
       "    <tr style=\"text-align: right;\">\n",
       "      <th></th>\n",
       "      <th>Date Time</th>\n",
       "      <th>Tick Number</th>\n",
       "      <th>Open</th>\n",
       "      <th>High</th>\n",
       "      <th>Low</th>\n",
       "      <th>Close</th>\n",
       "      <th>Cumulative Volume</th>\n",
       "      <th>Cumulative Buy Volume</th>\n",
       "      <th>Cumulative Sell Volume</th>\n",
       "      <th>Cumulative Ticks</th>\n",
       "      <th>Cumulative Dollar Value</th>\n",
       "      <th>Threshold</th>\n",
       "    </tr>\n",
       "  </thead>\n",
       "  <tbody>\n",
       "    <tr>\n",
       "      <th>0</th>\n",
       "      <td>2025-08-18 16:14:13.902734+00:00</td>\n",
       "      <td>1052</td>\n",
       "      <td>118251.351562</td>\n",
       "      <td>118316.007812</td>\n",
       "      <td>114860.632812</td>\n",
       "      <td>116105.218750</td>\n",
       "      <td>2830.342428</td>\n",
       "      <td>1022.983949</td>\n",
       "      <td>1807.358479</td>\n",
       "      <td>1052</td>\n",
       "      <td>3.307344e+08</td>\n",
       "      <td>9.568615e+07</td>\n",
       "    </tr>\n",
       "    <tr>\n",
       "      <th>1</th>\n",
       "      <td>2025-08-19 05:22:42.302656+00:00</td>\n",
       "      <td>1840</td>\n",
       "      <td>116085.093750</td>\n",
       "      <td>116971.796875</td>\n",
       "      <td>114574.507812</td>\n",
       "      <td>115203.500000</td>\n",
       "      <td>3217.823147</td>\n",
       "      <td>1473.979896</td>\n",
       "      <td>1743.843251</td>\n",
       "      <td>788</td>\n",
       "      <td>3.723097e+08</td>\n",
       "      <td>2.013237e+08</td>\n",
       "    </tr>\n",
       "    <tr>\n",
       "      <th>2</th>\n",
       "      <td>2025-08-19 21:31:16.862652+00:00</td>\n",
       "      <td>2808</td>\n",
       "      <td>115167.851562</td>\n",
       "      <td>115868.000000</td>\n",
       "      <td>112767.070312</td>\n",
       "      <td>113524.906250</td>\n",
       "      <td>4256.485605</td>\n",
       "      <td>2142.838610</td>\n",
       "      <td>2113.646996</td>\n",
       "      <td>968</td>\n",
       "      <td>4.886430e+08</td>\n",
       "      <td>2.459701e+08</td>\n",
       "    </tr>\n",
       "    <tr>\n",
       "      <th>3</th>\n",
       "      <td>2025-08-20 11:08:45.712661+00:00</td>\n",
       "      <td>3625</td>\n",
       "      <td>113516.007812</td>\n",
       "      <td>114016.460938</td>\n",
       "      <td>112620.218750</td>\n",
       "      <td>113738.156250</td>\n",
       "      <td>3908.332325</td>\n",
       "      <td>1918.811475</td>\n",
       "      <td>1989.520850</td>\n",
       "      <td>817</td>\n",
       "      <td>4.434084e+08</td>\n",
       "      <td>2.255656e+08</td>\n",
       "    </tr>\n",
       "    <tr>\n",
       "      <th>4</th>\n",
       "      <td>2025-08-20 16:03:56.502657+00:00</td>\n",
       "      <td>3920</td>\n",
       "      <td>113686.796875</td>\n",
       "      <td>114314.859375</td>\n",
       "      <td>112398.906250</td>\n",
       "      <td>113394.007812</td>\n",
       "      <td>4493.737676</td>\n",
       "      <td>2214.641060</td>\n",
       "      <td>2279.096616</td>\n",
       "      <td>295</td>\n",
       "      <td>5.098097e+08</td>\n",
       "      <td>2.572220e+08</td>\n",
       "    </tr>\n",
       "  </tbody>\n",
       "</table>\n",
       "</div>"
      ],
      "text/plain": [
       "                         Date Time  Tick Number           Open           High  \\\n",
       "0 2025-08-18 16:14:13.902734+00:00         1052  118251.351562  118316.007812   \n",
       "1 2025-08-19 05:22:42.302656+00:00         1840  116085.093750  116971.796875   \n",
       "2 2025-08-19 21:31:16.862652+00:00         2808  115167.851562  115868.000000   \n",
       "3 2025-08-20 11:08:45.712661+00:00         3625  113516.007812  114016.460938   \n",
       "4 2025-08-20 16:03:56.502657+00:00         3920  113686.796875  114314.859375   \n",
       "\n",
       "             Low          Close  Cumulative Volume  Cumulative Buy Volume  \\\n",
       "0  114860.632812  116105.218750        2830.342428            1022.983949   \n",
       "1  114574.507812  115203.500000        3217.823147            1473.979896   \n",
       "2  112767.070312  113524.906250        4256.485605            2142.838610   \n",
       "3  112620.218750  113738.156250        3908.332325            1918.811475   \n",
       "4  112398.906250  113394.007812        4493.737676            2214.641060   \n",
       "\n",
       "   Cumulative Sell Volume  Cumulative Ticks  Cumulative Dollar Value  \\\n",
       "0             1807.358479              1052             3.307344e+08   \n",
       "1             1743.843251               788             3.723097e+08   \n",
       "2             2113.646996               968             4.886430e+08   \n",
       "3             1989.520850               817             4.434084e+08   \n",
       "4             2279.096616               295             5.098097e+08   \n",
       "\n",
       "      Threshold  \n",
       "0  9.568615e+07  \n",
       "1  2.013237e+08  \n",
       "2  2.459701e+08  \n",
       "3  2.255656e+08  \n",
       "4  2.572220e+08  "
      ]
     },
     "execution_count": 24,
     "metadata": {},
     "output_type": "execute_result"
    }
   ],
   "source": [
    "dollar_run_bars = controller.handle_input_command(\n",
    "    method_name=\"expected_dollar_run_bars\",\n",
    "    method_arguments={\n",
    "        \"window_size_for_expected_n_ticks_estimation\": 100, #5\n",
    "        \"window_size_for_expected_imbalance_estimation\": 1000, #10000\n",
    "        \"initial_estimate_of_expected_n_ticks_in_bar\": 500, #20000\n",
    "    },\n",
    "    input_data=data,\n",
    "    batch_size=1_000_000,\n",
    ")\n",
    "\n",
    "#Map / Aggreagate to other features\n",
    "\n",
    "dollar_run_bars_with_orderbook = attach_extra_features_to_bars(\n",
    "    df,\n",
    "    dollar_run_bars,\n",
    "    feature_cols=features,\n",
    "    # optional overrides:\n",
    "    # agg_spec={\"spot_price\": \"mean\"},  # if you want different aggregation\n",
    "    # weighted_cols={\"tr_vwap\": (\"tr_vwap\", \"tr_volume_base\")},\n",
    "    drop_empty=False\n",
    ")\n",
    "\n",
    "dollar_run_bars_with_orderbook.head()\n",
    "dollar_run_bars.head()"
   ]
  },
  {
   "cell_type": "markdown",
   "metadata": {},
   "source": [
    "### Statistical Test"
   ]
  },
  {
   "cell_type": "markdown",
   "metadata": {},
   "source": [
    "#### Log Return"
   ]
  },
  {
   "cell_type": "code",
   "execution_count": 25,
   "metadata": {},
   "outputs": [],
   "source": [
    "tick_run_bars_returns = log_return(tick_run_bars['Close'])\n",
    "volume_run_bars_returns = log_return(volume_run_bars['Close'])\n",
    "dollar_run_bars_returns = log_return(dollar_run_bars['Close'])"
   ]
  },
  {
   "cell_type": "markdown",
   "metadata": {},
   "source": [
    "####  Jarque–Bera test statistic "
   ]
  },
  {
   "cell_type": "code",
   "execution_count": 26,
   "metadata": {},
   "outputs": [
    {
     "name": "stdout",
     "output_type": "stream",
     "text": [
      "Jarque-Bera test statistic for time returns: 6474885\n"
     ]
    },
    {
     "ename": "ValueError",
     "evalue": "At least one observation is required.",
     "output_type": "error",
     "traceback": [
      "\u001b[31m---------------------------------------------------------------------------\u001b[39m",
      "\u001b[31mValueError\u001b[39m                                Traceback (most recent call last)",
      "\u001b[32m/var/folders/ql/hgmmtv9908b7mbkg3586_cym0000gn/T/ipykernel_2098/2875423830.py\u001b[39m in \u001b[36m?\u001b[39m\u001b[34m()\u001b[39m\n\u001b[32m      1\u001b[39m print(\u001b[33m\"Jarque-Bera test statistic for time returns:\"\u001b[39m, int(stats.jarque_bera(time_returns)[\u001b[32m0\u001b[39m]))\n\u001b[32m----> \u001b[39m\u001b[32m2\u001b[39m print(\u001b[33m\"Jarque-Bera test statistic for tick run bars returns:\"\u001b[39m, int(stats.jarque_bera(tick_run_bars_returns)[\u001b[32m0\u001b[39m]))\n\u001b[32m      3\u001b[39m print(\u001b[33m\"Jarque-Bera test statistic for volume run bars returns:\"\u001b[39m, int(stats.jarque_bera(volume_run_bars_returns)[\u001b[32m0\u001b[39m]))\n\u001b[32m      4\u001b[39m print(\u001b[33m\"Jarque-Bera test statistic for dollar run bars returns:\"\u001b[39m, int(stats.jarque_bera(dollar_run_bars_returns)[\u001b[32m0\u001b[39m]))\n",
      "\u001b[32m~/Documents/Code Repository/Trading-Systems/smart-money/.venv_smc/lib/python3.11/site-packages/scipy/stats/_axis_nan_policy.py\u001b[39m in \u001b[36m?\u001b[39m\u001b[34m(***failed resolving arguments***)\u001b[39m\n\u001b[32m    519\u001b[39m                 \u001b[38;5;66;03m# behavior of those would break backward compatibility.\u001b[39;00m\n\u001b[32m    520\u001b[39m \n\u001b[32m    521\u001b[39m                 \u001b[38;5;28;01mif\u001b[39;00m sentinel:\n\u001b[32m    522\u001b[39m                     samples = _remove_sentinel(samples, paired, sentinel)\n\u001b[32m--> \u001b[39m\u001b[32m523\u001b[39m                 res = hypotest_fun_out(*samples, **kwds)\n\u001b[32m    524\u001b[39m                 res = result_to_tuple(res)\n\u001b[32m    525\u001b[39m                 res = _add_reduced_axes(res, reduced_axes, keepdims)\n\u001b[32m    526\u001b[39m                 \u001b[38;5;28;01mreturn\u001b[39;00m tuple_to_result(*res)\n",
      "\u001b[32m~/Documents/Code Repository/Trading-Systems/smart-money/.venv_smc/lib/python3.11/site-packages/scipy/stats/_stats_py.py\u001b[39m in \u001b[36m?\u001b[39m\u001b[34m(x, axis)\u001b[39m\n\u001b[32m   2147\u001b[39m         axis = \u001b[32m0\u001b[39m\n\u001b[32m   2148\u001b[39m \n\u001b[32m   2149\u001b[39m     n = x.shape[axis]\n\u001b[32m   2150\u001b[39m     \u001b[38;5;28;01mif\u001b[39;00m n == \u001b[32m0\u001b[39m:\n\u001b[32m-> \u001b[39m\u001b[32m2151\u001b[39m         \u001b[38;5;28;01mraise\u001b[39;00m ValueError(\u001b[33m'At least one observation is required.'\u001b[39m)\n\u001b[32m   2152\u001b[39m \n\u001b[32m   2153\u001b[39m     mu = x.mean(axis=axis, keepdims=\u001b[38;5;28;01mTrue\u001b[39;00m)\n\u001b[32m   2154\u001b[39m     diffx = x - mu\n",
      "\u001b[31mValueError\u001b[39m: At least one observation is required."
     ]
    }
   ],
   "source": [
    "print(\"Jarque-Bera test statistic for time returns:\", int(stats.jarque_bera(time_returns)[0]))\n",
    "print(\"Jarque-Bera test statistic for tick run bars returns:\", int(stats.jarque_bera(tick_run_bars_returns)[0]))\n",
    "print(\"Jarque-Bera test statistic for volume run bars returns:\", int(stats.jarque_bera(volume_run_bars_returns)[0]))\n",
    "print(\"Jarque-Bera test statistic for dollar run bars returns:\", int(stats.jarque_bera(dollar_run_bars_returns)[0]))"
   ]
  },
  {
   "cell_type": "markdown",
   "metadata": {},
   "source": [
    "#### Shapiro-Wilk Test"
   ]
  },
  {
   "cell_type": "code",
   "execution_count": null,
   "metadata": {},
   "outputs": [],
   "source": [
    "print(\"Shapiro-Wilk test statistic for time returns:\", stats.shapiro(time_returns))\n",
    "print(\"Shapiro-Wilk test statistic for tick run bars returns:\", stats.shapiro(tick_run_bars_returns))\n",
    "print(\"Shapiro-Wilk test statistic for volume run bars returns:\", stats.shapiro(volume_run_bars_returns))\n",
    "print(\"Shapiro-Wilk test statistic for dollar run bars returns:\", stats.shapiro(dollar_run_bars_returns))"
   ]
  },
  {
   "cell_type": "markdown",
   "metadata": {},
   "source": [
    "#### Kernel Density Estimate (KDE) plot"
   ]
  },
  {
   "cell_type": "code",
   "execution_count": null,
   "metadata": {},
   "outputs": [],
   "source": [
    "#Standardize Data \n",
    "tick_run_bars_standard = (tick_run_bars_returns - tick_run_bars_returns.mean()) / tick_run_bars_returns.std()\n",
    "volume_run_bars_standard = (volume_run_bars_returns  - volume_run_bars_returns.mean()) / volume_run_bars_returns.std()\n",
    "dollar_run_bars_standard = (dollar_run_bars_returns - dollar_run_bars_returns.mean()) / dollar_run_bars_returns.std()"
   ]
  },
  {
   "cell_type": "code",
   "execution_count": null,
   "metadata": {},
   "outputs": [],
   "source": [
    "#Distribution Plot\n",
    "plt.figure(figsize=(16, 12))\n",
    "sns.kdeplot(time_standard, label=\"Time\", color=\"red\")\n",
    "sns.kdeplot(tick_run_bars_standard, label=\"Tick\", color=\"blue\")\n",
    "sns.kdeplot(volume_run_bars_standard, label=\"Volume\", color=\"green\")\n",
    "sns.kdeplot(dollar_run_bars_standard , label=\"Dollar\", color=\"purple\", linestyle=\"-.\")\n",
    "sns.kdeplot(np.random.normal(size=1000000), label=\"Normal\", linestyle=\"dotted\")\n",
    "plt.xticks(range(-4, +4))\n",
    "\n",
    "#labels\n",
    "plt.xlabel(\"Standardized Log Returns\")\n",
    "plt.ylabel(\"Density\")\n",
    "plt.title(\n",
    "    'Partial Recovery of Normality for Run Bars',\n",
    "    loc='center', \n",
    ")\n",
    "plt.xlim(-5, 5)\n",
    "plt.legend()\n",
    "plt.show()"
   ]
  },
  {
   "cell_type": "markdown",
   "metadata": {},
   "source": [
    "# Conclustion"
   ]
  },
  {
   "cell_type": "markdown",
   "metadata": {},
   "source": [
    "# Future Studies"
   ]
  },
  {
   "cell_type": "code",
   "execution_count": 27,
   "metadata": {},
   "outputs": [],
   "source": [
    "def objective(trial):\n",
    "    # Hyperparameters to tune\n",
    "    param = {\n",
    "        \"window_size_for_expected_n_ticks_estimation\": trial.suggest_int(\"window_size_for_expected_n_ticks_estimation\", 1, 50),\n",
    "        \"window_size_for_expected_imbalance_estimation\": trial.suggest_int(\"window_size_for_expected_imbalance_estimation\", 100, 20000),\n",
    "        \"initial_estimate_of_expected_n_ticks_in_bar\": trial.suggest_int(\"initial_estimate_of_expected_n_ticks_in_bar\", 500, 5000),\n",
    "         # or log-scale (Optuna ≥3 supports log for suggest_int)\n",
    "        \"batch_size\": trial.suggest_int(\"batch_size\", 50_000, 2_000_000, log=True)\n",
    "    }\n",
    "\n",
    "    # Generate imbalance bars\n",
    "    EIB_dollar = controller.handle_input_command(\n",
    "        method_name=\"expected_dollar_imbalance_bars\",\n",
    "        method_arguments={\n",
    "            \"window_size_for_expected_n_ticks_estimation\": param[\"window_size_for_expected_n_ticks_estimation\"],\n",
    "            \"window_size_for_expected_imbalance_estimation\": param[\"window_size_for_expected_imbalance_estimation\"],\n",
    "            \"initial_estimate_of_expected_n_ticks_in_bar\": param[\"initial_estimate_of_expected_n_ticks_in_bar\"],\n",
    "        },\n",
    "        input_data=data,\n",
    "        batch_size=param[\"batch_size\"],\n",
    "    )\n",
    "\n",
    "    # Compute returns from EIB_dollar (you need to replace with your actual logic)\n",
    "    dollars_EIB_returns = log_return(EIB_dollar['Close'])\n",
    "\n",
    "    # Shapiro-Wilk test\n",
    "    #minimum 3 datapoints\n",
    "    # --- Guardrails for Shapiro ---\n",
    "    # too few points → either prune or penalize\n",
    "    if dollars_EIB_returns .size < 3:\n",
    "        # Prefer pruning so Optuna doesn’t waste time on bad regions:\n",
    "        raise optuna.TrialPruned(\"Not enough data points for Shapiro (need >= 3).\")\n",
    "        # or alternatively: return 1.0  # penalty\n",
    "\n",
    "    # zero variance also breaks normality tests\n",
    "    if np.allclose(np.var(dollars_EIB_returns ), 0.0):\n",
    "        raise optuna.TrialPruned(\"Zero-variance returns.\")\n",
    "\n",
    "    # Shapiro recommended max n=5000; subsample if larger\n",
    "    if dollars_EIB_returns .size > 5000:\n",
    "        rng = np.random.default_rng(42)\n",
    "        idx = rng.choice(dollars_EIB_returns .size, size=5000, replace=False)\n",
    "        sample = dollars_EIB_returns [idx]\n",
    "    else:\n",
    "        sample = dollars_EIB_returns \n",
    "\n",
    "    # --- Shapiro–Wilk test ---\n",
    "    # We want \"more normal\" = better → maximize statistic (close to 1).\n",
    "    # Optuna minimizes by default, so we return (1 - stat).\n",
    "    try:\n",
    "        stat, pval = stats.shapiro(sample)\n",
    "    except ValueError as e:\n",
    "        # e.g., numerical issues → prune this trial\n",
    "        raise optuna.TrialPruned(f\"Shapiro failed: {e}\")\n",
    "\n",
    "    # Store extra values for later inspection\n",
    "    trial.set_user_attr(\"shapiro_stat\", float(stat))\n",
    "    trial.set_user_attr(\"shapiro_pval\", float(pval))\n",
    "\n",
    "    # Optimize based on stat (closer to 1 is better)\n",
    "    return 1.0 - float(stat)  # lower is better (stat closer to 1)"
   ]
  },
  {
   "cell_type": "code",
   "execution_count": 28,
   "metadata": {},
   "outputs": [
    {
     "name": "stderr",
     "output_type": "stream",
     "text": [
      "[I 2025-09-08 12:02:12,720] A new study created in memory with name: no-name-41d8b584-6f60-4c61-9d22-154d6f86b22c\n",
      "[I 2025-09-08 12:02:12,851] Trial 0 finished with value: 0.16643202304840088 and parameters: {'window_size_for_expected_n_ticks_estimation': 6, 'window_size_for_expected_imbalance_estimation': 3757, 'initial_estimate_of_expected_n_ticks_in_bar': 1130, 'batch_size': 74065}. Best is trial 0 with value: 0.16643202304840088.\n"
     ]
    },
    {
     "name": "stdout",
     "output_type": "stream",
     "text": [
      "Processing batch 0 with size 29401\n",
      "Processing batch 0 with size 29401\n"
     ]
    },
    {
     "name": "stderr",
     "output_type": "stream",
     "text": [
      "[I 2025-09-08 12:02:14,277] Trial 1 finished with value: 0.13303536176681519 and parameters: {'window_size_for_expected_n_ticks_estimation': 22, 'window_size_for_expected_imbalance_estimation': 2217, 'initial_estimate_of_expected_n_ticks_in_bar': 3464, 'batch_size': 279368}. Best is trial 1 with value: 0.13303536176681519.\n"
     ]
    },
    {
     "name": "stdout",
     "output_type": "stream",
     "text": [
      "Processing batch 0 with size 29401\n"
     ]
    },
    {
     "name": "stderr",
     "output_type": "stream",
     "text": [
      "[I 2025-09-08 12:02:18,010] Trial 2 finished with value: 0.2501811385154724 and parameters: {'window_size_for_expected_n_ticks_estimation': 46, 'window_size_for_expected_imbalance_estimation': 6589, 'initial_estimate_of_expected_n_ticks_in_bar': 1092, 'batch_size': 73673}. Best is trial 1 with value: 0.13303536176681519.\n",
      "[I 2025-09-08 12:02:18,133] Trial 3 finished with value: 0.008773744106292725 and parameters: {'window_size_for_expected_n_ticks_estimation': 6, 'window_size_for_expected_imbalance_estimation': 2506, 'initial_estimate_of_expected_n_ticks_in_bar': 772, 'batch_size': 564300}. Best is trial 3 with value: 0.008773744106292725.\n"
     ]
    },
    {
     "name": "stdout",
     "output_type": "stream",
     "text": [
      "Processing batch 0 with size 29401\n",
      "Processing batch 0 with size 29401\n"
     ]
    },
    {
     "name": "stderr",
     "output_type": "stream",
     "text": [
      "[I 2025-09-08 12:02:21,561] Trial 4 finished with value: 0.1765056848526001 and parameters: {'window_size_for_expected_n_ticks_estimation': 3, 'window_size_for_expected_imbalance_estimation': 6725, 'initial_estimate_of_expected_n_ticks_in_bar': 1232, 'batch_size': 65803}. Best is trial 3 with value: 0.008773744106292725.\n"
     ]
    },
    {
     "name": "stdout",
     "output_type": "stream",
     "text": [
      "Processing batch 0 with size 29401\n"
     ]
    },
    {
     "name": "stderr",
     "output_type": "stream",
     "text": [
      "[I 2025-09-08 12:02:29,874] Trial 5 finished with value: 0.25322258472442627 and parameters: {'window_size_for_expected_n_ticks_estimation': 41, 'window_size_for_expected_imbalance_estimation': 18101, 'initial_estimate_of_expected_n_ticks_in_bar': 1172, 'batch_size': 192032}. Best is trial 3 with value: 0.008773744106292725.\n"
     ]
    },
    {
     "name": "stdout",
     "output_type": "stream",
     "text": [
      "Processing batch 0 with size 29401\n"
     ]
    },
    {
     "name": "stderr",
     "output_type": "stream",
     "text": [
      "[I 2025-09-08 12:02:37,856] Trial 6 finished with value: 0.2225484848022461 and parameters: {'window_size_for_expected_n_ticks_estimation': 1, 'window_size_for_expected_imbalance_estimation': 18254, 'initial_estimate_of_expected_n_ticks_in_bar': 3045, 'batch_size': 151689}. Best is trial 3 with value: 0.008773744106292725.\n"
     ]
    },
    {
     "name": "stdout",
     "output_type": "stream",
     "text": [
      "Processing batch 0 with size 29401\n"
     ]
    },
    {
     "name": "stderr",
     "output_type": "stream",
     "text": [
      "[I 2025-09-08 12:02:45,045] Trial 7 finished with value: 0.19778692722320557 and parameters: {'window_size_for_expected_n_ticks_estimation': 3, 'window_size_for_expected_imbalance_estimation': 16278, 'initial_estimate_of_expected_n_ticks_in_bar': 4296, 'batch_size': 1778500}. Best is trial 3 with value: 0.008773744106292725.\n"
     ]
    },
    {
     "name": "stdout",
     "output_type": "stream",
     "text": [
      "Processing batch 0 with size 29401\n"
     ]
    },
    {
     "name": "stderr",
     "output_type": "stream",
     "text": [
      "[I 2025-09-08 12:02:46,171] Trial 8 finished with value: 0.7958703637123108 and parameters: {'window_size_for_expected_n_ticks_estimation': 5, 'window_size_for_expected_imbalance_estimation': 15401, 'initial_estimate_of_expected_n_ticks_in_bar': 4574, 'batch_size': 1507158}. Best is trial 3 with value: 0.008773744106292725.\n",
      "[I 2025-09-08 12:02:46,294] Trial 9 finished with value: 0.08552658557891846 and parameters: {'window_size_for_expected_n_ticks_estimation': 30, 'window_size_for_expected_imbalance_estimation': 4535, 'initial_estimate_of_expected_n_ticks_in_bar': 1347, 'batch_size': 1605800}. Best is trial 3 with value: 0.008773744106292725.\n"
     ]
    },
    {
     "name": "stdout",
     "output_type": "stream",
     "text": [
      "Processing batch 0 with size 29401\n",
      "Processing batch 0 with size 29401\n"
     ]
    },
    {
     "name": "stderr",
     "output_type": "stream",
     "text": [
      "[I 2025-09-08 12:02:46,532] Trial 10 finished with value: 0.08977508544921875 and parameters: {'window_size_for_expected_n_ticks_estimation': 17, 'window_size_for_expected_imbalance_estimation': 11417, 'initial_estimate_of_expected_n_ticks_in_bar': 2114, 'batch_size': 623388}. Best is trial 3 with value: 0.008773744106292725.\n",
      "[I 2025-09-08 12:02:46,661] Trial 11 finished with value: 0.16853642463684082 and parameters: {'window_size_for_expected_n_ticks_estimation': 31, 'window_size_for_expected_imbalance_estimation': 336, 'initial_estimate_of_expected_n_ticks_in_bar': 528, 'batch_size': 737005}. Best is trial 3 with value: 0.008773744106292725.\n"
     ]
    },
    {
     "name": "stdout",
     "output_type": "stream",
     "text": [
      "Processing batch 0 with size 29401\n",
      "Processing batch 0 with size 29401\n"
     ]
    },
    {
     "name": "stderr",
     "output_type": "stream",
     "text": [
      "[I 2025-09-08 12:02:46,789] Trial 12 finished with value: 0.05159801244735718 and parameters: {'window_size_for_expected_n_ticks_estimation': 32, 'window_size_for_expected_imbalance_estimation': 5257, 'initial_estimate_of_expected_n_ticks_in_bar': 2042, 'batch_size': 803838}. Best is trial 3 with value: 0.008773744106292725.\n"
     ]
    },
    {
     "name": "stdout",
     "output_type": "stream",
     "text": [
      "Processing batch 0 with size 29401\n"
     ]
    },
    {
     "name": "stderr",
     "output_type": "stream",
     "text": [
      "[I 2025-09-08 12:02:51,891] Trial 13 finished with value: 0.27427196502685547 and parameters: {'window_size_for_expected_n_ticks_estimation': 13, 'window_size_for_expected_imbalance_estimation': 9769, 'initial_estimate_of_expected_n_ticks_in_bar': 2202, 'batch_size': 599724}. Best is trial 3 with value: 0.008773744106292725.\n",
      "[I 2025-09-08 12:02:52,018] Trial 14 finished with value: 0.19162356853485107 and parameters: {'window_size_for_expected_n_ticks_estimation': 37, 'window_size_for_expected_imbalance_estimation': 9336, 'initial_estimate_of_expected_n_ticks_in_bar': 2111, 'batch_size': 924197}. Best is trial 3 with value: 0.008773744106292725.\n"
     ]
    },
    {
     "name": "stdout",
     "output_type": "stream",
     "text": [
      "Processing batch 0 with size 29401\n",
      "Processing batch 0 with size 29401\n"
     ]
    },
    {
     "name": "stderr",
     "output_type": "stream",
     "text": [
      "[I 2025-09-08 12:02:52,258] Trial 15 finished with value: 0.04627728462219238 and parameters: {'window_size_for_expected_n_ticks_estimation': 24, 'window_size_for_expected_imbalance_estimation': 159, 'initial_estimate_of_expected_n_ticks_in_bar': 540, 'batch_size': 388665}. Best is trial 3 with value: 0.008773744106292725.\n",
      "[I 2025-09-08 12:02:52,384] Trial 16 finished with value: 0.2528630495071411 and parameters: {'window_size_for_expected_n_ticks_estimation': 13, 'window_size_for_expected_imbalance_estimation': 481, 'initial_estimate_of_expected_n_ticks_in_bar': 575, 'batch_size': 352184}. Best is trial 3 with value: 0.008773744106292725.\n"
     ]
    },
    {
     "name": "stdout",
     "output_type": "stream",
     "text": [
      "Processing batch 0 with size 29401\n",
      "Processing batch 0 with size 29401\n"
     ]
    },
    {
     "name": "stderr",
     "output_type": "stream",
     "text": [
      "[I 2025-09-08 12:02:52,515] Trial 17 finished with value: 0.05941343307495117 and parameters: {'window_size_for_expected_n_ticks_estimation': 22, 'window_size_for_expected_imbalance_estimation': 2270, 'initial_estimate_of_expected_n_ticks_in_bar': 1550, 'batch_size': 360139}. Best is trial 3 with value: 0.008773744106292725.\n"
     ]
    },
    {
     "name": "stdout",
     "output_type": "stream",
     "text": [
      "Processing batch 0 with size 29401\n"
     ]
    },
    {
     "name": "stderr",
     "output_type": "stream",
     "text": [
      "[I 2025-09-08 12:02:54,579] Trial 18 finished with value: 0.7494527697563171 and parameters: {'window_size_for_expected_n_ticks_estimation': 11, 'window_size_for_expected_imbalance_estimation': 12336, 'initial_estimate_of_expected_n_ticks_in_bar': 3765, 'batch_size': 131208}. Best is trial 3 with value: 0.008773744106292725.\n"
     ]
    },
    {
     "name": "stdout",
     "output_type": "stream",
     "text": [
      "Processing batch 0 with size 29401\n"
     ]
    },
    {
     "name": "stderr",
     "output_type": "stream",
     "text": [
      "[I 2025-09-08 12:02:59,144] Trial 19 finished with value: 0.2365666627883911 and parameters: {'window_size_for_expected_n_ticks_estimation': 50, 'window_size_for_expected_imbalance_estimation': 7862, 'initial_estimate_of_expected_n_ticks_in_bar': 555, 'batch_size': 466770}. Best is trial 3 with value: 0.008773744106292725.\n"
     ]
    },
    {
     "name": "stdout",
     "output_type": "stream",
     "text": [
      "Processing batch 0 with size 29401\n"
     ]
    },
    {
     "name": "stderr",
     "output_type": "stream",
     "text": [
      "[I 2025-09-08 12:02:59,382] Trial 20 finished with value: 0.0001341700553894043 and parameters: {'window_size_for_expected_n_ticks_estimation': 25, 'window_size_for_expected_imbalance_estimation': 2403, 'initial_estimate_of_expected_n_ticks_in_bar': 2817, 'batch_size': 234273}. Best is trial 20 with value: 0.0001341700553894043.\n",
      "[I 2025-09-08 12:02:59,511] Trial 21 finished with value: 0.0018804669380187988 and parameters: {'window_size_for_expected_n_ticks_estimation': 27, 'window_size_for_expected_imbalance_estimation': 2815, 'initial_estimate_of_expected_n_ticks_in_bar': 2636, 'batch_size': 243088}. Best is trial 20 with value: 0.0001341700553894043.\n"
     ]
    },
    {
     "name": "stdout",
     "output_type": "stream",
     "text": [
      "Processing batch 0 with size 29401\n",
      "Processing batch 0 with size 29401\n"
     ]
    },
    {
     "name": "stderr",
     "output_type": "stream",
     "text": [
      "[I 2025-09-08 12:02:59,641] Trial 22 finished with value: 0.010903239250183105 and parameters: {'window_size_for_expected_n_ticks_estimation': 18, 'window_size_for_expected_imbalance_estimation': 2436, 'initial_estimate_of_expected_n_ticks_in_bar': 2643, 'batch_size': 236317}. Best is trial 20 with value: 0.0001341700553894043.\n",
      "[I 2025-09-08 12:02:59,768] Trial 23 finished with value: 0.0029355287551879883 and parameters: {'window_size_for_expected_n_ticks_estimation': 28, 'window_size_for_expected_imbalance_estimation': 3294, 'initial_estimate_of_expected_n_ticks_in_bar': 2805, 'batch_size': 114621}. Best is trial 20 with value: 0.0001341700553894043.\n"
     ]
    },
    {
     "name": "stdout",
     "output_type": "stream",
     "text": [
      "Processing batch 0 with size 29401\n",
      "Processing batch 0 with size 29401\n"
     ]
    },
    {
     "name": "stderr",
     "output_type": "stream",
     "text": [
      "[I 2025-09-08 12:02:59,898] Trial 24 finished with value: 0.050561606884002686 and parameters: {'window_size_for_expected_n_ticks_estimation': 28, 'window_size_for_expected_imbalance_estimation': 5614, 'initial_estimate_of_expected_n_ticks_in_bar': 2723, 'batch_size': 120588}. Best is trial 20 with value: 0.0001341700553894043.\n",
      "[I 2025-09-08 12:03:00,025] Trial 25 finished with value: 0.06827199459075928 and parameters: {'window_size_for_expected_n_ticks_estimation': 34, 'window_size_for_expected_imbalance_estimation': 3657, 'initial_estimate_of_expected_n_ticks_in_bar': 3164, 'batch_size': 99680}. Best is trial 20 with value: 0.0001341700553894043.\n"
     ]
    },
    {
     "name": "stdout",
     "output_type": "stream",
     "text": [
      "Processing batch 0 with size 29401\n",
      "Processing batch 0 with size 29401\n"
     ]
    },
    {
     "name": "stderr",
     "output_type": "stream",
     "text": [
      "[I 2025-09-08 12:03:00,267] Trial 26 finished with value: 0.08403152227401733 and parameters: {'window_size_for_expected_n_ticks_estimation': 27, 'window_size_for_expected_imbalance_estimation': 8299, 'initial_estimate_of_expected_n_ticks_in_bar': 3774, 'batch_size': 187484}. Best is trial 20 with value: 0.0001341700553894043.\n",
      "[I 2025-09-08 12:03:00,396] Trial 27 finished with value: 0.08438628911972046 and parameters: {'window_size_for_expected_n_ticks_estimation': 36, 'window_size_for_expected_imbalance_estimation': 3576, 'initial_estimate_of_expected_n_ticks_in_bar': 2444, 'batch_size': 92813}. Best is trial 20 with value: 0.0001341700553894043.\n"
     ]
    },
    {
     "name": "stdout",
     "output_type": "stream",
     "text": [
      "Processing batch 0 with size 29401\n",
      "Processing batch 0 with size 29401\n"
     ]
    },
    {
     "name": "stderr",
     "output_type": "stream",
     "text": [
      "[I 2025-09-08 12:03:00,527] Trial 28 finished with value: 0.010102808475494385 and parameters: {'window_size_for_expected_n_ticks_estimation': 19, 'window_size_for_expected_imbalance_estimation': 1450, 'initial_estimate_of_expected_n_ticks_in_bar': 3111, 'batch_size': 51021}. Best is trial 20 with value: 0.0001341700553894043.\n",
      "[I 2025-09-08 12:03:00,654] Trial 29 finished with value: 0.08229440450668335 and parameters: {'window_size_for_expected_n_ticks_estimation': 39, 'window_size_for_expected_imbalance_estimation': 4628, 'initial_estimate_of_expected_n_ticks_in_bar': 3551, 'batch_size': 231815}. Best is trial 20 with value: 0.0001341700553894043.\n"
     ]
    },
    {
     "name": "stdout",
     "output_type": "stream",
     "text": [
      "Processing batch 0 with size 29401\n",
      "Processing batch 0 with size 29401\n"
     ]
    },
    {
     "name": "stderr",
     "output_type": "stream",
     "text": [
      "[I 2025-09-08 12:03:04,087] Trial 30 finished with value: 0.23908007144927979 and parameters: {'window_size_for_expected_n_ticks_estimation': 26, 'window_size_for_expected_imbalance_estimation': 6416, 'initial_estimate_of_expected_n_ticks_in_bar': 1748, 'batch_size': 171677}. Best is trial 20 with value: 0.0001341700553894043.\n"
     ]
    },
    {
     "name": "stdout",
     "output_type": "stream",
     "text": [
      "Processing batch 0 with size 29401\n"
     ]
    },
    {
     "name": "stderr",
     "output_type": "stream",
     "text": [
      "[I 2025-09-08 12:03:04,314] Trial 31 finished with value: 0.0030672550201416016 and parameters: {'window_size_for_expected_n_ticks_estimation': 11, 'window_size_for_expected_imbalance_estimation': 3077, 'initial_estimate_of_expected_n_ticks_in_bar': 2421, 'batch_size': 274080}. Best is trial 20 with value: 0.0001341700553894043.\n",
      "[I 2025-09-08 12:03:04,443] Trial 32 finished with value: 0.05183154344558716 and parameters: {'window_size_for_expected_n_ticks_estimation': 22, 'window_size_for_expected_imbalance_estimation': 3582, 'initial_estimate_of_expected_n_ticks_in_bar': 2513, 'batch_size': 275714}. Best is trial 20 with value: 0.0001341700553894043.\n"
     ]
    },
    {
     "name": "stdout",
     "output_type": "stream",
     "text": [
      "Processing batch 0 with size 29401\n",
      "Processing batch 0 with size 29401\n"
     ]
    },
    {
     "name": "stderr",
     "output_type": "stream",
     "text": [
      "[I 2025-09-08 12:03:04,572] Trial 33 finished with value: 0.0002664923667907715 and parameters: {'window_size_for_expected_n_ticks_estimation': 10, 'window_size_for_expected_imbalance_estimation': 1682, 'initial_estimate_of_expected_n_ticks_in_bar': 2963, 'batch_size': 275697}. Best is trial 20 with value: 0.0001341700553894043.\n",
      "[I 2025-09-08 12:03:04,700] Trial 34 finished with value: 0.01326298713684082 and parameters: {'window_size_for_expected_n_ticks_estimation': 29, 'window_size_for_expected_imbalance_estimation': 1869, 'initial_estimate_of_expected_n_ticks_in_bar': 2960, 'batch_size': 230520}. Best is trial 20 with value: 0.0001341700553894043.\n"
     ]
    },
    {
     "name": "stdout",
     "output_type": "stream",
     "text": [
      "Processing batch 0 with size 29401\n",
      "Processing batch 0 with size 29401\n"
     ]
    },
    {
     "name": "stderr",
     "output_type": "stream",
     "text": [
      "[I 2025-09-08 12:03:04,829] Trial 35 finished with value: 0.04928171634674072 and parameters: {'window_size_for_expected_n_ticks_estimation': 16, 'window_size_for_expected_imbalance_estimation': 1158, 'initial_estimate_of_expected_n_ticks_in_bar': 3462, 'batch_size': 426063}. Best is trial 20 with value: 0.0001341700553894043.\n",
      "[I 2025-09-08 12:03:04,957] Trial 36 finished with value: 0.12543779611587524 and parameters: {'window_size_for_expected_n_ticks_estimation': 42, 'window_size_for_expected_imbalance_estimation': 5016, 'initial_estimate_of_expected_n_ticks_in_bar': 2841, 'batch_size': 112927}. Best is trial 20 with value: 0.0001341700553894043.\n"
     ]
    },
    {
     "name": "stdout",
     "output_type": "stream",
     "text": [
      "Processing batch 0 with size 29401\n",
      "Processing batch 0 with size 29401\n"
     ]
    },
    {
     "name": "stderr",
     "output_type": "stream",
     "text": [
      "[I 2025-09-08 12:03:05,202] Trial 37 finished with value: 0.082760751247406 and parameters: {'window_size_for_expected_n_ticks_estimation': 24, 'window_size_for_expected_imbalance_estimation': 1496, 'initial_estimate_of_expected_n_ticks_in_bar': 3399, 'batch_size': 159996}. Best is trial 20 with value: 0.0001341700553894043.\n"
     ]
    },
    {
     "name": "stdout",
     "output_type": "stream",
     "text": [
      "Processing batch 0 with size 29401\n"
     ]
    },
    {
     "name": "stderr",
     "output_type": "stream",
     "text": [
      "[I 2025-09-08 12:03:08,786] Trial 38 finished with value: 0.19252127408981323 and parameters: {'window_size_for_expected_n_ticks_estimation': 8, 'window_size_for_expected_imbalance_estimation': 6797, 'initial_estimate_of_expected_n_ticks_in_bar': 4055, 'batch_size': 80306}. Best is trial 20 with value: 0.0001341700553894043.\n",
      "[I 2025-09-08 12:03:08,914] Trial 39 finished with value: 3.5762786865234375e-07 and parameters: {'window_size_for_expected_n_ticks_estimation': 20, 'window_size_for_expected_imbalance_estimation': 2890, 'initial_estimate_of_expected_n_ticks_in_bar': 3239, 'batch_size': 143312}. Best is trial 39 with value: 3.5762786865234375e-07.\n"
     ]
    },
    {
     "name": "stdout",
     "output_type": "stream",
     "text": [
      "Processing batch 0 with size 29401\n",
      "Processing batch 0 with size 29401\n"
     ]
    },
    {
     "name": "stderr",
     "output_type": "stream",
     "text": [
      "[I 2025-09-08 12:03:11,176] Trial 40 finished with value: 0.7012242078781128 and parameters: {'window_size_for_expected_n_ticks_estimation': 19, 'window_size_for_expected_imbalance_estimation': 13789, 'initial_estimate_of_expected_n_ticks_in_bar': 4882, 'batch_size': 213511}. Best is trial 39 with value: 3.5762786865234375e-07.\n"
     ]
    },
    {
     "name": "stdout",
     "output_type": "stream",
     "text": [
      "Processing batch 0 with size 29401\n"
     ]
    },
    {
     "name": "stderr",
     "output_type": "stream",
     "text": [
      "[I 2025-09-08 12:03:11,434] Trial 41 finished with value: 0.0016177892684936523 and parameters: {'window_size_for_expected_n_ticks_estimation': 25, 'window_size_for_expected_imbalance_estimation': 3020, 'initial_estimate_of_expected_n_ticks_in_bar': 3293, 'batch_size': 299177}. Best is trial 39 with value: 3.5762786865234375e-07.\n"
     ]
    },
    {
     "name": "stdout",
     "output_type": "stream",
     "text": [
      "Processing batch 0 with size 29401\n"
     ]
    },
    {
     "name": "stderr",
     "output_type": "stream",
     "text": [
      "[I 2025-09-08 12:03:19,910] Trial 42 finished with value: 0.17880213260650635 and parameters: {'window_size_for_expected_n_ticks_estimation': 21, 'window_size_for_expected_imbalance_estimation': 19550, 'initial_estimate_of_expected_n_ticks_in_bar': 3307, 'batch_size': 294157}. Best is trial 39 with value: 3.5762786865234375e-07.\n",
      "[I 2025-09-08 12:03:20,041] Trial 43 pruned. Not enough data points for Shapiro (need >= 3).\n"
     ]
    },
    {
     "name": "stdout",
     "output_type": "stream",
     "text": [
      "Processing batch 0 with size 29401\n",
      "Processing batch 0 with size 29401\n"
     ]
    },
    {
     "name": "stderr",
     "output_type": "stream",
     "text": [
      "[I 2025-09-08 12:03:20,172] Trial 44 finished with value: 0.0016791820526123047 and parameters: {'window_size_for_expected_n_ticks_estimation': 15, 'window_size_for_expected_imbalance_estimation': 2672, 'initial_estimate_of_expected_n_ticks_in_bar': 3173, 'batch_size': 143927}. Best is trial 39 with value: 3.5762786865234375e-07.\n"
     ]
    },
    {
     "name": "stdout",
     "output_type": "stream",
     "text": [
      "Processing batch 0 with size 29401\n"
     ]
    },
    {
     "name": "stderr",
     "output_type": "stream",
     "text": [
      "[I 2025-09-08 12:03:21,334] Trial 45 finished with value: 0.6406065225601196 and parameters: {'window_size_for_expected_n_ticks_estimation': 13, 'window_size_for_expected_imbalance_estimation': 6018, 'initial_estimate_of_expected_n_ticks_in_bar': 3159, 'batch_size': 144107}. Best is trial 39 with value: 3.5762786865234375e-07.\n"
     ]
    },
    {
     "name": "stdout",
     "output_type": "stream",
     "text": [
      "Processing batch 0 with size 29401\n"
     ]
    },
    {
     "name": "stderr",
     "output_type": "stream",
     "text": [
      "[I 2025-09-08 12:03:21,564] Trial 46 finished with value: 0.0320889949798584 and parameters: {'window_size_for_expected_n_ticks_estimation': 8, 'window_size_for_expected_imbalance_estimation': 1136, 'initial_estimate_of_expected_n_ticks_in_bar': 3668, 'batch_size': 184478}. Best is trial 39 with value: 3.5762786865234375e-07.\n"
     ]
    },
    {
     "name": "stdout",
     "output_type": "stream",
     "text": [
      "Processing batch 0 with size 29401\n"
     ]
    },
    {
     "name": "stderr",
     "output_type": "stream",
     "text": [
      "[I 2025-09-08 12:03:25,624] Trial 47 finished with value: 0.14102166891098022 and parameters: {'window_size_for_expected_n_ticks_estimation': 15, 'window_size_for_expected_imbalance_estimation': 7426, 'initial_estimate_of_expected_n_ticks_in_bar': 4142, 'batch_size': 148696}. Best is trial 39 with value: 3.5762786865234375e-07.\n",
      "[I 2025-09-08 12:03:25,753] Trial 48 finished with value: 0.05040019750595093 and parameters: {'window_size_for_expected_n_ticks_estimation': 20, 'window_size_for_expected_imbalance_estimation': 4202, 'initial_estimate_of_expected_n_ticks_in_bar': 3271, 'batch_size': 321753}. Best is trial 39 with value: 3.5762786865234375e-07.\n"
     ]
    },
    {
     "name": "stdout",
     "output_type": "stream",
     "text": [
      "Processing batch 0 with size 29401\n",
      "Processing batch 0 with size 29401\n"
     ]
    },
    {
     "name": "stderr",
     "output_type": "stream",
     "text": [
      "[I 2025-09-08 12:03:25,884] Trial 49 finished with value: 9.28640365600586e-05 and parameters: {'window_size_for_expected_n_ticks_estimation': 8, 'window_size_for_expected_imbalance_estimation': 2469, 'initial_estimate_of_expected_n_ticks_in_bar': 2964, 'batch_size': 201777}. Best is trial 39 with value: 3.5762786865234375e-07.\n"
     ]
    }
   ],
   "source": [
    "study = optuna.create_study(direction=\"minimize\")  # minimize 1 - stat\n",
    "study.optimize(objective, n_trials=50)"
   ]
  },
  {
   "cell_type": "code",
   "execution_count": 41,
   "metadata": {},
   "outputs": [
    {
     "name": "stdout",
     "output_type": "stream",
     "text": [
      "Best params: {'window_size_for_expected_n_ticks_estimation': 20, 'window_size_for_expected_imbalance_estimation': 2890, 'initial_estimate_of_expected_n_ticks_in_bar': 3239, 'batch_size': 143312}\n",
      "Best score: 3.5762786865234375e-07\n",
      "Best stat: 0.9999996423721313\n",
      "Best p-value: 0.9988578659457413\n"
     ]
    }
   ],
   "source": [
    "print(\"Best params:\", study.best_params)\n",
    "print(\"Best score:\", study.best_value)\n",
    "# Access the best trial's values\n",
    "best = study.best_trial\n",
    "print(\"Best stat:\", best.user_attrs[\"shapiro_stat\"])\n",
    "print(\"Best p-value:\", best.user_attrs[\"shapiro_pval\"])"
   ]
  },
  {
   "cell_type": "code",
   "execution_count": null,
   "metadata": {},
   "outputs": [
    {
     "ename": "SyntaxError",
     "evalue": "invalid syntax (1097751672.py, line 72)",
     "output_type": "error",
     "traceback": [
      "  \u001b[36mCell\u001b[39m\u001b[36m \u001b[39m\u001b[32mIn[55]\u001b[39m\u001b[32m, line 72\u001b[39m\n\u001b[31m    \u001b[39m\u001b[31m'best score': study.best_value,\u001b[39m\n    ^\n\u001b[31mSyntaxError\u001b[39m\u001b[31m:\u001b[39m invalid syntax\n"
     ]
    }
   ],
   "source": [
    "Imbalance_sampling_method = [\"expected_tick_imbalance_bars\", \"expected_volume_imbalance_bars\", \"expected_dollar_imbalance_bars\"]\n",
    "run_bars_sampling_method  = [\"expected_tick_run_bars\", \"expected_volume_run_bars\", \"expected_dollar_run_bars\"]\n",
    "\n",
    "def sampling_best_params(sampling_method, df_sample, trials=50):\n",
    "\n",
    "    def objective(trial):\n",
    "        # Hyperparameters to tune\n",
    "        param = {\n",
    "            \"window_size_for_expected_n_ticks_estimation\": trial.suggest_int(\"window_size_for_expected_n_ticks_estimation\", 1, 50),\n",
    "            \"window_size_for_expected_imbalance_estimation\": trial.suggest_int(\"window_size_for_expected_imbalance_estimation\", 100, 20000),\n",
    "            \"initial_estimate_of_expected_n_ticks_in_bar\": trial.suggest_int(\"initial_estimate_of_expected_n_ticks_in_bar\", 500, 5000),\n",
    "            # or log-scale (Optuna ≥3 supports log for suggest_int)\n",
    "            \"batch_size\": trial.suggest_int(\"batch_size\", 50_000, 2_000_000, log=True)\n",
    "        }\n",
    "\n",
    "        # Generate imbalance bars\n",
    "        info_driven_bar = controller.handle_input_command(\n",
    "            method_name=sampling_method,\n",
    "            method_arguments={\n",
    "                \"window_size_for_expected_n_ticks_estimation\": param[\"window_size_for_expected_n_ticks_estimation\"],\n",
    "                \"window_size_for_expected_imbalance_estimation\": param[\"window_size_for_expected_imbalance_estimation\"],\n",
    "                \"initial_estimate_of_expected_n_ticks_in_bar\": param[\"initial_estimate_of_expected_n_ticks_in_bar\"],\n",
    "            },\n",
    "            input_data=df_sample,\n",
    "            batch_size=param[\"batch_size\"],\n",
    "        )\n",
    "\n",
    "        # Compute returns from info_driven_bar\n",
    "        info_driven_bar_returns = log_return(info_driven_bar['Close'])\n",
    "\n",
    "        # Shapiro-Wilk test\n",
    "        #minimum 3 datapoints\n",
    "        # --- Guardrails for Shapiro ---\n",
    "        # too few points → either prune or penalize\n",
    "        if info_driven_bar_returns.size < 3:\n",
    "            # Prefer pruning so Optuna doesn’t waste time on bad regions:\n",
    "            raise optuna.TrialPruned(\"Not enough data points for Shapiro (need >= 3).\")\n",
    "            # or alternatively: return 1.0  # penalty\n",
    "\n",
    "        # zero variance also breaks normality tests\n",
    "        if np.allclose(np.var(info_driven_bar_returns ), 0.0):\n",
    "            raise optuna.TrialPruned(\"Zero-variance returns.\")\n",
    "\n",
    "        # Shapiro recommended max n=5000; subsample if larger\n",
    "        if info_driven_bar_returns.size > 5000:\n",
    "            rng = np.random.default_rng(42)\n",
    "            idx = rng.choice(info_driven_bar_returns.size, size=5000, replace=False)\n",
    "            sample = info_driven_bar_returns[idx]\n",
    "        else:\n",
    "            sample = info_driven_bar_returns\n",
    "\n",
    "        # --- Shapiro–Wilk test ---\n",
    "        # We want \"more normal\" = better → maximize statistic (close to 1).\n",
    "        # Optuna minimizes by default, so we return (1 - stat).\n",
    "        try:\n",
    "            stat, pval = stats.shapiro(sample)\n",
    "        except ValueError as e:\n",
    "            # e.g., numerical issues → prune this trial\n",
    "            raise optuna.TrialPruned(f\"Shapiro failed: {e}\")\n",
    "\n",
    "        # Store extra values for later inspection\n",
    "        trial.set_user_attr(\"shapiro_stat\", float(stat))\n",
    "        trial.set_user_attr(\"shapiro_pval\", float(pval))\n",
    "\n",
    "        # Optimize based on stat (closer to 1 is better)\n",
    "        return 1.0 - float(stat)  # lower is better (stat closer to 1)\n",
    "\n",
    "    study = optuna.create_study(direction=\"minimize\")  # minimize 1 - stat\n",
    "    study.optimize(objective, n_trials=trials)\n",
    "\n",
    "    new_params = {  'n_trials' : trials,\n",
    "                    'best score': study.best_value,\n",
    "                    'Best stat': best.user_attrs.get('shapiro_stat'),\n",
    "                    'Best p-value': best.user_attrs.get('shapiro_pval'),\n",
    "                } | study.best_params \n",
    "    \n",
    "    return new_params"
   ]
  },
  {
   "cell_type": "code",
   "execution_count": 53,
   "metadata": {},
   "outputs": [
    {
     "name": "stderr",
     "output_type": "stream",
     "text": [
      "[I 2025-09-08 12:37:48,982] A new study created in memory with name: no-name-7c58c1a1-110b-4d19-9ec2-96a57e1b3672\n"
     ]
    },
    {
     "name": "stdout",
     "output_type": "stream",
     "text": [
      "Processing batch 0 with size 29401\n"
     ]
    },
    {
     "name": "stderr",
     "output_type": "stream",
     "text": [
      "[I 2025-09-08 12:37:54,172] Trial 0 finished with value: 0.13867008686065674 and parameters: {'window_size_for_expected_n_ticks_estimation': 26, 'window_size_for_expected_imbalance_estimation': 9197, 'initial_estimate_of_expected_n_ticks_in_bar': 4698, 'batch_size': 99672}. Best is trial 0 with value: 0.13867008686065674.\n"
     ]
    },
    {
     "name": "stdout",
     "output_type": "stream",
     "text": [
      "Processing batch 0 with size 29401\n"
     ]
    },
    {
     "name": "stderr",
     "output_type": "stream",
     "text": [
      "[I 2025-09-08 12:37:54,700] Trial 1 finished with value: 0.7931448221206665 and parameters: {'window_size_for_expected_n_ticks_estimation': 26, 'window_size_for_expected_imbalance_estimation': 4618, 'initial_estimate_of_expected_n_ticks_in_bar': 1219, 'batch_size': 405981}. Best is trial 0 with value: 0.13867008686065674.\n",
      "[I 2025-09-08 12:37:54,823] Trial 2 finished with value: 0.04930746555328369 and parameters: {'window_size_for_expected_n_ticks_estimation': 23, 'window_size_for_expected_imbalance_estimation': 1699, 'initial_estimate_of_expected_n_ticks_in_bar': 3181, 'batch_size': 1651972}. Best is trial 2 with value: 0.04930746555328369.\n"
     ]
    },
    {
     "name": "stdout",
     "output_type": "stream",
     "text": [
      "Processing batch 0 with size 29401\n",
      "Processing batch 0 with size 29401\n"
     ]
    },
    {
     "name": "stderr",
     "output_type": "stream",
     "text": [
      "[I 2025-09-08 12:37:56,530] Trial 3 finished with value: 0.5618007779121399 and parameters: {'window_size_for_expected_n_ticks_estimation': 25, 'window_size_for_expected_imbalance_estimation': 8221, 'initial_estimate_of_expected_n_ticks_in_bar': 4831, 'batch_size': 492968}. Best is trial 2 with value: 0.04930746555328369.\n",
      "[I 2025-09-08 12:37:56,653] Trial 4 finished with value: 0.03810405731201172 and parameters: {'window_size_for_expected_n_ticks_estimation': 12, 'window_size_for_expected_imbalance_estimation': 5431, 'initial_estimate_of_expected_n_ticks_in_bar': 2589, 'batch_size': 1261473}. Best is trial 4 with value: 0.03810405731201172.\n"
     ]
    },
    {
     "name": "stdout",
     "output_type": "stream",
     "text": [
      "Processing batch 0 with size 29401\n",
      "Processing batch 0 with size 29401\n"
     ]
    },
    {
     "name": "stderr",
     "output_type": "stream",
     "text": [
      "[I 2025-09-08 12:38:01,489] Trial 5 finished with value: 0.17696505784988403 and parameters: {'window_size_for_expected_n_ticks_estimation': 29, 'window_size_for_expected_imbalance_estimation': 8442, 'initial_estimate_of_expected_n_ticks_in_bar': 1597, 'batch_size': 459219}. Best is trial 4 with value: 0.03810405731201172.\n"
     ]
    },
    {
     "name": "stdout",
     "output_type": "stream",
     "text": [
      "Processing batch 0 with size 29401\n"
     ]
    },
    {
     "name": "stderr",
     "output_type": "stream",
     "text": [
      "[I 2025-09-08 12:38:07,979] Trial 6 finished with value: 0.1570776104927063 and parameters: {'window_size_for_expected_n_ticks_estimation': 2, 'window_size_for_expected_imbalance_estimation': 13584, 'initial_estimate_of_expected_n_ticks_in_bar': 1375, 'batch_size': 79132}. Best is trial 4 with value: 0.03810405731201172.\n",
      "[I 2025-09-08 12:38:08,100] Trial 7 pruned. Not enough data points for Shapiro (need >= 3).\n",
      "[I 2025-09-08 12:38:08,224] Trial 8 finished with value: 0.1313415765762329 and parameters: {'window_size_for_expected_n_ticks_estimation': 11, 'window_size_for_expected_imbalance_estimation': 10985, 'initial_estimate_of_expected_n_ticks_in_bar': 3433, 'batch_size': 903420}. Best is trial 4 with value: 0.03810405731201172.\n"
     ]
    },
    {
     "name": "stdout",
     "output_type": "stream",
     "text": [
      "Processing batch 0 with size 29401\n",
      "Processing batch 0 with size 29401\n",
      "Processing batch 0 with size 29401\n"
     ]
    },
    {
     "name": "stderr",
     "output_type": "stream",
     "text": [
      "[I 2025-09-08 12:38:09,353] Trial 9 finished with value: 0.7139129042625427 and parameters: {'window_size_for_expected_n_ticks_estimation': 28, 'window_size_for_expected_imbalance_estimation': 7525, 'initial_estimate_of_expected_n_ticks_in_bar': 3064, 'batch_size': 884129}. Best is trial 4 with value: 0.03810405731201172.\n"
     ]
    },
    {
     "name": "stdout",
     "output_type": "stream",
     "text": [
      "Processing batch 0 with size 29401\n"
     ]
    },
    {
     "name": "stderr",
     "output_type": "stream",
     "text": [
      "[I 2025-09-08 12:38:17,895] Trial 10 finished with value: 0.14431047439575195 and parameters: {'window_size_for_expected_n_ticks_estimation': 46, 'window_size_for_expected_imbalance_estimation': 18155, 'initial_estimate_of_expected_n_ticks_in_bar': 2417, 'batch_size': 172613}. Best is trial 4 with value: 0.03810405731201172.\n",
      "[I 2025-09-08 12:38:18,022] Trial 11 finished with value: 0.1412205696105957 and parameters: {'window_size_for_expected_n_ticks_estimation': 15, 'window_size_for_expected_imbalance_estimation': 1332, 'initial_estimate_of_expected_n_ticks_in_bar': 3558, 'batch_size': 1935134}. Best is trial 4 with value: 0.03810405731201172.\n"
     ]
    },
    {
     "name": "stdout",
     "output_type": "stream",
     "text": [
      "Processing batch 0 with size 29401\n",
      "Processing batch 0 with size 29401\n"
     ]
    },
    {
     "name": "stderr",
     "output_type": "stream",
     "text": [
      "[I 2025-09-08 12:38:18,150] Trial 12 finished with value: 0.07170188426971436 and parameters: {'window_size_for_expected_n_ticks_estimation': 41, 'window_size_for_expected_imbalance_estimation': 3627, 'initial_estimate_of_expected_n_ticks_in_bar': 2422, 'batch_size': 1918772}. Best is trial 4 with value: 0.03810405731201172.\n"
     ]
    },
    {
     "name": "stdout",
     "output_type": "stream",
     "text": [
      "Processing batch 0 with size 29401\n"
     ]
    },
    {
     "name": "stderr",
     "output_type": "stream",
     "text": [
      "[I 2025-09-08 12:38:18,797] Trial 13 finished with value: 0.47978657484054565 and parameters: {'window_size_for_expected_n_ticks_estimation': 1, 'window_size_for_expected_imbalance_estimation': 4718, 'initial_estimate_of_expected_n_ticks_in_bar': 4087, 'batch_size': 1031887}. Best is trial 4 with value: 0.03810405731201172.\n",
      "[I 2025-09-08 12:38:18,922] Trial 14 pruned. Not enough data points for Shapiro (need >= 3).\n"
     ]
    },
    {
     "name": "stdout",
     "output_type": "stream",
     "text": [
      "Processing batch 0 with size 29401\n",
      "Processing batch 0 with size 29401\n"
     ]
    },
    {
     "name": "stderr",
     "output_type": "stream",
     "text": [
      "[I 2025-09-08 12:38:19,053] Trial 15 finished with value: 0.013848423957824707 and parameters: {'window_size_for_expected_n_ticks_estimation': 39, 'window_size_for_expected_imbalance_estimation': 6013, 'initial_estimate_of_expected_n_ticks_in_bar': 2962, 'batch_size': 217934}. Best is trial 15 with value: 0.013848423957824707.\n"
     ]
    },
    {
     "name": "stdout",
     "output_type": "stream",
     "text": [
      "Processing batch 0 with size 29401\n"
     ]
    },
    {
     "name": "stderr",
     "output_type": "stream",
     "text": [
      "[I 2025-09-08 12:38:22,044] Trial 16 finished with value: 0.15572255849838257 and parameters: {'window_size_for_expected_n_ticks_estimation': 37, 'window_size_for_expected_imbalance_estimation': 6130, 'initial_estimate_of_expected_n_ticks_in_bar': 4056, 'batch_size': 182113}. Best is trial 15 with value: 0.013848423957824707.\n",
      "[I 2025-09-08 12:38:22,171] Trial 17 finished with value: 0.25140196084976196 and parameters: {'window_size_for_expected_n_ticks_estimation': 35, 'window_size_for_expected_imbalance_estimation': 11932, 'initial_estimate_of_expected_n_ticks_in_bar': 2036, 'batch_size': 235527}. Best is trial 15 with value: 0.013848423957824707.\n"
     ]
    },
    {
     "name": "stdout",
     "output_type": "stream",
     "text": [
      "Processing batch 0 with size 29401\n",
      "Processing batch 0 with size 29401\n"
     ]
    },
    {
     "name": "stderr",
     "output_type": "stream",
     "text": [
      "[I 2025-09-08 12:38:29,087] Trial 18 finished with value: 0.23719441890716553 and parameters: {'window_size_for_expected_n_ticks_estimation': 9, 'window_size_for_expected_imbalance_estimation': 14532, 'initial_estimate_of_expected_n_ticks_in_bar': 2755, 'batch_size': 51892}. Best is trial 15 with value: 0.013848423957824707.\n",
      "[I 2025-09-08 12:38:29,214] Trial 19 finished with value: 0.12439632415771484 and parameters: {'window_size_for_expected_n_ticks_estimation': 50, 'window_size_for_expected_imbalance_estimation': 6081, 'initial_estimate_of_expected_n_ticks_in_bar': 3833, 'batch_size': 632469}. Best is trial 15 with value: 0.013848423957824707.\n"
     ]
    },
    {
     "name": "stdout",
     "output_type": "stream",
     "text": [
      "Processing batch 0 with size 29401\n",
      "Processing batch 0 with size 29401\n"
     ]
    },
    {
     "name": "stderr",
     "output_type": "stream",
     "text": [
      "[I 2025-09-08 12:38:37,028] Trial 20 finished with value: 0.19443923234939575 and parameters: {'window_size_for_expected_n_ticks_estimation': 6, 'window_size_for_expected_imbalance_estimation': 16968, 'initial_estimate_of_expected_n_ticks_in_bar': 2786, 'batch_size': 239702}. Best is trial 15 with value: 0.013848423957824707.\n",
      "[I 2025-09-08 12:38:37,156] Trial 21 finished with value: 0.08167552947998047 and parameters: {'window_size_for_expected_n_ticks_estimation': 20, 'window_size_for_expected_imbalance_estimation': 2200, 'initial_estimate_of_expected_n_ticks_in_bar': 3157, 'batch_size': 1489424}. Best is trial 15 with value: 0.013848423957824707.\n"
     ]
    },
    {
     "name": "stdout",
     "output_type": "stream",
     "text": [
      "Processing batch 0 with size 29401\n",
      "Processing batch 0 with size 29401\n"
     ]
    },
    {
     "name": "stderr",
     "output_type": "stream",
     "text": [
      "[I 2025-09-08 12:38:40,496] Trial 22 finished with value: 0.13503378629684448 and parameters: {'window_size_for_expected_n_ticks_estimation': 21, 'window_size_for_expected_imbalance_estimation': 6221, 'initial_estimate_of_expected_n_ticks_in_bar': 3148, 'batch_size': 129664}. Best is trial 15 with value: 0.013848423957824707.\n",
      "[I 2025-09-08 12:38:40,623] Trial 23 pruned. Not enough data points for Shapiro (need >= 3).\n"
     ]
    },
    {
     "name": "stdout",
     "output_type": "stream",
     "text": [
      "Processing batch 0 with size 29401\n",
      "Processing batch 0 with size 29401\n"
     ]
    },
    {
     "name": "stderr",
     "output_type": "stream",
     "text": [
      "[I 2025-09-08 12:38:40,749] Trial 24 pruned. Not enough data points for Shapiro (need >= 3).\n"
     ]
    },
    {
     "name": "stdout",
     "output_type": "stream",
     "text": [
      "Processing batch 0 with size 29401\n"
     ]
    },
    {
     "name": "stderr",
     "output_type": "stream",
     "text": [
      "[I 2025-09-08 12:38:44,600] Trial 25 finished with value: 0.16303277015686035 and parameters: {'window_size_for_expected_n_ticks_estimation': 17, 'window_size_for_expected_imbalance_estimation': 6957, 'initial_estimate_of_expected_n_ticks_in_bar': 2740, 'batch_size': 1351640}. Best is trial 15 with value: 0.013848423957824707.\n"
     ]
    },
    {
     "name": "stdout",
     "output_type": "stream",
     "text": [
      "Processing batch 0 with size 29401\n"
     ]
    },
    {
     "name": "stderr",
     "output_type": "stream",
     "text": [
      "[I 2025-09-08 12:38:47,313] Trial 26 finished with value: 0.23715537786483765 and parameters: {'window_size_for_expected_n_ticks_estimation': 7, 'window_size_for_expected_imbalance_estimation': 4792, 'initial_estimate_of_expected_n_ticks_in_bar': 1651, 'batch_size': 669681}. Best is trial 15 with value: 0.013848423957824707.\n",
      "[I 2025-09-08 12:38:47,445] Trial 27 finished with value: 0.005237877368927002 and parameters: {'window_size_for_expected_n_ticks_estimation': 23, 'window_size_for_expected_imbalance_estimation': 2255, 'initial_estimate_of_expected_n_ticks_in_bar': 4415, 'batch_size': 1582416}. Best is trial 27 with value: 0.005237877368927002.\n"
     ]
    },
    {
     "name": "stdout",
     "output_type": "stream",
     "text": [
      "Processing batch 0 with size 29401\n",
      "Processing batch 0 with size 29401\n"
     ]
    },
    {
     "name": "stderr",
     "output_type": "stream",
     "text": [
      "[I 2025-09-08 12:38:47,578] Trial 28 finished with value: 0.07476294040679932 and parameters: {'window_size_for_expected_n_ticks_estimation': 32, 'window_size_for_expected_imbalance_estimation': 10464, 'initial_estimate_of_expected_n_ticks_in_bar': 4383, 'batch_size': 1045908}. Best is trial 27 with value: 0.005237877368927002.\n"
     ]
    },
    {
     "name": "stdout",
     "output_type": "stream",
     "text": [
      "Processing batch 0 with size 29401\n"
     ]
    },
    {
     "name": "stderr",
     "output_type": "stream",
     "text": [
      "[I 2025-09-08 12:38:52,566] Trial 29 finished with value: 0.24041873216629028 and parameters: {'window_size_for_expected_n_ticks_estimation': 42, 'window_size_for_expected_imbalance_estimation': 9486, 'initial_estimate_of_expected_n_ticks_in_bar': 4508, 'batch_size': 88160}. Best is trial 27 with value: 0.005237877368927002.\n",
      "[I 2025-09-08 12:38:52,695] Trial 30 finished with value: 0.05590081214904785 and parameters: {'window_size_for_expected_n_ticks_estimation': 14, 'window_size_for_expected_imbalance_estimation': 3237, 'initial_estimate_of_expected_n_ticks_in_bar': 4949, 'batch_size': 125071}. Best is trial 27 with value: 0.005237877368927002.\n"
     ]
    },
    {
     "name": "stdout",
     "output_type": "stream",
     "text": [
      "Processing batch 0 with size 29401\n",
      "Processing batch 0 with size 29401\n"
     ]
    },
    {
     "name": "stderr",
     "output_type": "stream",
     "text": [
      "[I 2025-09-08 12:38:52,949] Trial 31 finished with value: 0.009508371353149414 and parameters: {'window_size_for_expected_n_ticks_estimation': 24, 'window_size_for_expected_imbalance_estimation': 2240, 'initial_estimate_of_expected_n_ticks_in_bar': 2959, 'batch_size': 1587190}. Best is trial 27 with value: 0.005237877368927002.\n",
      "[I 2025-09-08 12:38:53,079] Trial 32 finished with value: 0.051233649253845215 and parameters: {'window_size_for_expected_n_ticks_estimation': 24, 'window_size_for_expected_imbalance_estimation': 5158, 'initial_estimate_of_expected_n_ticks_in_bar': 1891, 'batch_size': 1234887}. Best is trial 27 with value: 0.005237877368927002.\n"
     ]
    },
    {
     "name": "stdout",
     "output_type": "stream",
     "text": [
      "Processing batch 0 with size 29401\n",
      "Processing batch 0 with size 29401\n"
     ]
    },
    {
     "name": "stderr",
     "output_type": "stream",
     "text": [
      "[I 2025-09-08 12:38:53,207] Trial 33 pruned. Not enough data points for Shapiro (need >= 3).\n",
      "[I 2025-09-08 12:38:53,338] Trial 34 finished with value: 0.08506125211715698 and parameters: {'window_size_for_expected_n_ticks_estimation': 23, 'window_size_for_expected_imbalance_estimation': 3847, 'initial_estimate_of_expected_n_ticks_in_bar': 2582, 'batch_size': 840162}. Best is trial 27 with value: 0.005237877368927002.\n"
     ]
    },
    {
     "name": "stdout",
     "output_type": "stream",
     "text": [
      "Processing batch 0 with size 29401\n",
      "Processing batch 0 with size 29401\n"
     ]
    },
    {
     "name": "stderr",
     "output_type": "stream",
     "text": [
      "[I 2025-09-08 12:38:53,468] Trial 35 finished with value: 1.2636184692382812e-05 and parameters: {'window_size_for_expected_n_ticks_estimation': 27, 'window_size_for_expected_imbalance_estimation': 1471, 'initial_estimate_of_expected_n_ticks_in_bar': 850, 'batch_size': 1525431}. Best is trial 35 with value: 1.2636184692382812e-05.\n",
      "[I 2025-09-08 12:38:53,594] Trial 36 pruned. Not enough data points for Shapiro (need >= 3).\n"
     ]
    },
    {
     "name": "stdout",
     "output_type": "stream",
     "text": [
      "Processing batch 0 with size 29401\n",
      "Processing batch 0 with size 29401\n"
     ]
    },
    {
     "name": "stderr",
     "output_type": "stream",
     "text": [
      "[I 2025-09-08 12:38:53,845] Trial 37 finished with value: 0.13282722234725952 and parameters: {'window_size_for_expected_n_ticks_estimation': 33, 'window_size_for_expected_imbalance_estimation': 2708, 'initial_estimate_of_expected_n_ticks_in_bar': 1066, 'batch_size': 1600097}. Best is trial 35 with value: 1.2636184692382812e-05.\n",
      "[I 2025-09-08 12:38:53,974] Trial 38 pruned. Not enough data points for Shapiro (need >= 3).\n"
     ]
    },
    {
     "name": "stdout",
     "output_type": "stream",
     "text": [
      "Processing batch 0 with size 29401\n",
      "Processing batch 0 with size 29401\n"
     ]
    },
    {
     "name": "stderr",
     "output_type": "stream",
     "text": [
      "[I 2025-09-08 12:38:58,393] Trial 39 finished with value: 0.18165916204452515 and parameters: {'window_size_for_expected_n_ticks_estimation': 21, 'window_size_for_expected_imbalance_estimation': 8272, 'initial_estimate_of_expected_n_ticks_in_bar': 3350, 'batch_size': 1035466}. Best is trial 35 with value: 1.2636184692382812e-05.\n",
      "[I 2025-09-08 12:38:58,520] Trial 40 finished with value: 0.23759764432907104 and parameters: {'window_size_for_expected_n_ticks_estimation': 26, 'window_size_for_expected_imbalance_estimation': 2239, 'initial_estimate_of_expected_n_ticks_in_bar': 1041, 'batch_size': 395299}. Best is trial 35 with value: 1.2636184692382812e-05.\n"
     ]
    },
    {
     "name": "stdout",
     "output_type": "stream",
     "text": [
      "Processing batch 0 with size 29401\n",
      "Processing batch 0 with size 29401\n"
     ]
    },
    {
     "name": "stderr",
     "output_type": "stream",
     "text": [
      "[I 2025-09-08 12:38:58,650] Trial 41 finished with value: 0.029800355434417725 and parameters: {'window_size_for_expected_n_ticks_estimation': 17, 'window_size_for_expected_imbalance_estimation': 5474, 'initial_estimate_of_expected_n_ticks_in_bar': 1382, 'batch_size': 1471964}. Best is trial 35 with value: 1.2636184692382812e-05.\n"
     ]
    },
    {
     "name": "stdout",
     "output_type": "stream",
     "text": [
      "Processing batch 0 with size 29401\n"
     ]
    },
    {
     "name": "stderr",
     "output_type": "stream",
     "text": [
      "[I 2025-09-08 12:38:58,906] Trial 42 finished with value: 0.01213151216506958 and parameters: {'window_size_for_expected_n_ticks_estimation': 18, 'window_size_for_expected_imbalance_estimation': 4393, 'initial_estimate_of_expected_n_ticks_in_bar': 1444, 'batch_size': 1502784}. Best is trial 35 with value: 1.2636184692382812e-05.\n",
      "[I 2025-09-08 12:38:59,035] Trial 43 finished with value: 0.013600349426269531 and parameters: {'window_size_for_expected_n_ticks_estimation': 23, 'window_size_for_expected_imbalance_estimation': 3990, 'initial_estimate_of_expected_n_ticks_in_bar': 804, 'batch_size': 1197343}. Best is trial 35 with value: 1.2636184692382812e-05.\n"
     ]
    },
    {
     "name": "stdout",
     "output_type": "stream",
     "text": [
      "Processing batch 0 with size 29401\n",
      "Processing batch 0 with size 29401\n"
     ]
    },
    {
     "name": "stderr",
     "output_type": "stream",
     "text": [
      "[I 2025-09-08 12:39:01,392] Trial 44 finished with value: 0.2653983235359192 and parameters: {'window_size_for_expected_n_ticks_estimation': 25, 'window_size_for_expected_imbalance_estimation': 3879, 'initial_estimate_of_expected_n_ticks_in_bar': 527, 'batch_size': 1170463}. Best is trial 35 with value: 1.2636184692382812e-05.\n",
      "[I 2025-09-08 12:39:01,521] Trial 45 pruned. Not enough data points for Shapiro (need >= 3).\n"
     ]
    },
    {
     "name": "stdout",
     "output_type": "stream",
     "text": [
      "Processing batch 0 with size 29401\n",
      "Processing batch 0 with size 29401\n"
     ]
    },
    {
     "name": "stderr",
     "output_type": "stream",
     "text": [
      "[I 2025-09-08 12:39:01,650] Trial 46 finished with value: 0.20078521966934204 and parameters: {'window_size_for_expected_n_ticks_estimation': 19, 'window_size_for_expected_imbalance_estimation': 2971, 'initial_estimate_of_expected_n_ticks_in_bar': 1292, 'batch_size': 1953504}. Best is trial 35 with value: 1.2636184692382812e-05.\n"
     ]
    },
    {
     "name": "stdout",
     "output_type": "stream",
     "text": [
      "Processing batch 0 with size 29401\n"
     ]
    },
    {
     "name": "stderr",
     "output_type": "stream",
     "text": [
      "[I 2025-09-08 12:39:01,897] Trial 47 finished with value: 0.07634556293487549 and parameters: {'window_size_for_expected_n_ticks_estimation': 23, 'window_size_for_expected_imbalance_estimation': 1711, 'initial_estimate_of_expected_n_ticks_in_bar': 787, 'batch_size': 1595788}. Best is trial 35 with value: 1.2636184692382812e-05.\n"
     ]
    },
    {
     "name": "stdout",
     "output_type": "stream",
     "text": [
      "Processing batch 0 with size 29401\n"
     ]
    },
    {
     "name": "stderr",
     "output_type": "stream",
     "text": [
      "[I 2025-09-08 12:39:05,712] Trial 48 finished with value: 0.11951756477355957 and parameters: {'window_size_for_expected_n_ticks_estimation': 16, 'window_size_for_expected_imbalance_estimation': 7143, 'initial_estimate_of_expected_n_ticks_in_bar': 1521, 'batch_size': 1369332}. Best is trial 35 with value: 1.2636184692382812e-05.\n",
      "[I 2025-09-08 12:39:05,840] Trial 49 finished with value: 0.00937187671661377 and parameters: {'window_size_for_expected_n_ticks_estimation': 21, 'window_size_for_expected_imbalance_estimation': 1045, 'initial_estimate_of_expected_n_ticks_in_bar': 1722, 'batch_size': 1721311}. Best is trial 35 with value: 1.2636184692382812e-05.\n"
     ]
    },
    {
     "name": "stdout",
     "output_type": "stream",
     "text": [
      "Processing batch 0 with size 29401\n"
     ]
    }
   ],
   "source": [
    "x = \"expected_dollar_imbalance_bars\"\n",
    "y = data\n",
    "\n",
    "best_params = sampling_best_params(sampling_method=x, df_sample=y, trials=50)"
   ]
  },
  {
   "cell_type": "code",
   "execution_count": 54,
   "metadata": {},
   "outputs": [
    {
     "data": {
      "text/plain": [
       "{'best score': 1.2636184692382812e-05,\n",
       " 'Best stat': 0.9999996423721313,\n",
       " 'Best p-value': 0.9988578659457413,\n",
       " 'window_size_for_expected_n_ticks_estimation': 27,\n",
       " 'window_size_for_expected_imbalance_estimation': 1471,\n",
       " 'initial_estimate_of_expected_n_ticks_in_bar': 850,\n",
       " 'batch_size': 1525431}"
      ]
     },
     "execution_count": 54,
     "metadata": {},
     "output_type": "execute_result"
    }
   ],
   "source": [
    "best_params"
   ]
  },
  {
   "cell_type": "code",
   "execution_count": 30,
   "metadata": {},
   "outputs": [
    {
     "name": "stdout",
     "output_type": "stream",
     "text": [
      "Best params: {'window_size_for_expected_n_ticks_estimation': 20, 'window_size_for_expected_imbalance_estimation': 2890, 'initial_estimate_of_expected_n_ticks_in_bar': 3239, 'batch_size': 143312}\n",
      "Best score: 3.5762786865234375e-07\n",
      "Best stat: 0.9999996423721313\n",
      "Best p-value: 0.9988578659457413\n"
     ]
    }
   ],
   "source": [
    "print(\"Best params:\", )\n",
    "print(\"Best score:\", )\n",
    "# Access the best trial's values\n",
    "best = study.best_trial\n",
    "print(\"Best stat:\", best.user_attrs[\"shapiro_stat\"])\n",
    "print(\"Best p-value:\", best.user_attrs[\"shapiro_pval\"])"
   ]
  },
  {
   "cell_type": "markdown",
   "metadata": {},
   "source": [
    "# remaining task\n",
    "1, create a function that automically load the optimnize parameters"
   ]
  },
  {
   "cell_type": "code",
   "execution_count": 31,
   "metadata": {},
   "outputs": [
    {
     "data": {
      "text/html": [
       "<div>\n",
       "<style scoped>\n",
       "    .dataframe tbody tr th:only-of-type {\n",
       "        vertical-align: middle;\n",
       "    }\n",
       "\n",
       "    .dataframe tbody tr th {\n",
       "        vertical-align: top;\n",
       "    }\n",
       "\n",
       "    .dataframe thead th {\n",
       "        text-align: right;\n",
       "    }\n",
       "</style>\n",
       "<table border=\"1\" class=\"dataframe\">\n",
       "  <thead>\n",
       "    <tr style=\"text-align: right;\">\n",
       "      <th></th>\n",
       "      <th>Sampling Scheme</th>\n",
       "      <th>samples</th>\n",
       "      <th>window_size_for_expected_n_ticks_estimation</th>\n",
       "      <th>window_size_for_expected_imbalance_estimation</th>\n",
       "      <th>initial_estimate_of_expected_n_ticks_in_bar</th>\n",
       "      <th>batch_size</th>\n",
       "      <th>Shapiro-Wilk_statistic</th>\n",
       "      <th>Shapiro-Wilk_pvalue</th>\n",
       "    </tr>\n",
       "  </thead>\n",
       "  <tbody>\n",
       "    <tr>\n",
       "      <th>0</th>\n",
       "      <td>imbalance bar_tick</td>\n",
       "      <td>29401</td>\n",
       "      <td>5</td>\n",
       "      <td>10000</td>\n",
       "      <td>20000</td>\n",
       "      <td>1000000</td>\n",
       "      <td>0.8601343631744385,</td>\n",
       "      <td>0.000000</td>\n",
       "    </tr>\n",
       "    <tr>\n",
       "      <th>1</th>\n",
       "      <td>imbalance bar_volume</td>\n",
       "      <td>29401</td>\n",
       "      <td>5</td>\n",
       "      <td>10000</td>\n",
       "      <td>20000</td>\n",
       "      <td>1000000</td>\n",
       "      <td>0.966333091</td>\n",
       "      <td>0.870860</td>\n",
       "    </tr>\n",
       "    <tr>\n",
       "      <th>2</th>\n",
       "      <td>imbalance bar_dollar</td>\n",
       "      <td>29401</td>\n",
       "      <td>5</td>\n",
       "      <td>10000</td>\n",
       "      <td>20000</td>\n",
       "      <td>1000000</td>\n",
       "      <td>0.961657166</td>\n",
       "      <td>0.832820</td>\n",
       "    </tr>\n",
       "    <tr>\n",
       "      <th>3</th>\n",
       "      <td>run_bars_tick</td>\n",
       "      <td>29401</td>\n",
       "      <td>5</td>\n",
       "      <td>10000</td>\n",
       "      <td>20000</td>\n",
       "      <td>1000000</td>\n",
       "      <td>None</td>\n",
       "      <td>NaN</td>\n",
       "    </tr>\n",
       "    <tr>\n",
       "      <th>4</th>\n",
       "      <td>run_bars_volume</td>\n",
       "      <td>29401</td>\n",
       "      <td>5</td>\n",
       "      <td>10000</td>\n",
       "      <td>20000</td>\n",
       "      <td>1000000</td>\n",
       "      <td>None</td>\n",
       "      <td>NaN</td>\n",
       "    </tr>\n",
       "    <tr>\n",
       "      <th>5</th>\n",
       "      <td>run_bars_dollar</td>\n",
       "      <td>29401</td>\n",
       "      <td>5</td>\n",
       "      <td>10000</td>\n",
       "      <td>20000</td>\n",
       "      <td>1000000</td>\n",
       "      <td>None</td>\n",
       "      <td>NaN</td>\n",
       "    </tr>\n",
       "    <tr>\n",
       "      <th>6</th>\n",
       "      <td>run_bars_dollar</td>\n",
       "      <td>29401</td>\n",
       "      <td>100</td>\n",
       "      <td>1000</td>\n",
       "      <td>500</td>\n",
       "      <td>1000000</td>\n",
       "      <td>0.971702158</td>\n",
       "      <td>0.567037</td>\n",
       "    </tr>\n",
       "  </tbody>\n",
       "</table>\n",
       "</div>"
      ],
      "text/plain": [
       "        Sampling Scheme  samples  window_size_for_expected_n_ticks_estimation  \\\n",
       "0    imbalance bar_tick    29401                                            5   \n",
       "1  imbalance bar_volume    29401                                            5   \n",
       "2  imbalance bar_dollar    29401                                            5   \n",
       "3         run_bars_tick    29401                                            5   \n",
       "4       run_bars_volume    29401                                            5   \n",
       "5       run_bars_dollar    29401                                            5   \n",
       "6       run_bars_dollar    29401                                          100   \n",
       "\n",
       "   window_size_for_expected_imbalance_estimation  \\\n",
       "0                                          10000   \n",
       "1                                          10000   \n",
       "2                                          10000   \n",
       "3                                          10000   \n",
       "4                                          10000   \n",
       "5                                          10000   \n",
       "6                                           1000   \n",
       "\n",
       "   initial_estimate_of_expected_n_ticks_in_bar  batch_size  \\\n",
       "0                                        20000     1000000   \n",
       "1                                        20000     1000000   \n",
       "2                                        20000     1000000   \n",
       "3                                        20000     1000000   \n",
       "4                                        20000     1000000   \n",
       "5                                        20000     1000000   \n",
       "6                                          500     1000000   \n",
       "\n",
       "  Shapiro-Wilk_statistic  Shapiro-Wilk_pvalue  \n",
       "0    0.8601343631744385,             0.000000  \n",
       "1            0.966333091             0.870860  \n",
       "2            0.961657166             0.832820  \n",
       "3                   None                  NaN  \n",
       "4                   None                  NaN  \n",
       "5                   None                  NaN  \n",
       "6            0.971702158             0.567037  "
      ]
     },
     "execution_count": 31,
     "metadata": {},
     "output_type": "execute_result"
    }
   ],
   "source": [
    "params"
   ]
  },
  {
   "cell_type": "code",
   "execution_count": 34,
   "metadata": {},
   "outputs": [],
   "source": [
    "new_params= {'samples': sample_size,\n",
    "            'window_size_for_expected_n_ticks_estimation': study.best_params['window_size_for_expected_n_ticks_estimation'],\n",
    "            'window_size_for_expected_imbalance_estimation': study.best_params['window_size_for_expected_imbalance_estimation'],\n",
    "            'initial_estimate_of_expected_n_ticks_in_bar':study.best_params['initial_estimate_of_expected_n_ticks_in_bar'],\n",
    "            'batch_size': study.best_params['batch_size'],\n",
    "            'Shapiro-Wilk_statistic': best.user_attrs[\"shapiro_stat\"],\n",
    "            'Shapiro-Wilk_pvalue': best.user_attrs[\"shapiro_pval\"], \n",
    "            }"
   ]
  },
  {
   "cell_type": "code",
   "execution_count": 35,
   "metadata": {},
   "outputs": [
    {
     "ename": "KeyError",
     "evalue": "1",
     "output_type": "error",
     "traceback": [
      "\u001b[31m---------------------------------------------------------------------------\u001b[39m",
      "\u001b[31mKeyError\u001b[39m                                  Traceback (most recent call last)",
      "\u001b[36mCell\u001b[39m\u001b[36m \u001b[39m\u001b[32mIn[35]\u001b[39m\u001b[32m, line 3\u001b[39m\n\u001b[32m      1\u001b[39m \u001b[38;5;66;03m## update the json file\u001b[39;00m\n\u001b[32m----> \u001b[39m\u001b[32m3\u001b[39m \u001b[43mnew_params\u001b[49m\u001b[43m[\u001b[49m\u001b[32;43m1\u001b[39;49m\u001b[43m]\u001b[49m\n",
      "\u001b[31mKeyError\u001b[39m: 1"
     ]
    }
   ],
   "source": [
    "## update the json file\n",
    "\n",
    "new_params"
   ]
  },
  {
   "cell_type": "code",
   "execution_count": null,
   "metadata": {},
   "outputs": [],
   "source": []
  }
 ],
 "metadata": {
  "kernelspec": {
   "display_name": ".venv_smc",
   "language": "python",
   "name": "python3"
  },
  "language_info": {
   "codemirror_mode": {
    "name": "ipython",
    "version": 3
   },
   "file_extension": ".py",
   "mimetype": "text/x-python",
   "name": "python",
   "nbconvert_exporter": "python",
   "pygments_lexer": "ipython3",
   "version": "3.11.9"
  }
 },
 "nbformat": 4,
 "nbformat_minor": 2
}
