{
 "cells": [
  {
   "cell_type": "code",
   "execution_count": 1,
   "metadata": {},
   "outputs": [],
   "source": [
    "import pyarrow.dataset as ds\n",
    "import pandas as pd\n",
    "import numpy as np\n",
    "import matplotlib.pyplot as plt\n",
    "import json"
   ]
  },
  {
   "cell_type": "code",
   "execution_count": 2,
   "metadata": {},
   "outputs": [],
   "source": [
    "from statsmodels.stats import stattools\n",
    "from scipy import stats\n",
    "import seaborn as sns"
   ]
  },
  {
   "cell_type": "code",
   "execution_count": 3,
   "metadata": {},
   "outputs": [],
   "source": [
    "from RiskLabAI.controller import Controller\n",
    "\n",
    "# initialize controller\n",
    "controller = Controller()"
   ]
  },
  {
   "cell_type": "code",
   "execution_count": 4,
   "metadata": {},
   "outputs": [
    {
     "name": "stdout",
     "output_type": "stream",
     "text": [
      "True\n"
     ]
    }
   ],
   "source": [
    "import optuna\n",
    "from optuna.samplers import TPESampler\n",
    "from optuna.exceptions import TrialPruned\n",
    "import torch\n",
    "print(torch.backends.mps.is_available())"
   ]
  },
  {
   "cell_type": "markdown",
   "metadata": {},
   "source": [
    "# Load Datasets"
   ]
  },
  {
   "cell_type": "code",
   "execution_count": 5,
   "metadata": {},
   "outputs": [
    {
     "data": {
      "text/html": [
       "<div>\n",
       "<style scoped>\n",
       "    .dataframe tbody tr th:only-of-type {\n",
       "        vertical-align: middle;\n",
       "    }\n",
       "\n",
       "    .dataframe tbody tr th {\n",
       "        vertical-align: top;\n",
       "    }\n",
       "\n",
       "    .dataframe thead th {\n",
       "        text-align: right;\n",
       "    }\n",
       "</style>\n",
       "<table border=\"1\" class=\"dataframe\">\n",
       "  <thead>\n",
       "    <tr style=\"text-align: right;\">\n",
       "      <th></th>\n",
       "      <th>symbol</th>\n",
       "      <th>ts_ms</th>\n",
       "      <th>iso_utc</th>\n",
       "      <th>ohlc_ts_open</th>\n",
       "      <th>ohlc_open</th>\n",
       "      <th>ohlc_high</th>\n",
       "      <th>ohlc_low</th>\n",
       "      <th>ohlc_close</th>\n",
       "      <th>ohlc_volume</th>\n",
       "      <th>ohlc_ts_close</th>\n",
       "      <th>...</th>\n",
       "      <th>tr_volume_base</th>\n",
       "      <th>tr_volume_quote</th>\n",
       "      <th>tr_vwap</th>\n",
       "      <th>tr_buy_sell_imbalance</th>\n",
       "      <th>spot_price</th>\n",
       "      <th>perp_mark_price</th>\n",
       "      <th>basis_abs</th>\n",
       "      <th>basis_pct</th>\n",
       "      <th>funding_rate</th>\n",
       "      <th>next_funding_time_ms</th>\n",
       "    </tr>\n",
       "  </thead>\n",
       "  <tbody>\n",
       "    <tr>\n",
       "      <th>29396</th>\n",
       "      <td>BTCUSDT</td>\n",
       "      <td>1757235398782</td>\n",
       "      <td>2025-09-07T08:56:38.782629+00:00</td>\n",
       "      <td>1757235360000</td>\n",
       "      <td>111064.48</td>\n",
       "      <td>111064.49</td>\n",
       "      <td>111056.56</td>\n",
       "      <td>111056.57</td>\n",
       "      <td>2.20840</td>\n",
       "      <td>1757235419999</td>\n",
       "      <td>...</td>\n",
       "      <td>13.34440</td>\n",
       "      <td>1.482838e+06</td>\n",
       "      <td>111120.587469</td>\n",
       "      <td>-0.743010</td>\n",
       "      <td>111056.56</td>\n",
       "      <td>111012.000000</td>\n",
       "      <td>-44.560000</td>\n",
       "      <td>-0.000401</td>\n",
       "      <td>0.000057</td>\n",
       "      <td>1757260800000</td>\n",
       "    </tr>\n",
       "    <tr>\n",
       "      <th>29397</th>\n",
       "      <td>BTCUSDT</td>\n",
       "      <td>1757235458832</td>\n",
       "      <td>2025-09-07T08:57:38.832643+00:00</td>\n",
       "      <td>1757235420000</td>\n",
       "      <td>111056.57</td>\n",
       "      <td>111056.57</td>\n",
       "      <td>111056.56</td>\n",
       "      <td>111056.57</td>\n",
       "      <td>1.36043</td>\n",
       "      <td>1757235479999</td>\n",
       "      <td>...</td>\n",
       "      <td>14.19905</td>\n",
       "      <td>1.577770e+06</td>\n",
       "      <td>111118.009205</td>\n",
       "      <td>-0.770104</td>\n",
       "      <td>111056.57</td>\n",
       "      <td>111009.024457</td>\n",
       "      <td>-47.545543</td>\n",
       "      <td>-0.000428</td>\n",
       "      <td>0.000057</td>\n",
       "      <td>1757260800000</td>\n",
       "    </tr>\n",
       "    <tr>\n",
       "      <th>29398</th>\n",
       "      <td>BTCUSDT</td>\n",
       "      <td>1757235518882</td>\n",
       "      <td>2025-09-07T08:58:38.882621+00:00</td>\n",
       "      <td>1757235480000</td>\n",
       "      <td>111056.56</td>\n",
       "      <td>111056.57</td>\n",
       "      <td>111056.56</td>\n",
       "      <td>111056.57</td>\n",
       "      <td>1.23647</td>\n",
       "      <td>1757235539999</td>\n",
       "      <td>...</td>\n",
       "      <td>8.16041</td>\n",
       "      <td>9.065610e+05</td>\n",
       "      <td>111092.576224</td>\n",
       "      <td>-0.587442</td>\n",
       "      <td>111056.57</td>\n",
       "      <td>111003.800000</td>\n",
       "      <td>-52.770000</td>\n",
       "      <td>-0.000475</td>\n",
       "      <td>0.000058</td>\n",
       "      <td>1757260800000</td>\n",
       "    </tr>\n",
       "    <tr>\n",
       "      <th>29399</th>\n",
       "      <td>BTCUSDT</td>\n",
       "      <td>1757235578942</td>\n",
       "      <td>2025-09-07T08:59:38.942235+00:00</td>\n",
       "      <td>1757235540000</td>\n",
       "      <td>111056.57</td>\n",
       "      <td>111071.25</td>\n",
       "      <td>111056.56</td>\n",
       "      <td>111071.25</td>\n",
       "      <td>8.48946</td>\n",
       "      <td>1757235599999</td>\n",
       "      <td>...</td>\n",
       "      <td>7.84490</td>\n",
       "      <td>8.714298e+05</td>\n",
       "      <td>111082.330495</td>\n",
       "      <td>-0.861344</td>\n",
       "      <td>111071.25</td>\n",
       "      <td>111035.600000</td>\n",
       "      <td>-35.650000</td>\n",
       "      <td>-0.000321</td>\n",
       "      <td>0.000058</td>\n",
       "      <td>1757260800000</td>\n",
       "    </tr>\n",
       "    <tr>\n",
       "      <th>29400</th>\n",
       "      <td>BTCUSDT</td>\n",
       "      <td>1757235638992</td>\n",
       "      <td>2025-09-07T09:00:38.992628+00:00</td>\n",
       "      <td>1757235600000</td>\n",
       "      <td>111071.25</td>\n",
       "      <td>111071.25</td>\n",
       "      <td>111071.24</td>\n",
       "      <td>111071.25</td>\n",
       "      <td>2.93395</td>\n",
       "      <td>1757235659999</td>\n",
       "      <td>...</td>\n",
       "      <td>8.17185</td>\n",
       "      <td>9.075995e+05</td>\n",
       "      <td>111064.142909</td>\n",
       "      <td>-0.800718</td>\n",
       "      <td>111071.25</td>\n",
       "      <td>111028.000000</td>\n",
       "      <td>-43.250000</td>\n",
       "      <td>-0.000389</td>\n",
       "      <td>0.000058</td>\n",
       "      <td>1757260800000</td>\n",
       "    </tr>\n",
       "  </tbody>\n",
       "</table>\n",
       "<p>5 rows × 37 columns</p>\n",
       "</div>"
      ],
      "text/plain": [
       "        symbol          ts_ms                           iso_utc  \\\n",
       "29396  BTCUSDT  1757235398782  2025-09-07T08:56:38.782629+00:00   \n",
       "29397  BTCUSDT  1757235458832  2025-09-07T08:57:38.832643+00:00   \n",
       "29398  BTCUSDT  1757235518882  2025-09-07T08:58:38.882621+00:00   \n",
       "29399  BTCUSDT  1757235578942  2025-09-07T08:59:38.942235+00:00   \n",
       "29400  BTCUSDT  1757235638992  2025-09-07T09:00:38.992628+00:00   \n",
       "\n",
       "        ohlc_ts_open  ohlc_open  ohlc_high   ohlc_low  ohlc_close  \\\n",
       "29396  1757235360000  111064.48  111064.49  111056.56   111056.57   \n",
       "29397  1757235420000  111056.57  111056.57  111056.56   111056.57   \n",
       "29398  1757235480000  111056.56  111056.57  111056.56   111056.57   \n",
       "29399  1757235540000  111056.57  111071.25  111056.56   111071.25   \n",
       "29400  1757235600000  111071.25  111071.25  111071.24   111071.25   \n",
       "\n",
       "       ohlc_volume  ohlc_ts_close  ...  tr_volume_base  tr_volume_quote  \\\n",
       "29396      2.20840  1757235419999  ...        13.34440     1.482838e+06   \n",
       "29397      1.36043  1757235479999  ...        14.19905     1.577770e+06   \n",
       "29398      1.23647  1757235539999  ...         8.16041     9.065610e+05   \n",
       "29399      8.48946  1757235599999  ...         7.84490     8.714298e+05   \n",
       "29400      2.93395  1757235659999  ...         8.17185     9.075995e+05   \n",
       "\n",
       "             tr_vwap  tr_buy_sell_imbalance  spot_price  perp_mark_price  \\\n",
       "29396  111120.587469              -0.743010   111056.56    111012.000000   \n",
       "29397  111118.009205              -0.770104   111056.57    111009.024457   \n",
       "29398  111092.576224              -0.587442   111056.57    111003.800000   \n",
       "29399  111082.330495              -0.861344   111071.25    111035.600000   \n",
       "29400  111064.142909              -0.800718   111071.25    111028.000000   \n",
       "\n",
       "       basis_abs  basis_pct  funding_rate  next_funding_time_ms  \n",
       "29396 -44.560000  -0.000401      0.000057         1757260800000  \n",
       "29397 -47.545543  -0.000428      0.000057         1757260800000  \n",
       "29398 -52.770000  -0.000475      0.000058         1757260800000  \n",
       "29399 -35.650000  -0.000321      0.000058         1757260800000  \n",
       "29400 -43.250000  -0.000389      0.000058         1757260800000  \n",
       "\n",
       "[5 rows x 37 columns]"
      ]
     },
     "execution_count": 5,
     "metadata": {},
     "output_type": "execute_result"
    }
   ],
   "source": [
    "#Asset under study\n",
    "ticker = 'BTCUSDT'\n",
    "\n",
    "# define dataset\n",
    "dataset = ds.dataset(\n",
    "    \"/Users/bobet/Documents/Code Repository/Trading-Systems/_datasets\",\n",
    "    format=\"parquet\")\n",
    "\n",
    "# push filter into Arrow scan (faster, uses partition pruning if possible)\n",
    "table = dataset.to_table(filter=ds.field(\"symbol\") == ticker)\n",
    "\n",
    "# convert to pandasssss\n",
    "df = table.to_pandas()\n",
    "df.tail()"
   ]
  },
  {
   "cell_type": "code",
   "execution_count": 6,
   "metadata": {},
   "outputs": [
    {
     "data": {
      "text/plain": [
       "Index(['symbol', 'ts_ms', 'iso_utc', 'ohlc_ts_open', 'ohlc_open', 'ohlc_high',\n",
       "       'ohlc_low', 'ohlc_close', 'ohlc_volume', 'ohlc_ts_close', 'ohlc_trades',\n",
       "       'ohlc_taker_base', 'ohlc_taker_quote', 'l1_bid', 'l1_ask', 'l1_mid',\n",
       "       'l1_spread', 'l1_bid_qty', 'l1_ask_qty', 'l1_imbalance', 'l2_bid_depth',\n",
       "       'l2_ask_depth', 'l2_depth_asymmetry', 'l2_bid_vwap', 'l2_ask_vwap',\n",
       "       'l2_bid_slope', 'l2_ask_slope', 'tr_volume_base', 'tr_volume_quote',\n",
       "       'tr_vwap', 'tr_buy_sell_imbalance', 'spot_price', 'perp_mark_price',\n",
       "       'basis_abs', 'basis_pct', 'funding_rate', 'next_funding_time_ms'],\n",
       "      dtype='object')"
      ]
     },
     "execution_count": 6,
     "metadata": {},
     "output_type": "execute_result"
    }
   ],
   "source": [
    "#features\n",
    "df.columns"
   ]
  },
  {
   "cell_type": "code",
   "execution_count": 7,
   "metadata": {},
   "outputs": [
    {
     "name": "stdout",
     "output_type": "stream",
     "text": [
      "<class 'pandas.core.frame.DataFrame'>\n",
      "RangeIndex: 29401 entries, 0 to 29400\n",
      "Data columns (total 37 columns):\n",
      " #   Column                 Non-Null Count  Dtype  \n",
      "---  ------                 --------------  -----  \n",
      " 0   symbol                 29401 non-null  object \n",
      " 1   ts_ms                  29401 non-null  int64  \n",
      " 2   iso_utc                29401 non-null  object \n",
      " 3   ohlc_ts_open           29401 non-null  int64  \n",
      " 4   ohlc_open              29401 non-null  float64\n",
      " 5   ohlc_high              29401 non-null  float64\n",
      " 6   ohlc_low               29401 non-null  float64\n",
      " 7   ohlc_close             29401 non-null  float64\n",
      " 8   ohlc_volume            29401 non-null  float64\n",
      " 9   ohlc_ts_close          29401 non-null  int64  \n",
      " 10  ohlc_trades            29401 non-null  int64  \n",
      " 11  ohlc_taker_base        29401 non-null  float64\n",
      " 12  ohlc_taker_quote       29401 non-null  float64\n",
      " 13  l1_bid                 29401 non-null  float64\n",
      " 14  l1_ask                 29401 non-null  float64\n",
      " 15  l1_mid                 29401 non-null  float64\n",
      " 16  l1_spread              29401 non-null  float64\n",
      " 17  l1_bid_qty             29401 non-null  float64\n",
      " 18  l1_ask_qty             29401 non-null  float64\n",
      " 19  l1_imbalance           29401 non-null  float64\n",
      " 20  l2_bid_depth           29401 non-null  float64\n",
      " 21  l2_ask_depth           29401 non-null  float64\n",
      " 22  l2_depth_asymmetry     29401 non-null  float64\n",
      " 23  l2_bid_vwap            29401 non-null  float64\n",
      " 24  l2_ask_vwap            29401 non-null  float64\n",
      " 25  l2_bid_slope           29401 non-null  float64\n",
      " 26  l2_ask_slope           29401 non-null  float64\n",
      " 27  tr_volume_base         29401 non-null  float64\n",
      " 28  tr_volume_quote        29401 non-null  float64\n",
      " 29  tr_vwap                29401 non-null  float64\n",
      " 30  tr_buy_sell_imbalance  29401 non-null  float64\n",
      " 31  spot_price             29401 non-null  float64\n",
      " 32  perp_mark_price        29401 non-null  float64\n",
      " 33  basis_abs              29401 non-null  float64\n",
      " 34  basis_pct              29401 non-null  float64\n",
      " 35  funding_rate           29401 non-null  float64\n",
      " 36  next_funding_time_ms   29401 non-null  int64  \n",
      "dtypes: float64(30), int64(5), object(2)\n",
      "memory usage: 8.3+ MB\n"
     ]
    }
   ],
   "source": [
    "sample_size = df.count()[0]\n",
    "df.info()"
   ]
  },
  {
   "cell_type": "markdown",
   "metadata": {},
   "source": [
    "## Raw Features\n",
    "\n",
    "### General\n",
    "- **symbol**: Trading pair identifier (e.g., BTCUSDT).  \n",
    "- **ts_ms**: Data timestamp in milliseconds (epoch time).  \n",
    "- **iso_utc**: Data timestamp in human-readable UTC format.  \n",
    "\n",
    "### OHLC Data (Candlestick)\n",
    "- **ohlc_ts_open**: Opening timestamp for the candlestick period.  \n",
    "- **ohlc_open**: Opening price of the candlestick.  \n",
    "- **ohlc_high**: Highest price within the candlestick.  \n",
    "- **ohlc_low**: Lowest price within the candlestick.  \n",
    "- **ohlc_close**: Closing price of the candlestick.  \n",
    "- **ohlc_volume**: Trading volume during the candlestick (base asset units).  \n",
    "- **ohlc_ts_close**: Closing timestamp for the candlestick period.  \n",
    "- **ohlc_trades**: Number of trades in the candlestick.  \n",
    "- **ohlc_taker_base**: Base asset volume traded by takers (aggressors).  \n",
    "- **ohlc_taker_quote**: Quote asset volume traded by takers.  \n",
    "\n",
    "### Level 1 Order Book (Top of Book)\n",
    "- **l1_bid**: Best bid price (highest buy order).  \n",
    "- **l1_ask**: Best ask price (lowest sell order).  \n",
    "- **l1_mid**: Midpoint price between bid and ask.  \n",
    "- **l1_spread**: Difference between best ask and bid (ask - bid).  \n",
    "- **l1_bid_qty**: Quantity available at best bid.  \n",
    "- **l1_ask_qty**: Quantity available at best ask.  \n",
    "- **l1_imbalance**: Order book imbalance at Level 1 = (bid_qty – ask_qty) / (bid_qty + ask_qty).  \n",
    "\n",
    "### Level 2 Order Book (Depth of Market)\n",
    "- **l2_bid_depth**: Total buy-side liquidity across multiple bid levels.  \n",
    "- **l2_ask_depth**: Total sell-side liquidity across multiple ask levels.  \n",
    "- **l2_depth_asymmetry**: Relative difference between bid and ask depth.  \n",
    "- **l2_bid_vwap**: Volume-weighted average bid price across order book levels.  \n",
    "- **l2_ask_vwap**: Volume-weighted average ask price across order book levels.  \n",
    "- **l2_bid_slope**: Measure of how steeply bid prices rise with quantity (liquidity gradient).  \n",
    "- **l2_ask_slope**: Measure of how steeply ask prices rise with quantity.  \n",
    "\n",
    "### Trade Data\n",
    "- **tr_volume_base**: Total traded volume in base asset.  \n",
    "- **tr_volume_quote**: Total traded volume in quote asset.  \n",
    "- **tr_vwap**: Trade volume-weighted average price.  \n",
    "- **tr_buy_sell_imbalance**: Difference between buy-initiated and sell-initiated trade volumes.  \n",
    "\n",
    "### Derived Prices\n",
    "- **spot_price**: Current spot market price.  \n",
    "- **perp_mark_price**: Mark price used in perpetual futures to avoid manipulation.  \n",
    "- **basis_abs**: Absolute difference between perpetual mark price and spot price.  \n",
    "- **basis_pct**: Percentage difference between perpetual mark price and spot price.  \n",
    "- **funding_rate**: Periodic payment rate between long and short positions in perpetual contracts.  \n",
    "- **next_funding_time_ms**: Timestamp (ms) of the next funding event.  "
   ]
  },
  {
   "cell_type": "markdown",
   "metadata": {},
   "source": [
    "## Data hygiene & storage\n",
    "\n",
    "✔ Why: storage efficiency + ordering. A 10GB dataset may shrink to ~3-4GB when optimized."
   ]
  },
  {
   "cell_type": "code",
   "execution_count": 8,
   "metadata": {},
   "outputs": [],
   "source": [
    "# Ensure correct dtypes (saves memory on 10GB dataset)\n",
    "dtype_map = {\n",
    "    \"symbol\": \"category\",\n",
    "    \"ohlc_open\": \"float32\", \"ohlc_high\": \"float32\", \"ohlc_low\": \"float32\", \"ohlc_close\": \"float32\",\n",
    "    \"ohlc_volume\": \"float32\", \"ohlc_trades\": \"int32\",\n",
    "    \"ohlc_taker_base\": \"float32\", \"ohlc_taker_quote\": \"float32\",\n",
    "    \"l1_bid\": \"float32\", \"l1_ask\": \"float32\", \"l1_mid\": \"float32\", \"l1_spread\": \"float32\",\n",
    "    \"l1_bid_qty\": \"float32\", \"l1_ask_qty\": \"float32\", \"l1_imbalance\": \"float32\",\n",
    "    \"l2_bid_depth\": \"float32\", \"l2_ask_depth\": \"float32\", \"l2_depth_asymmetry\": \"float32\",\n",
    "    \"l2_bid_vwap\": \"float32\", \"l2_ask_vwap\": \"float32\",\n",
    "    \"l2_bid_slope\": \"float32\", \"l2_ask_slope\": \"float32\",\n",
    "    \"tr_volume_base\": \"float32\", \"tr_volume_quote\": \"float32\", \"tr_vwap\": \"float32\",\n",
    "    \"tr_buy_sell_imbalance\": \"float32\",\n",
    "    \"spot_price\": \"float32\", \"perp_mark_price\": \"float32\",\n",
    "    \"basis_abs\": \"float32\", \"basis_pct\": \"float32\", \"funding_rate\": \"float32\"\n",
    "}\n",
    "\n",
    "df = df.astype(dtype_map)\n",
    "\n",
    "# Make sure timestamp is datetime\n",
    "df[\"iso_utc\"] = pd.to_datetime(df[\"iso_utc\"])\n",
    "df = df.set_index(\"iso_utc\").sort_index()\n",
    "\n",
    "\n",
    "#Intergrity Check\n",
    "# Drop duplicates, check ordering\n",
    "df = df[~df.index.duplicated(keep=\"first\")].sort_index()\n",
    "\n",
    "# Sanity checks for OHLC\n",
    "mask = (\n",
    "    (df[\"ohlc_low\"] <= df[\"ohlc_open\"]) &\n",
    "    (df[\"ohlc_low\"] <= df[\"ohlc_close\"]) &\n",
    "    (df[\"ohlc_high\"] >= df[\"ohlc_open\"]) &\n",
    "    (df[\"ohlc_high\"] >= df[\"ohlc_close\"])\n",
    ")\n",
    "df = df[mask]\n",
    "\n",
    "# Check non-negative volumes\n",
    "df = df[df[\"ohlc_volume\"] >= 0]"
   ]
  },
  {
   "cell_type": "markdown",
   "metadata": {},
   "source": [
    "## Convert DataFrame to RiskLA AI Input Format"
   ]
  },
  {
   "cell_type": "code",
   "execution_count": 9,
   "metadata": {},
   "outputs": [
    {
     "data": {
      "text/html": [
       "<div>\n",
       "<style scoped>\n",
       "    .dataframe tbody tr th:only-of-type {\n",
       "        vertical-align: middle;\n",
       "    }\n",
       "\n",
       "    .dataframe tbody tr th {\n",
       "        vertical-align: top;\n",
       "    }\n",
       "\n",
       "    .dataframe thead th {\n",
       "        text-align: right;\n",
       "    }\n",
       "</style>\n",
       "<table border=\"1\" class=\"dataframe\">\n",
       "  <thead>\n",
       "    <tr style=\"text-align: right;\">\n",
       "      <th></th>\n",
       "      <th>date</th>\n",
       "      <th>price</th>\n",
       "      <th>volume</th>\n",
       "    </tr>\n",
       "    <tr>\n",
       "      <th>symbol</th>\n",
       "      <th></th>\n",
       "      <th></th>\n",
       "      <th></th>\n",
       "    </tr>\n",
       "  </thead>\n",
       "  <tbody>\n",
       "    <tr>\n",
       "      <th>BTCUSDT</th>\n",
       "      <td>2025-08-17 15:45:47.575950+00:00</td>\n",
       "      <td>118251.351562</td>\n",
       "      <td>0.75580</td>\n",
       "    </tr>\n",
       "    <tr>\n",
       "      <th>BTCUSDT</th>\n",
       "      <td>2025-08-17 15:46:47.606265+00:00</td>\n",
       "      <td>118234.531250</td>\n",
       "      <td>5.14589</td>\n",
       "    </tr>\n",
       "    <tr>\n",
       "      <th>BTCUSDT</th>\n",
       "      <td>2025-08-17 15:47:47.643040+00:00</td>\n",
       "      <td>118234.531250</td>\n",
       "      <td>2.35213</td>\n",
       "    </tr>\n",
       "    <tr>\n",
       "      <th>BTCUSDT</th>\n",
       "      <td>2025-08-17 15:48:47.662644+00:00</td>\n",
       "      <td>118234.523438</td>\n",
       "      <td>6.03409</td>\n",
       "    </tr>\n",
       "    <tr>\n",
       "      <th>BTCUSDT</th>\n",
       "      <td>2025-08-17 15:49:47.702649+00:00</td>\n",
       "      <td>118234.523438</td>\n",
       "      <td>1.28289</td>\n",
       "    </tr>\n",
       "  </tbody>\n",
       "</table>\n",
       "</div>"
      ],
      "text/plain": [
       "                                    date          price   volume\n",
       "symbol                                                          \n",
       "BTCUSDT 2025-08-17 15:45:47.575950+00:00  118251.351562  0.75580\n",
       "BTCUSDT 2025-08-17 15:46:47.606265+00:00  118234.531250  5.14589\n",
       "BTCUSDT 2025-08-17 15:47:47.643040+00:00  118234.531250  2.35213\n",
       "BTCUSDT 2025-08-17 15:48:47.662644+00:00  118234.523438  6.03409\n",
       "BTCUSDT 2025-08-17 15:49:47.702649+00:00  118234.523438  1.28289"
      ]
     },
     "execution_count": 9,
     "metadata": {},
     "output_type": "execute_result"
    }
   ],
   "source": [
    "df_riskAI = df.copy()\n",
    "df_riskAI = df_riskAI.loc[:, ['symbol', 'ohlc_close', 'ohlc_volume']]\n",
    "#rename column\n",
    "df_riskAI.reset_index(inplace=True) \n",
    "df_riskAI.set_index('symbol', inplace=True)\n",
    "df_riskAI.columns = ['date', 'price', 'volume']\n",
    "df_riskAI.head()"
   ]
  },
  {
   "cell_type": "markdown",
   "metadata": {},
   "source": [
    "## Load Existing Parameter Resampling Database"
   ]
  },
  {
   "cell_type": "code",
   "execution_count": 10,
   "metadata": {},
   "outputs": [
    {
     "data": {
      "text/plain": [
       "[{'ticker': 'BTCUSDT',\n",
       "  'Sampling_Scheme': 'expected_tick_imbalance_bars',\n",
       "  'n_trials': 50,\n",
       "  'n_samples': 29401,\n",
       "  'Shapiro-Wilk_statistic': 0.860134363,\n",
       "  'Shapiro-Wilk_pvalue': 0.0,\n",
       "  'window_size_for_expected_n_ticks_estimation': 5,\n",
       "  'window_size_for_expected_imbalance_estimation': 10000,\n",
       "  'initial_estimate_of_expected_n_ticks_in_bar': 20000,\n",
       "  'batch_size': 1000000},\n",
       " {'ticker': 'BTCUSDT',\n",
       "  'Sampling_Scheme': 'expected_volume_imbalance_bars',\n",
       "  'n_trials': 50,\n",
       "  'n_samples': 29401,\n",
       "  'Shapiro-Wilk_statistic': 0.966333091,\n",
       "  'Shapiro-Wilk_pvalue': 0.870860279,\n",
       "  'window_size_for_expected_n_ticks_estimation': 5,\n",
       "  'window_size_for_expected_imbalance_estimation': 10000,\n",
       "  'initial_estimate_of_expected_n_ticks_in_bar': 20000,\n",
       "  'batch_size': 1000000},\n",
       " {'ticker': 'BTCUSDT',\n",
       "  'Sampling_Scheme': 'expected_dollar_imbalance_bars',\n",
       "  'n_trials': 50,\n",
       "  'n_samples': 29401,\n",
       "  'Shapiro-Wilk_statistic': 0.961657166,\n",
       "  'Shapiro-Wilk_pvalue': 0.832820237,\n",
       "  'window_size_for_expected_n_ticks_estimation': 5,\n",
       "  'window_size_for_expected_imbalance_estimation': 10000,\n",
       "  'initial_estimate_of_expected_n_ticks_in_bar': 20000,\n",
       "  'batch_size': 1000000},\n",
       " {'ticker': 'BTCUSDT',\n",
       "  'Sampling_Scheme': 'expected_tick_run_bars',\n",
       "  'n_trials': 50,\n",
       "  'n_samples': 29401,\n",
       "  'Shapiro-Wilk_statistic': None,\n",
       "  'Shapiro-Wilk_pvalue': None,\n",
       "  'window_size_for_expected_n_ticks_estimation': 5,\n",
       "  'window_size_for_expected_imbalance_estimation': 10000,\n",
       "  'initial_estimate_of_expected_n_ticks_in_bar': 20000,\n",
       "  'batch_size': 1000000},\n",
       " {'ticker': 'BTCUSDT',\n",
       "  'Sampling_Scheme': 'expected_volume_run_bars',\n",
       "  'n_trials': 50,\n",
       "  'n_samples': 29401,\n",
       "  'Shapiro-Wilk_statistic': None,\n",
       "  'Shapiro-Wilk_pvalue': None,\n",
       "  'window_size_for_expected_n_ticks_estimation': 5,\n",
       "  'window_size_for_expected_imbalance_estimation': 10000,\n",
       "  'initial_estimate_of_expected_n_ticks_in_bar': 20000,\n",
       "  'batch_size': 1000000},\n",
       " {'ticker': 'BTCUSDT',\n",
       "  'Sampling_Scheme': 'expected_dollar_run_bars',\n",
       "  'n_trials': 50,\n",
       "  'n_samples': 29401,\n",
       "  'Shapiro-Wilk_statistic': None,\n",
       "  'Shapiro-Wilk_pvalue': None,\n",
       "  'window_size_for_expected_n_ticks_estimation': 5,\n",
       "  'window_size_for_expected_imbalance_estimation': 10000,\n",
       "  'initial_estimate_of_expected_n_ticks_in_bar': 20000,\n",
       "  'batch_size': 1000000},\n",
       " {'ticker': 'BTCUSDT',\n",
       "  'Sampling_Scheme': 'expected_dollar_run_bars',\n",
       "  'n_trials': 50,\n",
       "  'n_samples': 29401,\n",
       "  'Shapiro-Wilk_statistic': 0.971702158,\n",
       "  'Shapiro-Wilk_pvalue': 0.567036927,\n",
       "  'window_size_for_expected_n_ticks_estimation': 100,\n",
       "  'window_size_for_expected_imbalance_estimation': 1000,\n",
       "  'initial_estimate_of_expected_n_ticks_in_bar': 500,\n",
       "  'batch_size': 1000000},\n",
       " {'ticker': 'BTCUSDT',\n",
       "  'Sampling_Scheme': 'expected_dollar_imbalance_bars',\n",
       "  'n_trials': 200,\n",
       "  'n_samples': 29401,\n",
       "  'Shapiro-Wilk_statistic': 0.9999974966049194,\n",
       "  'Shapiro-Wilk_pvalue': 0.9969781962478527,\n",
       "  'window_size_for_expected_n_ticks_estimation': 48,\n",
       "  'window_size_for_expected_imbalance_estimation': 2945,\n",
       "  'initial_estimate_of_expected_n_ticks_in_bar': 3211,\n",
       "  'batch_size': 745904},\n",
       " {'ticker': 'BTCUSDT',\n",
       "  'Sampling_Scheme': 'expected_tick_imbalance_bars',\n",
       "  'n_trials': 200,\n",
       "  'n_samples': 29401,\n",
       "  'Shapiro-Wilk_statistic': 0.9998491406440735,\n",
       "  'Shapiro-Wilk_pvalue': 0.9765415981039764,\n",
       "  'window_size_for_expected_n_ticks_estimation': 44,\n",
       "  'window_size_for_expected_imbalance_estimation': 7415,\n",
       "  'initial_estimate_of_expected_n_ticks_in_bar': 6618,\n",
       "  'batch_size': 1732204},\n",
       " {'ticker': 'BTCUSDT',\n",
       "  'Sampling_Scheme': 'expected_volume_imbalance_bars',\n",
       "  'n_trials': 200,\n",
       "  'n_samples': 29401,\n",
       "  'Shapiro-Wilk_statistic': 0.9999966025352478,\n",
       "  'Shapiro-Wilk_pvalue': 0.9964797046378101,\n",
       "  'window_size_for_expected_n_ticks_estimation': 29,\n",
       "  'window_size_for_expected_imbalance_estimation': 2128,\n",
       "  'initial_estimate_of_expected_n_ticks_in_bar': 2645,\n",
       "  'batch_size': 1377345},\n",
       " {'ticker': 'BTCUSDT',\n",
       "  'Sampling_Scheme': 'expected_dollar_imbalance_bars',\n",
       "  'n_trials': 200,\n",
       "  'n_samples': 29401,\n",
       "  'Shapiro-Wilk_statistic': 0.9999977946281433,\n",
       "  'Shapiro-Wilk_pvalue': 0.9971637634369476,\n",
       "  'window_size_for_expected_n_ticks_estimation': 28,\n",
       "  'window_size_for_expected_imbalance_estimation': 2622,\n",
       "  'initial_estimate_of_expected_n_ticks_in_bar': 2772,\n",
       "  'batch_size': 85682},\n",
       " {'ticker': 'BTCUSDT',\n",
       "  'Sampling_Scheme': 'expected_tick_imbalance_bars',\n",
       "  'n_trials': 200,\n",
       "  'n_samples': 29401,\n",
       "  'Shapiro-Wilk_statistic': 0.9999843239784241,\n",
       "  'Shapiro-Wilk_pvalue': 0.9924382826702495,\n",
       "  'window_size_for_expected_n_ticks_estimation': 47,\n",
       "  'window_size_for_expected_imbalance_estimation': 7211,\n",
       "  'initial_estimate_of_expected_n_ticks_in_bar': 6600,\n",
       "  'batch_size': 970131}]"
      ]
     },
     "execution_count": 10,
     "metadata": {},
     "output_type": "execute_result"
    }
   ],
   "source": [
    "param_db_filename = 'params_resampling-scheme.json'\n",
    "# Open and load JSON file\n",
    "\n",
    "def load_param_resampling_db(file_name):\n",
    "    with open(file_name, \"r\") as f:\n",
    "        df_params = json.load(f)\n",
    "    return df_params\n",
    "\n",
    "db_resampling_params = load_param_resampling_db(param_db_filename)\n",
    "db_resampling_params"
   ]
  },
  {
   "cell_type": "code",
   "execution_count": 11,
   "metadata": {},
   "outputs": [],
   "source": [
    "#load best parameters in the resampling database\n",
    "def db_resampling_best_params(_sampling_method,db_params):\n",
    "    db = pd.DataFrame(db_params)\n",
    "    db = db.loc[db['Sampling_Scheme'] ==_sampling_method]\n",
    "\n",
    "    # Sort by 'n_samples' first, then by 'Shapiro-Wilk_pvalue', then by 'Shapiro-Wilk_statistic'\n",
    "    db = db.sort_values(\n",
    "        by=['n_samples', 'Shapiro-Wilk_pvalue', 'Shapiro-Wilk_statistic'],\n",
    "        ascending=[True, True, True])   # example: n_samples ↑, pvalue ↓, stat ↓\n",
    "\n",
    "    return db.tail(1).to_dict(orient=\"records\")[0]"
   ]
  },
  {
   "cell_type": "code",
   "execution_count": 12,
   "metadata": {},
   "outputs": [
    {
     "data": {
      "text/plain": [
       "{'ticker': 'BTCUSDT',\n",
       " 'Sampling_Scheme': 'expected_dollar_imbalance_bars',\n",
       " 'n_trials': 200,\n",
       " 'n_samples': 29401,\n",
       " 'Shapiro-Wilk_statistic': 0.9999977946281433,\n",
       " 'Shapiro-Wilk_pvalue': 0.9971637634369476,\n",
       " 'window_size_for_expected_n_ticks_estimation': 28,\n",
       " 'window_size_for_expected_imbalance_estimation': 2622,\n",
       " 'initial_estimate_of_expected_n_ticks_in_bar': 2772,\n",
       " 'batch_size': 85682}"
      ]
     },
     "execution_count": 12,
     "metadata": {},
     "output_type": "execute_result"
    }
   ],
   "source": [
    "db_best_params = db_resampling_best_params(_sampling_method='expected_dollar_imbalance_bars',db_params=db_resampling_params)\n",
    "db_best_params"
   ]
  },
  {
   "cell_type": "code",
   "execution_count": 13,
   "metadata": {},
   "outputs": [],
   "source": [
    "# import pandas as pd\n",
    "\n",
    "# df = pd.read_csv(\"params_resampling-scheme.csv\")\n",
    "\n",
    "# df.to_json(\"params_resampling-scheme.json\", orient=\"records\", indent=2)\n",
    "\n",
    "# print(\"✅ Saved params_resampling-scheme.json\")"
   ]
  },
  {
   "cell_type": "markdown",
   "metadata": {},
   "source": [
    "# Utilily Functions"
   ]
  },
  {
   "cell_type": "markdown",
   "metadata": {},
   "source": [
    "## Helper Functions"
   ]
  },
  {
   "cell_type": "markdown",
   "metadata": {},
   "source": [
    "Summed (additive counts / volumes)\n",
    "\n",
    "We sum over the ticks inside each bar:\n",
    "\t•\tohlc_trades\n",
    "\t•\tohlc_taker_base\n",
    "\t•\tohlc_taker_quote\n",
    "\t•\ttr_volume_base\n",
    "\t•\ttr_volume_quote\n",
    "\n",
    "⸻\n",
    "\n",
    "Last (state-like snapshots, take the latest tick in the bar)\n",
    "\n",
    "We forward-fill within the bar only, then take the last available value:\n",
    "\t•\tl1_bid, l1_ask, l1_mid, l1_spread\n",
    "\t•\tl1_bid_qty, l1_ask_qty, l1_imbalance\n",
    "\t•\tl2_bid_depth, l2_ask_depth, l2_depth_asymmetry\n",
    "\t•\tl2_bid_vwap, l2_ask_vwap, l2_bid_slope, l2_ask_slope\n",
    "\t•\tspot_price, perp_mark_price\n",
    "\t•\tbasis_abs, basis_pct\n",
    "\t•\tfunding_rate, next_funding_time_ms\n",
    "\n",
    "(These are “levels” or “state variables” you’d want at the bar close.)\n",
    "\n",
    "⸻\n",
    "\n",
    "Mean (averaged inside the bar)\n",
    "\t•\ttr_buy_sell_imbalance\n",
    "\n",
    "⸻\n",
    "\n",
    "Weighted mean (value × volume / total volume)\n",
    "\t•\ttr_vwap (weighted by tr_volume_base)\n",
    "\n",
    "(This is the standard definition of VWAP: average trade price weighted by base-asset volume.)"
   ]
  },
  {
   "cell_type": "code",
   "execution_count": 14,
   "metadata": {},
   "outputs": [],
   "source": [
    "log_return = lambda s: np.log(s).diff().dropna()"
   ]
  },
  {
   "cell_type": "markdown",
   "metadata": {},
   "source": [
    "# Hyper Parameter Optimization with Optuna"
   ]
  },
  {
   "cell_type": "markdown",
   "metadata": {},
   "source": [
    "## Optimization_Helper Function"
   ]
  },
  {
   "cell_type": "code",
   "execution_count": 15,
   "metadata": {},
   "outputs": [],
   "source": [
    "Imbalance_sampling_method = [\"expected_tick_imbalance_bars\", \"expected_volume_imbalance_bars\", \"expected_dollar_imbalance_bars\"]\n",
    "run_bars_sampling_method  = [\"expected_tick_run_bars\", \"expected_volume_run_bars\", \"expected_dollar_run_bars\"]\n",
    "\n",
    "def sampling_best_params(sampling_method, df_sample, params_resampling_db, db_file_name, trials=50):\n",
    "\n",
    "    # ---- preload baseline from DB, with fallback\n",
    "    try:\n",
    "        _db_best_params = db_resampling_best_params(_sampling_method=sampling_method, db_params=params_resampling_db)\n",
    "        baseline_params = {\n",
    "            \"window_size_for_expected_n_ticks_estimation\": int(_db_best_params[\"window_size_for_expected_n_ticks_estimation\"]),\n",
    "            \"window_size_for_expected_imbalance_estimation\": int(_db_best_params[\"window_size_for_expected_imbalance_estimation\"]),\n",
    "            \"initial_estimate_of_expected_n_ticks_in_bar\": int(_db_best_params[\"initial_estimate_of_expected_n_ticks_in_bar\"]),\n",
    "            \"batch_size\": int(_db_best_params[\"batch_size\"]),\n",
    "        }\n",
    "    except Exception:\n",
    "        # sensible midpoints as a fallback\n",
    "        baseline_params = {\n",
    "            \"window_size_for_expected_n_ticks_estimation\": 5,\n",
    "            \"window_size_for_expected_imbalance_estimation\": 10000,\n",
    "            \"initial_estimate_of_expected_n_ticks_in_bar\": 20000,\n",
    "            \"batch_size\": 1_000_000,\n",
    "        }\n",
    "\n",
    "    def objective(trial):\n",
    "        # Hyperparameters to tune\n",
    "        param = {\n",
    "            \"window_size_for_expected_n_ticks_estimation\": trial.suggest_int(\"window_size_for_expected_n_ticks_estimation\", 1, 50),\n",
    "            \"window_size_for_expected_imbalance_estimation\": trial.suggest_int(\"window_size_for_expected_imbalance_estimation\", 100, 20000),\n",
    "            \"initial_estimate_of_expected_n_ticks_in_bar\": trial.suggest_int(\"initial_estimate_of_expected_n_ticks_in_bar\", 500, 20000),\n",
    "            # or log-scale (Optuna ≥3 supports log for suggest_int)\n",
    "            \"batch_size\": trial.suggest_int(\"batch_size\", 50_000, 2_000_000, log=True)\n",
    "        }\n",
    "\n",
    "        # detect if this is the enqueued baseline trial\n",
    "        is_baseline = all(trial.params.get(k) == v for k, v in baseline_params.items())\n",
    "\n",
    "        # Generate imbalance bars\n",
    "        info_driven_bar = controller.handle_input_command(\n",
    "            method_name=sampling_method,\n",
    "            method_arguments={\n",
    "                \"window_size_for_expected_n_ticks_estimation\": param[\"window_size_for_expected_n_ticks_estimation\"],\n",
    "                \"window_size_for_expected_imbalance_estimation\": param[\"window_size_for_expected_imbalance_estimation\"],\n",
    "                \"initial_estimate_of_expected_n_ticks_in_bar\": param[\"initial_estimate_of_expected_n_ticks_in_bar\"],\n",
    "            },\n",
    "            input_data=df_sample,\n",
    "            batch_size=param[\"batch_size\"],\n",
    "        )\n",
    "        \n",
    "        # Compute returns from info_driven_bar\n",
    "        info_driven_bar_returns = log_return(info_driven_bar['Close'])\n",
    "\n",
    "        # guardrails\n",
    "        if info_driven_bar_returns.size < 3 or np.allclose(np.var(info_driven_bar_returns), 0.0):\n",
    "            # baseline must NEVER be pruned; return a penalty instead\n",
    "            if is_baseline:\n",
    "                return 1.0\n",
    "            raise TrialPruned(\"Not enough data / zero variance\")\n",
    "\n",
    "\n",
    "        # Shapiro-Wilk test\n",
    "        #minimum 3 datapoints\n",
    "        # --- Guardrails for Shapiro ---\n",
    "        # too few points → either prune or penalize\n",
    "        if info_driven_bar_returns.size < 3:\n",
    "            # Prefer pruning so Optuna doesn’t waste time on bad regions:\n",
    "            raise optuna.TrialPruned(\"Not enough data points for Shapiro (need >= 3).\")\n",
    "            # or alternatively: return 1.0  # penalty\n",
    "\n",
    "        # zero variance also breaks normality tests\n",
    "        if np.allclose(np.var(info_driven_bar_returns ), 0.0):\n",
    "            raise optuna.TrialPruned(\"Zero-variance returns.\")\n",
    "\n",
    "        # Shapiro recommended max n=5000; subsample if larger\n",
    "        if info_driven_bar_returns.size > 5000:\n",
    "            rng = np.random.default_rng(42)\n",
    "            idx = rng.choice(info_driven_bar_returns.size, size=5000, replace=False)\n",
    "            sample = info_driven_bar_returns[idx]\n",
    "        else:\n",
    "            sample = info_driven_bar_returns\n",
    "        \n",
    "        # --- Shapiro–Wilk test ---\n",
    "        # We want \"more normal\" = better → maximize statistic (close to 1).\n",
    "        # Optuna minimizes by default, so we return (1 - stat).\n",
    "        try:\n",
    "            stat, pval = stats.shapiro(sample)\n",
    "        except ValueError as e:\n",
    "            # e.g., numerical issues → prune this trial\n",
    "            raise optuna.TrialPruned(f\"Shapiro failed: {e}\")\n",
    "\n",
    "        # Store extra values for later inspection\n",
    "        trial.set_user_attr(\"shapiro_stat\", float(stat))\n",
    "        trial.set_user_attr(\"shapiro_pval\", float(pval))\n",
    "\n",
    "\n",
    "        return 1.0 - float(stat)  # lower is better (stat closer to 1)\n",
    "    \n",
    "    def _saved_to_db (_new_params, db, file_name):\n",
    "        params_resampling_db.append(_new_params)\n",
    "        with open(file_name, \"w\") as f:\n",
    "            json.dump(params_resampling_db, f, indent=4)\n",
    "\n",
    "    # ---- run study\n",
    "    study = optuna.create_study(direction=\"minimize\", sampler=TPESampler(seed=42))# minimize 1 - stat\n",
    "    study.enqueue_trial(baseline_params)\n",
    "    study.optimize(objective, n_trials=trials)\n",
    "\n",
    "\n",
    "    best = study.best_trial   # <--- define best here\n",
    "\n",
    "    sample_size = len(df_sample)\n",
    "    new_stat = best.user_attrs.get('shapiro_stat')\n",
    "    new_pvalue =best.user_attrs.get('shapiro_pval')\n",
    "\n",
    "    new_params = {  'ticker': df_sample.index.unique()[0],\n",
    "                    'Sampling_Scheme': sampling_method,\n",
    "                    'n_trials' : trials,\n",
    "                    'n_samples': sample_size,\n",
    "                    'Shapiro-Wilk_statistic': new_stat ,\n",
    "                    'Shapiro-Wilk_pvalue': new_pvalue ,\n",
    "                } | study.best_params \n",
    "\n",
    "    \n",
    "    # save new param set to database if not already present\n",
    "    if new_params in params_resampling_db:\n",
    "        print(\"⚠️ Resampling parameters already exist in the database.\")\n",
    "    \n",
    "    elif new_pvalue is None or new_stat is None:\n",
    "        print(\n",
    "            \"ℹ️ New parameters contain None values — keeping existing best parameters.\\n\"\n",
    "            f\"New params candidate: {new_params}\\n\"\n",
    "            f\"Existing best params: {_db_best_params}\"\n",
    "            )\n",
    "        return _db_best_params\n",
    "    else:\n",
    "        #Saved to database\n",
    "        if sample_size > _db_best_params[\"n_samples\"]:\n",
    "            _saved_to_db(_new_params=new_params, db=params_resampling_db, file_name=db_file_name)\n",
    "            print(\n",
    "                f\"✅ Saved new parameters (larger sample size: {sample_size} vs \"\n",
    "                f\"{_db_best_params['n_samples']}).\"\n",
    "            )\n",
    "            return new_params\n",
    "        #skip new paramaters\n",
    "        elif sample_size < _db_best_params[\"n_samples\"]:\n",
    "            print(\n",
    "                f\"ℹ️  Smaller sample size ({sample_size} vs {_db_best_params['n_samples']}). \"\n",
    "                \"Keeping existing best parameters.\"\n",
    "            )\n",
    "            return _db_best_params\n",
    "        #Saved to database\n",
    "        elif (\n",
    "            sample_size == _db_best_params[\"n_samples\"]\n",
    "            and new_pvalue > _db_best_params[\"Shapiro-Wilk_pvalue\"]\n",
    "        ):\n",
    "            _saved_to_db(_new_params=new_params, db=params_resampling_db, file_name=db_file_name)\n",
    "            print(\n",
    "                f\"🔄 Same sample size ({sample_size}) but better p-value \"\n",
    "                f\"({new_pvalue:.4f} vs {_db_best_params['Shapiro-Wilk_pvalue']:.4f}). \"\n",
    "                \"Updated with new parameters.\"\n",
    "            )\n",
    "            return new_params\n",
    "        #skip new paramaters       \n",
    "        else:\n",
    "            print(\"ℹ️ Did not satisfy update conditions — keeping existing best parameters.\")\n",
    "            print(\"New params candidate:\", new_params)\n",
    "            print(\"Existing best params:\", _db_best_params)\n",
    "            return _db_best_params"
   ]
  },
  {
   "cell_type": "markdown",
   "metadata": {},
   "source": [
    "## Optimized Sampling Schemes Parameters"
   ]
  },
  {
   "cell_type": "markdown",
   "metadata": {},
   "source": [
    "### Optimized Imbalance Bars"
   ]
  },
  {
   "cell_type": "code",
   "execution_count": 16,
   "metadata": {},
   "outputs": [],
   "source": [
    "n_trials = 5\n"
   ]
  },
  {
   "cell_type": "markdown",
   "metadata": {},
   "source": [
    "##### Imbalance Tick Bars Parameters"
   ]
  },
  {
   "cell_type": "code",
   "execution_count": 17,
   "metadata": {},
   "outputs": [
    {
     "name": "stderr",
     "output_type": "stream",
     "text": [
      "[I 2025-09-13 14:34:34,681] A new study created in memory with name: no-name-385ab66d-4be1-4975-80cf-ee299e865359\n"
     ]
    },
    {
     "name": "stdout",
     "output_type": "stream",
     "text": [
      "Processing batch 0 with size 29401\n"
     ]
    },
    {
     "name": "stderr",
     "output_type": "stream",
     "text": [
      "[I 2025-09-13 14:34:34,918] Trial 0 finished with value: 1.5676021575927734e-05 and parameters: {'window_size_for_expected_n_ticks_estimation': 47, 'window_size_for_expected_imbalance_estimation': 7211, 'initial_estimate_of_expected_n_ticks_in_bar': 6600, 'batch_size': 970131}. Best is trial 0 with value: 1.5676021575927734e-05.\n"
     ]
    },
    {
     "name": "stdout",
     "output_type": "stream",
     "text": [
      "Processing batch 0 with size 29401\n"
     ]
    },
    {
     "name": "stderr",
     "output_type": "stream",
     "text": [
      "[I 2025-09-13 14:34:40,801] Trial 1 finished with value: 0.09569716453552246 and parameters: {'window_size_for_expected_n_ticks_estimation': 19, 'window_size_for_expected_imbalance_estimation': 19020, 'initial_estimate_of_expected_n_ticks_in_bar': 14774, 'batch_size': 455046}. Best is trial 0 with value: 1.5676021575927734e-05.\n"
     ]
    },
    {
     "name": "stdout",
     "output_type": "stream",
     "text": [
      "Processing batch 0 with size 29401\n"
     ]
    },
    {
     "name": "stderr",
     "output_type": "stream",
     "text": [
      "[I 2025-09-13 14:34:43,169] Trial 2 finished with value: 0.09380596876144409 and parameters: {'window_size_for_expected_n_ticks_estimation': 8, 'window_size_for_expected_imbalance_estimation': 3204, 'initial_estimate_of_expected_n_ticks_in_bar': 1632, 'batch_size': 1220775}. Best is trial 0 with value: 1.5676021575927734e-05.\n"
     ]
    },
    {
     "name": "stdout",
     "output_type": "stream",
     "text": [
      "Processing batch 0 with size 29401\n"
     ]
    },
    {
     "name": "stderr",
     "output_type": "stream",
     "text": [
      "[I 2025-09-13 14:34:51,935] Trial 3 finished with value: 0.05949205160140991 and parameters: {'window_size_for_expected_n_ticks_estimation': 31, 'window_size_for_expected_imbalance_estimation': 14191, 'initial_estimate_of_expected_n_ticks_in_bar': 901, 'batch_size': 1789879}. Best is trial 0 with value: 1.5676021575927734e-05.\n",
      "[I 2025-09-13 14:34:52,058] Trial 4 pruned. Not enough data / zero variance\n"
     ]
    },
    {
     "name": "stdout",
     "output_type": "stream",
     "text": [
      "Processing batch 0 with size 29401\n",
      "ℹ️ Did not satisfy update conditions — keeping existing best parameters.\n",
      "New params candidate: {'ticker': 'BTCUSDT', 'Sampling_Scheme': 'expected_tick_imbalance_bars', 'n_trials': 5, 'n_samples': 29401, 'Shapiro-Wilk_statistic': 0.9999843239784241, 'Shapiro-Wilk_pvalue': 0.9924382826702495, 'window_size_for_expected_n_ticks_estimation': 47, 'window_size_for_expected_imbalance_estimation': 7211, 'initial_estimate_of_expected_n_ticks_in_bar': 6600, 'batch_size': 970131}\n",
      "Existing best params: {'ticker': 'BTCUSDT', 'Sampling_Scheme': 'expected_tick_imbalance_bars', 'n_trials': 200, 'n_samples': 29401, 'Shapiro-Wilk_statistic': 0.9999843239784241, 'Shapiro-Wilk_pvalue': 0.9924382826702495, 'window_size_for_expected_n_ticks_estimation': 47, 'window_size_for_expected_imbalance_estimation': 7211, 'initial_estimate_of_expected_n_ticks_in_bar': 6600, 'batch_size': 970131}\n"
     ]
    },
    {
     "data": {
      "text/plain": [
       "{'ticker': 'BTCUSDT',\n",
       " 'Sampling_Scheme': 'expected_tick_imbalance_bars',\n",
       " 'n_trials': 200,\n",
       " 'n_samples': 29401,\n",
       " 'Shapiro-Wilk_statistic': 0.9999843239784241,\n",
       " 'Shapiro-Wilk_pvalue': 0.9924382826702495,\n",
       " 'window_size_for_expected_n_ticks_estimation': 47,\n",
       " 'window_size_for_expected_imbalance_estimation': 7211,\n",
       " 'initial_estimate_of_expected_n_ticks_in_bar': 6600,\n",
       " 'batch_size': 970131}"
      ]
     },
     "execution_count": 17,
     "metadata": {},
     "output_type": "execute_result"
    }
   ],
   "source": [
    "params_expected_tick_bars = sampling_best_params(sampling_method='expected_tick_imbalance_bars', \n",
    "                                                df_sample=df_riskAI, \n",
    "                                                params_resampling_db=db_resampling_params, \n",
    "                                                db_file_name=param_db_filename , \n",
    "                                                trials=n_trials)\n",
    "params_expected_tick_bars"
   ]
  },
  {
   "cell_type": "markdown",
   "metadata": {},
   "source": [
    "##### Imbalance Volume Bars Parameters"
   ]
  },
  {
   "cell_type": "code",
   "execution_count": 18,
   "metadata": {},
   "outputs": [
    {
     "name": "stderr",
     "output_type": "stream",
     "text": [
      "[I 2025-09-13 14:34:52,066] A new study created in memory with name: no-name-ea07b9bf-6273-4e75-ab52-6cbbdfecb8b1\n"
     ]
    },
    {
     "name": "stdout",
     "output_type": "stream",
     "text": [
      "Processing batch 0 with size 29401\n"
     ]
    },
    {
     "name": "stderr",
     "output_type": "stream",
     "text": [
      "[I 2025-09-13 14:34:52,193] Trial 0 finished with value: 3.3974647521972656e-06 and parameters: {'window_size_for_expected_n_ticks_estimation': 29, 'window_size_for_expected_imbalance_estimation': 2128, 'initial_estimate_of_expected_n_ticks_in_bar': 2645, 'batch_size': 1377345}. Best is trial 0 with value: 3.3974647521972656e-06.\n"
     ]
    },
    {
     "name": "stdout",
     "output_type": "stream",
     "text": [
      "Processing batch 0 with size 29401\n"
     ]
    },
    {
     "name": "stderr",
     "output_type": "stream",
     "text": [
      "[I 2025-09-13 14:34:52,322] Trial 1 pruned. Not enough data / zero variance\n"
     ]
    },
    {
     "name": "stdout",
     "output_type": "stream",
     "text": [
      "Processing batch 0 with size 29401\n"
     ]
    },
    {
     "name": "stderr",
     "output_type": "stream",
     "text": [
      "[I 2025-09-13 14:34:52,449] Trial 2 finished with value: 0.022551000118255615 and parameters: {'window_size_for_expected_n_ticks_estimation': 8, 'window_size_for_expected_imbalance_estimation': 3204, 'initial_estimate_of_expected_n_ticks_in_bar': 1632, 'batch_size': 1220775}. Best is trial 0 with value: 3.3974647521972656e-06.\n"
     ]
    },
    {
     "name": "stdout",
     "output_type": "stream",
     "text": [
      "Processing batch 0 with size 29401\n"
     ]
    },
    {
     "name": "stderr",
     "output_type": "stream",
     "text": [
      "[I 2025-09-13 14:34:59,718] Trial 3 finished with value: 0.25781190395355225 and parameters: {'window_size_for_expected_n_ticks_estimation': 31, 'window_size_for_expected_imbalance_estimation': 14191, 'initial_estimate_of_expected_n_ticks_in_bar': 901, 'batch_size': 1789879}. Best is trial 0 with value: 3.3974647521972656e-06.\n",
      "[I 2025-09-13 14:34:59,843] Trial 4 finished with value: 0.15361559391021729 and parameters: {'window_size_for_expected_n_ticks_estimation': 42, 'window_size_for_expected_imbalance_estimation': 4325, 'initial_estimate_of_expected_n_ticks_in_bar': 4045, 'batch_size': 98354}. Best is trial 0 with value: 3.3974647521972656e-06.\n"
     ]
    },
    {
     "name": "stdout",
     "output_type": "stream",
     "text": [
      "Processing batch 0 with size 29401\n",
      "ℹ️ Did not satisfy update conditions — keeping existing best parameters.\n",
      "New params candidate: {'ticker': 'BTCUSDT', 'Sampling_Scheme': 'expected_volume_imbalance_bars', 'n_trials': 5, 'n_samples': 29401, 'Shapiro-Wilk_statistic': 0.9999966025352478, 'Shapiro-Wilk_pvalue': 0.9964797046378101, 'window_size_for_expected_n_ticks_estimation': 29, 'window_size_for_expected_imbalance_estimation': 2128, 'initial_estimate_of_expected_n_ticks_in_bar': 2645, 'batch_size': 1377345}\n",
      "Existing best params: {'ticker': 'BTCUSDT', 'Sampling_Scheme': 'expected_volume_imbalance_bars', 'n_trials': 200, 'n_samples': 29401, 'Shapiro-Wilk_statistic': 0.9999966025352478, 'Shapiro-Wilk_pvalue': 0.9964797046378101, 'window_size_for_expected_n_ticks_estimation': 29, 'window_size_for_expected_imbalance_estimation': 2128, 'initial_estimate_of_expected_n_ticks_in_bar': 2645, 'batch_size': 1377345}\n"
     ]
    },
    {
     "data": {
      "text/plain": [
       "{'ticker': 'BTCUSDT',\n",
       " 'Sampling_Scheme': 'expected_volume_imbalance_bars',\n",
       " 'n_trials': 200,\n",
       " 'n_samples': 29401,\n",
       " 'Shapiro-Wilk_statistic': 0.9999966025352478,\n",
       " 'Shapiro-Wilk_pvalue': 0.9964797046378101,\n",
       " 'window_size_for_expected_n_ticks_estimation': 29,\n",
       " 'window_size_for_expected_imbalance_estimation': 2128,\n",
       " 'initial_estimate_of_expected_n_ticks_in_bar': 2645,\n",
       " 'batch_size': 1377345}"
      ]
     },
     "execution_count": 18,
     "metadata": {},
     "output_type": "execute_result"
    }
   ],
   "source": [
    "params_expected_volume_bars = sampling_best_params(sampling_method='expected_volume_imbalance_bars', \n",
    "                                                df_sample=df_riskAI, \n",
    "                                                params_resampling_db=db_resampling_params, \n",
    "                                                db_file_name=param_db_filename , \n",
    "                                                trials=n_trials)\n",
    "params_expected_volume_bars"
   ]
  },
  {
   "cell_type": "markdown",
   "metadata": {},
   "source": [
    "##### Imbalance Dollar Bars Parameters"
   ]
  },
  {
   "cell_type": "code",
   "execution_count": 19,
   "metadata": {},
   "outputs": [
    {
     "name": "stderr",
     "output_type": "stream",
     "text": [
      "[I 2025-09-13 14:34:59,852] A new study created in memory with name: no-name-abfa1859-3b69-412c-84bf-222123484c41\n"
     ]
    },
    {
     "name": "stdout",
     "output_type": "stream",
     "text": [
      "Processing batch 0 with size 29401\n"
     ]
    },
    {
     "name": "stderr",
     "output_type": "stream",
     "text": [
      "[I 2025-09-13 14:34:59,978] Trial 0 finished with value: 2.205371856689453e-06 and parameters: {'window_size_for_expected_n_ticks_estimation': 28, 'window_size_for_expected_imbalance_estimation': 2622, 'initial_estimate_of_expected_n_ticks_in_bar': 2772, 'batch_size': 85682}. Best is trial 0 with value: 2.205371856689453e-06.\n"
     ]
    },
    {
     "name": "stdout",
     "output_type": "stream",
     "text": [
      "Processing batch 0 with size 29401\n"
     ]
    },
    {
     "name": "stderr",
     "output_type": "stream",
     "text": [
      "[I 2025-09-13 14:35:00,105] Trial 1 pruned. Not enough data / zero variance\n"
     ]
    },
    {
     "name": "stdout",
     "output_type": "stream",
     "text": [
      "Processing batch 0 with size 29401\n"
     ]
    },
    {
     "name": "stderr",
     "output_type": "stream",
     "text": [
      "[I 2025-09-13 14:35:00,231] Trial 2 finished with value: 0.022551000118255615 and parameters: {'window_size_for_expected_n_ticks_estimation': 8, 'window_size_for_expected_imbalance_estimation': 3204, 'initial_estimate_of_expected_n_ticks_in_bar': 1632, 'batch_size': 1220775}. Best is trial 0 with value: 2.205371856689453e-06.\n"
     ]
    },
    {
     "name": "stdout",
     "output_type": "stream",
     "text": [
      "Processing batch 0 with size 29401\n"
     ]
    },
    {
     "name": "stderr",
     "output_type": "stream",
     "text": [
      "[I 2025-09-13 14:35:07,390] Trial 3 finished with value: 0.25016772747039795 and parameters: {'window_size_for_expected_n_ticks_estimation': 31, 'window_size_for_expected_imbalance_estimation': 14191, 'initial_estimate_of_expected_n_ticks_in_bar': 901, 'batch_size': 1789879}. Best is trial 0 with value: 2.205371856689453e-06.\n",
      "[I 2025-09-13 14:35:07,514] Trial 4 finished with value: 0.15361559391021729 and parameters: {'window_size_for_expected_n_ticks_estimation': 42, 'window_size_for_expected_imbalance_estimation': 4325, 'initial_estimate_of_expected_n_ticks_in_bar': 4045, 'batch_size': 98354}. Best is trial 0 with value: 2.205371856689453e-06.\n"
     ]
    },
    {
     "name": "stdout",
     "output_type": "stream",
     "text": [
      "Processing batch 0 with size 29401\n",
      "ℹ️ Did not satisfy update conditions — keeping existing best parameters.\n",
      "New params candidate: {'ticker': 'BTCUSDT', 'Sampling_Scheme': 'expected_dollar_imbalance_bars', 'n_trials': 5, 'n_samples': 29401, 'Shapiro-Wilk_statistic': 0.9999977946281433, 'Shapiro-Wilk_pvalue': 0.9971637634369476, 'window_size_for_expected_n_ticks_estimation': 28, 'window_size_for_expected_imbalance_estimation': 2622, 'initial_estimate_of_expected_n_ticks_in_bar': 2772, 'batch_size': 85682}\n",
      "Existing best params: {'ticker': 'BTCUSDT', 'Sampling_Scheme': 'expected_dollar_imbalance_bars', 'n_trials': 200, 'n_samples': 29401, 'Shapiro-Wilk_statistic': 0.9999977946281433, 'Shapiro-Wilk_pvalue': 0.9971637634369476, 'window_size_for_expected_n_ticks_estimation': 28, 'window_size_for_expected_imbalance_estimation': 2622, 'initial_estimate_of_expected_n_ticks_in_bar': 2772, 'batch_size': 85682}\n"
     ]
    },
    {
     "data": {
      "text/plain": [
       "{'ticker': 'BTCUSDT',\n",
       " 'Sampling_Scheme': 'expected_dollar_imbalance_bars',\n",
       " 'n_trials': 200,\n",
       " 'n_samples': 29401,\n",
       " 'Shapiro-Wilk_statistic': 0.9999977946281433,\n",
       " 'Shapiro-Wilk_pvalue': 0.9971637634369476,\n",
       " 'window_size_for_expected_n_ticks_estimation': 28,\n",
       " 'window_size_for_expected_imbalance_estimation': 2622,\n",
       " 'initial_estimate_of_expected_n_ticks_in_bar': 2772,\n",
       " 'batch_size': 85682}"
      ]
     },
     "execution_count": 19,
     "metadata": {},
     "output_type": "execute_result"
    }
   ],
   "source": [
    "params_expected_dollar_bars = sampling_best_params(sampling_method='expected_dollar_imbalance_bars', \n",
    "                                                df_sample=df_riskAI, \n",
    "                                                params_resampling_db=db_resampling_params, \n",
    "                                                db_file_name=param_db_filename , \n",
    "                                                trials=n_trials)\n",
    "params_expected_dollar_bars"
   ]
  },
  {
   "cell_type": "markdown",
   "metadata": {},
   "source": [
    "### Optimized Run Bars"
   ]
  },
  {
   "cell_type": "markdown",
   "metadata": {},
   "source": [
    "##### Run Bars - Tick Parameters"
   ]
  },
  {
   "cell_type": "code",
   "execution_count": 20,
   "metadata": {},
   "outputs": [
    {
     "name": "stderr",
     "output_type": "stream",
     "text": [
      "[I 2025-09-13 14:35:07,522] A new study created in memory with name: no-name-a6fdb4ac-7b23-4b44-962a-8ea678a7e663\n"
     ]
    },
    {
     "name": "stdout",
     "output_type": "stream",
     "text": [
      "Processing batch 0 with size 29401\n"
     ]
    },
    {
     "name": "stderr",
     "output_type": "stream",
     "text": [
      "[I 2025-09-13 14:35:07,781] Trial 0 finished with value: 1.0 and parameters: {'window_size_for_expected_n_ticks_estimation': 5, 'window_size_for_expected_imbalance_estimation': 10000, 'initial_estimate_of_expected_n_ticks_in_bar': 20000, 'batch_size': 1000000}. Best is trial 0 with value: 1.0.\n"
     ]
    },
    {
     "name": "stdout",
     "output_type": "stream",
     "text": [
      "Processing batch 0 with size 29401\n"
     ]
    },
    {
     "name": "stderr",
     "output_type": "stream",
     "text": [
      "[I 2025-09-13 14:35:08,040] Trial 1 pruned. Not enough data / zero variance\n",
      "[I 2025-09-13 14:35:08,216] Trial 2 pruned. Not enough data / zero variance\n"
     ]
    },
    {
     "name": "stdout",
     "output_type": "stream",
     "text": [
      "Processing batch 0 with size 29401\n",
      "Processing batch 0 with size 29401\n"
     ]
    },
    {
     "name": "stderr",
     "output_type": "stream",
     "text": [
      "[I 2025-09-13 14:35:08,391] Trial 3 pruned. Not enough data / zero variance\n",
      "[I 2025-09-13 14:35:08,579] Trial 4 pruned. Not enough data / zero variance\n"
     ]
    },
    {
     "name": "stdout",
     "output_type": "stream",
     "text": [
      "Processing batch 0 with size 29401\n",
      "ℹ️ New parameters contain None values — keeping existing best parameters.\n",
      "New params candidate: {'ticker': 'BTCUSDT', 'Sampling_Scheme': 'expected_tick_run_bars', 'n_trials': 5, 'n_samples': 29401, 'Shapiro-Wilk_statistic': None, 'Shapiro-Wilk_pvalue': None, 'window_size_for_expected_n_ticks_estimation': 5, 'window_size_for_expected_imbalance_estimation': 10000, 'initial_estimate_of_expected_n_ticks_in_bar': 20000, 'batch_size': 1000000}\n",
      "Existing best params: {'ticker': 'BTCUSDT', 'Sampling_Scheme': 'expected_tick_run_bars', 'n_trials': 50, 'n_samples': 29401, 'Shapiro-Wilk_statistic': nan, 'Shapiro-Wilk_pvalue': nan, 'window_size_for_expected_n_ticks_estimation': 5, 'window_size_for_expected_imbalance_estimation': 10000, 'initial_estimate_of_expected_n_ticks_in_bar': 20000, 'batch_size': 1000000}\n"
     ]
    },
    {
     "data": {
      "text/plain": [
       "{'ticker': 'BTCUSDT',\n",
       " 'Sampling_Scheme': 'expected_tick_run_bars',\n",
       " 'n_trials': 50,\n",
       " 'n_samples': 29401,\n",
       " 'Shapiro-Wilk_statistic': nan,\n",
       " 'Shapiro-Wilk_pvalue': nan,\n",
       " 'window_size_for_expected_n_ticks_estimation': 5,\n",
       " 'window_size_for_expected_imbalance_estimation': 10000,\n",
       " 'initial_estimate_of_expected_n_ticks_in_bar': 20000,\n",
       " 'batch_size': 1000000}"
      ]
     },
     "execution_count": 20,
     "metadata": {},
     "output_type": "execute_result"
    }
   ],
   "source": [
    "params_run_tick_bars = sampling_best_params(sampling_method='expected_tick_run_bars', \n",
    "                                                df_sample=df_riskAI, \n",
    "                                                params_resampling_db=db_resampling_params, \n",
    "                                                db_file_name=param_db_filename , \n",
    "                                                trials=n_trials)\n",
    "\n",
    "params_run_tick_bars"
   ]
  },
  {
   "cell_type": "code",
   "execution_count": 21,
   "metadata": {},
   "outputs": [
    {
     "name": "stderr",
     "output_type": "stream",
     "text": [
      "[I 2025-09-13 14:35:08,592] A new study created in memory with name: no-name-46b092ae-f4a0-45ef-832f-79bc925bb1de\n"
     ]
    },
    {
     "name": "stdout",
     "output_type": "stream",
     "text": [
      "Processing batch 0 with size 29401\n"
     ]
    },
    {
     "name": "stderr",
     "output_type": "stream",
     "text": [
      "[I 2025-09-13 14:35:08,952] Trial 0 finished with value: 1.0 and parameters: {'window_size_for_expected_n_ticks_estimation': 5, 'window_size_for_expected_imbalance_estimation': 10000, 'initial_estimate_of_expected_n_ticks_in_bar': 20000, 'batch_size': 1000000}. Best is trial 0 with value: 1.0.\n"
     ]
    },
    {
     "name": "stdout",
     "output_type": "stream",
     "text": [
      "Processing batch 0 with size 29401\n"
     ]
    },
    {
     "name": "stderr",
     "output_type": "stream",
     "text": [
      "[I 2025-09-13 14:35:09,210] Trial 1 pruned. Not enough data / zero variance\n",
      "[I 2025-09-13 14:35:09,393] Trial 2 pruned. Not enough data / zero variance\n"
     ]
    },
    {
     "name": "stdout",
     "output_type": "stream",
     "text": [
      "Processing batch 0 with size 29401\n",
      "Processing batch 0 with size 29401\n"
     ]
    },
    {
     "name": "stderr",
     "output_type": "stream",
     "text": [
      "[I 2025-09-13 14:35:09,570] Trial 3 pruned. Not enough data / zero variance\n",
      "[I 2025-09-13 14:35:09,766] Trial 4 pruned. Not enough data / zero variance\n"
     ]
    },
    {
     "name": "stdout",
     "output_type": "stream",
     "text": [
      "Processing batch 0 with size 29401\n",
      "ℹ️ New parameters contain None values — keeping existing best parameters.\n",
      "New params candidate: {'ticker': 'BTCUSDT', 'Sampling_Scheme': 'expected_volume_run_bars', 'n_trials': 5, 'n_samples': 29401, 'Shapiro-Wilk_statistic': None, 'Shapiro-Wilk_pvalue': None, 'window_size_for_expected_n_ticks_estimation': 5, 'window_size_for_expected_imbalance_estimation': 10000, 'initial_estimate_of_expected_n_ticks_in_bar': 20000, 'batch_size': 1000000}\n",
      "Existing best params: {'ticker': 'BTCUSDT', 'Sampling_Scheme': 'expected_volume_run_bars', 'n_trials': 50, 'n_samples': 29401, 'Shapiro-Wilk_statistic': nan, 'Shapiro-Wilk_pvalue': nan, 'window_size_for_expected_n_ticks_estimation': 5, 'window_size_for_expected_imbalance_estimation': 10000, 'initial_estimate_of_expected_n_ticks_in_bar': 20000, 'batch_size': 1000000}\n"
     ]
    },
    {
     "data": {
      "text/plain": [
       "{'ticker': 'BTCUSDT',\n",
       " 'Sampling_Scheme': 'expected_volume_run_bars',\n",
       " 'n_trials': 50,\n",
       " 'n_samples': 29401,\n",
       " 'Shapiro-Wilk_statistic': nan,\n",
       " 'Shapiro-Wilk_pvalue': nan,\n",
       " 'window_size_for_expected_n_ticks_estimation': 5,\n",
       " 'window_size_for_expected_imbalance_estimation': 10000,\n",
       " 'initial_estimate_of_expected_n_ticks_in_bar': 20000,\n",
       " 'batch_size': 1000000}"
      ]
     },
     "execution_count": 21,
     "metadata": {},
     "output_type": "execute_result"
    }
   ],
   "source": [
    "params_run_volume_bars = sampling_best_params(sampling_method='expected_volume_run_bars', \n",
    "                                                df_sample=df_riskAI, \n",
    "                                                params_resampling_db=db_resampling_params, \n",
    "                                                db_file_name=param_db_filename , \n",
    "                                                trials=n_trials)\n",
    "params_run_volume_bars"
   ]
  },
  {
   "cell_type": "code",
   "execution_count": 22,
   "metadata": {},
   "outputs": [
    {
     "name": "stderr",
     "output_type": "stream",
     "text": [
      "[I 2025-09-13 14:35:09,774] A new study created in memory with name: no-name-a73d34ee-3caf-4e7a-9506-58c28b8c060f\n"
     ]
    },
    {
     "name": "stdout",
     "output_type": "stream",
     "text": [
      "Processing batch 0 with size 29401\n"
     ]
    },
    {
     "name": "stderr",
     "output_type": "stream",
     "text": [
      "[I 2025-09-13 14:35:10,178] Trial 0 finished with value: 1.0 and parameters: {'window_size_for_expected_n_ticks_estimation': 5, 'window_size_for_expected_imbalance_estimation': 10000, 'initial_estimate_of_expected_n_ticks_in_bar': 20000, 'batch_size': 1000000}. Best is trial 0 with value: 1.0.\n"
     ]
    },
    {
     "name": "stdout",
     "output_type": "stream",
     "text": [
      "Processing batch 0 with size 29401\n"
     ]
    },
    {
     "name": "stderr",
     "output_type": "stream",
     "text": [
      "[I 2025-09-13 14:35:10,448] Trial 1 pruned. Not enough data / zero variance\n",
      "[I 2025-09-13 14:35:10,635] Trial 2 finished with value: 0.057316720485687256 and parameters: {'window_size_for_expected_n_ticks_estimation': 8, 'window_size_for_expected_imbalance_estimation': 3204, 'initial_estimate_of_expected_n_ticks_in_bar': 1632, 'batch_size': 1220775}. Best is trial 2 with value: 0.057316720485687256.\n"
     ]
    },
    {
     "name": "stdout",
     "output_type": "stream",
     "text": [
      "Processing batch 0 with size 29401\n",
      "Processing batch 0 with size 29401\n"
     ]
    },
    {
     "name": "stderr",
     "output_type": "stream",
     "text": [
      "[I 2025-09-13 14:35:10,817] Trial 3 finished with value: 0.06336474418640137 and parameters: {'window_size_for_expected_n_ticks_estimation': 31, 'window_size_for_expected_imbalance_estimation': 14191, 'initial_estimate_of_expected_n_ticks_in_bar': 901, 'batch_size': 1789879}. Best is trial 2 with value: 0.057316720485687256.\n",
      "[I 2025-09-13 14:35:11,015] Trial 4 pruned. Not enough data / zero variance\n"
     ]
    },
    {
     "name": "stdout",
     "output_type": "stream",
     "text": [
      "Processing batch 0 with size 29401\n",
      "ℹ️ Did not satisfy update conditions — keeping existing best parameters.\n",
      "New params candidate: {'ticker': 'BTCUSDT', 'Sampling_Scheme': 'expected_dollar_run_bars', 'n_trials': 5, 'n_samples': 29401, 'Shapiro-Wilk_statistic': 0.9426832795143127, 'Shapiro-Wilk_pvalue': 0.6104115843772888, 'window_size_for_expected_n_ticks_estimation': 8, 'window_size_for_expected_imbalance_estimation': 3204, 'initial_estimate_of_expected_n_ticks_in_bar': 1632, 'batch_size': 1220775}\n",
      "Existing best params: {'ticker': 'BTCUSDT', 'Sampling_Scheme': 'expected_dollar_run_bars', 'n_trials': 50, 'n_samples': 29401, 'Shapiro-Wilk_statistic': nan, 'Shapiro-Wilk_pvalue': nan, 'window_size_for_expected_n_ticks_estimation': 5, 'window_size_for_expected_imbalance_estimation': 10000, 'initial_estimate_of_expected_n_ticks_in_bar': 20000, 'batch_size': 1000000}\n"
     ]
    },
    {
     "data": {
      "text/plain": [
       "{'ticker': 'BTCUSDT',\n",
       " 'Sampling_Scheme': 'expected_dollar_run_bars',\n",
       " 'n_trials': 50,\n",
       " 'n_samples': 29401,\n",
       " 'Shapiro-Wilk_statistic': nan,\n",
       " 'Shapiro-Wilk_pvalue': nan,\n",
       " 'window_size_for_expected_n_ticks_estimation': 5,\n",
       " 'window_size_for_expected_imbalance_estimation': 10000,\n",
       " 'initial_estimate_of_expected_n_ticks_in_bar': 20000,\n",
       " 'batch_size': 1000000}"
      ]
     },
     "execution_count": 22,
     "metadata": {},
     "output_type": "execute_result"
    }
   ],
   "source": [
    "params_run_dollar_bars = sampling_best_params(sampling_method='expected_dollar_run_bars', \n",
    "                                                df_sample=df_riskAI, \n",
    "                                                params_resampling_db=db_resampling_params, \n",
    "                                                db_file_name=param_db_filename , \n",
    "                                                trials=n_trials)\n",
    "params_run_dollar_bars"
   ]
  },
  {
   "cell_type": "markdown",
   "metadata": {},
   "source": [
    "### Reload Resampling Database"
   ]
  },
  {
   "cell_type": "code",
   "execution_count": 23,
   "metadata": {},
   "outputs": [
    {
     "data": {
      "text/plain": [
       "[{'ticker': 'BTCUSDT',\n",
       "  'Sampling_Scheme': 'expected_tick_imbalance_bars',\n",
       "  'n_trials': 50,\n",
       "  'n_samples': 29401,\n",
       "  'Shapiro-Wilk_statistic': 0.860134363,\n",
       "  'Shapiro-Wilk_pvalue': 0.0,\n",
       "  'window_size_for_expected_n_ticks_estimation': 5,\n",
       "  'window_size_for_expected_imbalance_estimation': 10000,\n",
       "  'initial_estimate_of_expected_n_ticks_in_bar': 20000,\n",
       "  'batch_size': 1000000},\n",
       " {'ticker': 'BTCUSDT',\n",
       "  'Sampling_Scheme': 'expected_volume_imbalance_bars',\n",
       "  'n_trials': 50,\n",
       "  'n_samples': 29401,\n",
       "  'Shapiro-Wilk_statistic': 0.966333091,\n",
       "  'Shapiro-Wilk_pvalue': 0.870860279,\n",
       "  'window_size_for_expected_n_ticks_estimation': 5,\n",
       "  'window_size_for_expected_imbalance_estimation': 10000,\n",
       "  'initial_estimate_of_expected_n_ticks_in_bar': 20000,\n",
       "  'batch_size': 1000000},\n",
       " {'ticker': 'BTCUSDT',\n",
       "  'Sampling_Scheme': 'expected_dollar_imbalance_bars',\n",
       "  'n_trials': 50,\n",
       "  'n_samples': 29401,\n",
       "  'Shapiro-Wilk_statistic': 0.961657166,\n",
       "  'Shapiro-Wilk_pvalue': 0.832820237,\n",
       "  'window_size_for_expected_n_ticks_estimation': 5,\n",
       "  'window_size_for_expected_imbalance_estimation': 10000,\n",
       "  'initial_estimate_of_expected_n_ticks_in_bar': 20000,\n",
       "  'batch_size': 1000000},\n",
       " {'ticker': 'BTCUSDT',\n",
       "  'Sampling_Scheme': 'expected_tick_run_bars',\n",
       "  'n_trials': 50,\n",
       "  'n_samples': 29401,\n",
       "  'Shapiro-Wilk_statistic': None,\n",
       "  'Shapiro-Wilk_pvalue': None,\n",
       "  'window_size_for_expected_n_ticks_estimation': 5,\n",
       "  'window_size_for_expected_imbalance_estimation': 10000,\n",
       "  'initial_estimate_of_expected_n_ticks_in_bar': 20000,\n",
       "  'batch_size': 1000000},\n",
       " {'ticker': 'BTCUSDT',\n",
       "  'Sampling_Scheme': 'expected_volume_run_bars',\n",
       "  'n_trials': 50,\n",
       "  'n_samples': 29401,\n",
       "  'Shapiro-Wilk_statistic': None,\n",
       "  'Shapiro-Wilk_pvalue': None,\n",
       "  'window_size_for_expected_n_ticks_estimation': 5,\n",
       "  'window_size_for_expected_imbalance_estimation': 10000,\n",
       "  'initial_estimate_of_expected_n_ticks_in_bar': 20000,\n",
       "  'batch_size': 1000000},\n",
       " {'ticker': 'BTCUSDT',\n",
       "  'Sampling_Scheme': 'expected_dollar_run_bars',\n",
       "  'n_trials': 50,\n",
       "  'n_samples': 29401,\n",
       "  'Shapiro-Wilk_statistic': None,\n",
       "  'Shapiro-Wilk_pvalue': None,\n",
       "  'window_size_for_expected_n_ticks_estimation': 5,\n",
       "  'window_size_for_expected_imbalance_estimation': 10000,\n",
       "  'initial_estimate_of_expected_n_ticks_in_bar': 20000,\n",
       "  'batch_size': 1000000},\n",
       " {'ticker': 'BTCUSDT',\n",
       "  'Sampling_Scheme': 'expected_dollar_run_bars',\n",
       "  'n_trials': 50,\n",
       "  'n_samples': 29401,\n",
       "  'Shapiro-Wilk_statistic': 0.971702158,\n",
       "  'Shapiro-Wilk_pvalue': 0.567036927,\n",
       "  'window_size_for_expected_n_ticks_estimation': 100,\n",
       "  'window_size_for_expected_imbalance_estimation': 1000,\n",
       "  'initial_estimate_of_expected_n_ticks_in_bar': 500,\n",
       "  'batch_size': 1000000},\n",
       " {'ticker': 'BTCUSDT',\n",
       "  'Sampling_Scheme': 'expected_dollar_imbalance_bars',\n",
       "  'n_trials': 200,\n",
       "  'n_samples': 29401,\n",
       "  'Shapiro-Wilk_statistic': 0.9999974966049194,\n",
       "  'Shapiro-Wilk_pvalue': 0.9969781962478527,\n",
       "  'window_size_for_expected_n_ticks_estimation': 48,\n",
       "  'window_size_for_expected_imbalance_estimation': 2945,\n",
       "  'initial_estimate_of_expected_n_ticks_in_bar': 3211,\n",
       "  'batch_size': 745904},\n",
       " {'ticker': 'BTCUSDT',\n",
       "  'Sampling_Scheme': 'expected_tick_imbalance_bars',\n",
       "  'n_trials': 200,\n",
       "  'n_samples': 29401,\n",
       "  'Shapiro-Wilk_statistic': 0.9998491406440735,\n",
       "  'Shapiro-Wilk_pvalue': 0.9765415981039764,\n",
       "  'window_size_for_expected_n_ticks_estimation': 44,\n",
       "  'window_size_for_expected_imbalance_estimation': 7415,\n",
       "  'initial_estimate_of_expected_n_ticks_in_bar': 6618,\n",
       "  'batch_size': 1732204},\n",
       " {'ticker': 'BTCUSDT',\n",
       "  'Sampling_Scheme': 'expected_volume_imbalance_bars',\n",
       "  'n_trials': 200,\n",
       "  'n_samples': 29401,\n",
       "  'Shapiro-Wilk_statistic': 0.9999966025352478,\n",
       "  'Shapiro-Wilk_pvalue': 0.9964797046378101,\n",
       "  'window_size_for_expected_n_ticks_estimation': 29,\n",
       "  'window_size_for_expected_imbalance_estimation': 2128,\n",
       "  'initial_estimate_of_expected_n_ticks_in_bar': 2645,\n",
       "  'batch_size': 1377345},\n",
       " {'ticker': 'BTCUSDT',\n",
       "  'Sampling_Scheme': 'expected_dollar_imbalance_bars',\n",
       "  'n_trials': 200,\n",
       "  'n_samples': 29401,\n",
       "  'Shapiro-Wilk_statistic': 0.9999977946281433,\n",
       "  'Shapiro-Wilk_pvalue': 0.9971637634369476,\n",
       "  'window_size_for_expected_n_ticks_estimation': 28,\n",
       "  'window_size_for_expected_imbalance_estimation': 2622,\n",
       "  'initial_estimate_of_expected_n_ticks_in_bar': 2772,\n",
       "  'batch_size': 85682},\n",
       " {'ticker': 'BTCUSDT',\n",
       "  'Sampling_Scheme': 'expected_tick_imbalance_bars',\n",
       "  'n_trials': 200,\n",
       "  'n_samples': 29401,\n",
       "  'Shapiro-Wilk_statistic': 0.9999843239784241,\n",
       "  'Shapiro-Wilk_pvalue': 0.9924382826702495,\n",
       "  'window_size_for_expected_n_ticks_estimation': 47,\n",
       "  'window_size_for_expected_imbalance_estimation': 7211,\n",
       "  'initial_estimate_of_expected_n_ticks_in_bar': 6600,\n",
       "  'batch_size': 970131}]"
      ]
     },
     "execution_count": 23,
     "metadata": {},
     "output_type": "execute_result"
    }
   ],
   "source": [
    "reloaded_db_resampling_params = load_param_resampling_db(param_db_filename)\n",
    "reloaded_db_resampling_params"
   ]
  },
  {
   "cell_type": "markdown",
   "metadata": {},
   "source": [
    "##### Run Bars - Volume Parameters"
   ]
  },
  {
   "cell_type": "markdown",
   "metadata": {},
   "source": [
    "##### Run Bars - Dollar Parameters"
   ]
  },
  {
   "cell_type": "markdown",
   "metadata": {},
   "source": [
    "# Sampling schemes\n",
    "\n",
    "In financial time series, sampling schemes determine how raw tick-level data (individual trades) are aggregated into bars (OHLC structures). Traditional time bars sample at fixed calendar intervals, but these often distort statistical properties by oversampling quiet periods and undersampling volatile ones.\n",
    "\n",
    "To address this, López de Prado (2018) introduced alternative, `event-driven` bars that adapt to market activity. In this work, the focus is on:\n",
    "\n",
    "- `Expected Imbalance Bars (EIBs)`\n",
    "EIBs close a bar when the accumulated buy–sell volume imbalance exceeds an expected threshold, estimated dynamically from historical data. This produces bars of variable length that contain approximately equal amounts of information, improving stationarity and normality of returns. EIBs are particularly well suited for machine learning tasks that rely on balanced and stable input data.\n",
    "\n",
    "- `Expected Run Bars (ERBs)`\n",
    "ERBs close a bar when the number of consecutive buy or sell trades (a “run”) surpasses an expected run length, again estimated adaptively. This highlights periods of persistent order flow, often associated with informed trading or liquidity grabs. ERBs are especially valuable for detecting market microstructure patterns, such as those studied in Smart Money Concepts (SMC)."
   ]
  },
  {
   "cell_type": "code",
   "execution_count": 24,
   "metadata": {},
   "outputs": [],
   "source": [
    "def generate_info_driven_bars(sampling_method,df_sample,db_best_params):\n",
    "\n",
    "    best_params = db_resampling_best_params(_sampling_method='expected_dollar_imbalance_bars',db_params=db_best_params)\n",
    "    info_driven_bar = controller.handle_input_command(\n",
    "    method_name=sampling_method,\n",
    "    method_arguments={\n",
    "        \"window_size_for_expected_n_ticks_estimation\": best_params['window_size_for_expected_n_ticks_estimation'],\n",
    "        \"window_size_for_expected_imbalance_estimation\": best_params['window_size_for_expected_imbalance_estimation'],\n",
    "        \"initial_estimate_of_expected_n_ticks_in_bar\": best_params['initial_estimate_of_expected_n_ticks_in_bar'],\n",
    "    },\n",
    "    input_data=df_sample,\n",
    "    batch_size=best_params['batch_size'],\n",
    "    )\n",
    "\n",
    "    return info_driven_bar"
   ]
  },
  {
   "cell_type": "code",
   "execution_count": 25,
   "metadata": {},
   "outputs": [],
   "source": [
    "features = [\n",
    "    'ohlc_trades','ohlc_taker_base','ohlc_taker_quote',\n",
    "    'l1_bid','l1_ask','l1_mid','l1_spread',\n",
    "    'l1_bid_qty','l1_ask_qty','l1_imbalance',\n",
    "    'l2_bid_depth','l2_ask_depth','l2_depth_asymmetry',\n",
    "    'l2_bid_vwap','l2_ask_vwap','l2_bid_slope','l2_ask_slope',\n",
    "    'tr_volume_base','tr_volume_quote','tr_vwap','tr_buy_sell_imbalance',\n",
    "    'spot_price','perp_mark_price','basis_abs','basis_pct',\n",
    "    'funding_rate','next_funding_time_ms'\n",
    "]\n"
   ]
  },
  {
   "cell_type": "markdown",
   "metadata": {},
   "source": [
    "## Expected Imbalance Bars"
   ]
  },
  {
   "cell_type": "markdown",
   "metadata": {},
   "source": [
    "### Imbalance Tick Bars"
   ]
  },
  {
   "cell_type": "code",
   "execution_count": 26,
   "metadata": {},
   "outputs": [
    {
     "name": "stdout",
     "output_type": "stream",
     "text": [
      "Processing batch 0 with size 29401\n"
     ]
    },
    {
     "data": {
      "text/html": [
       "<div>\n",
       "<style scoped>\n",
       "    .dataframe tbody tr th:only-of-type {\n",
       "        vertical-align: middle;\n",
       "    }\n",
       "\n",
       "    .dataframe tbody tr th {\n",
       "        vertical-align: top;\n",
       "    }\n",
       "\n",
       "    .dataframe thead th {\n",
       "        text-align: right;\n",
       "    }\n",
       "</style>\n",
       "<table border=\"1\" class=\"dataframe\">\n",
       "  <thead>\n",
       "    <tr style=\"text-align: right;\">\n",
       "      <th></th>\n",
       "      <th>Date Time</th>\n",
       "      <th>Tick Number</th>\n",
       "      <th>Open</th>\n",
       "      <th>High</th>\n",
       "      <th>Low</th>\n",
       "      <th>Close</th>\n",
       "      <th>Cumulative Volume</th>\n",
       "      <th>Cumulative Buy Volume</th>\n",
       "      <th>Cumulative Sell Volume</th>\n",
       "      <th>Cumulative Ticks</th>\n",
       "      <th>Cumulative Dollar Value</th>\n",
       "      <th>Threshold</th>\n",
       "    </tr>\n",
       "  </thead>\n",
       "  <tbody>\n",
       "    <tr>\n",
       "      <th>0</th>\n",
       "      <td>2025-08-20 05:42:34.302842+00:00</td>\n",
       "      <td>3299</td>\n",
       "      <td>118251.351562</td>\n",
       "      <td>118316.007812</td>\n",
       "      <td>112620.21875</td>\n",
       "      <td>113640.0</td>\n",
       "      <td>12485.791980</td>\n",
       "      <td>5723.872561</td>\n",
       "      <td>6761.919419</td>\n",
       "      <td>3299</td>\n",
       "      <td>1.438620e+09</td>\n",
       "      <td>39.743681</td>\n",
       "    </tr>\n",
       "    <tr>\n",
       "      <th>1</th>\n",
       "      <td>2025-08-24 14:02:23.262662+00:00</td>\n",
       "      <td>9555</td>\n",
       "      <td>113609.148438</td>\n",
       "      <td>117409.593750</td>\n",
       "      <td>111700.00000</td>\n",
       "      <td>114548.5</td>\n",
       "      <td>36065.771867</td>\n",
       "      <td>18303.126741</td>\n",
       "      <td>17762.645126</td>\n",
       "      <td>6256</td>\n",
       "      <td>4.129942e+09</td>\n",
       "      <td>89.804976</td>\n",
       "    </tr>\n",
       "  </tbody>\n",
       "</table>\n",
       "</div>"
      ],
      "text/plain": [
       "                         Date Time  Tick Number           Open           High  \\\n",
       "0 2025-08-20 05:42:34.302842+00:00         3299  118251.351562  118316.007812   \n",
       "1 2025-08-24 14:02:23.262662+00:00         9555  113609.148438  117409.593750   \n",
       "\n",
       "            Low     Close  Cumulative Volume  Cumulative Buy Volume  \\\n",
       "0  112620.21875  113640.0       12485.791980            5723.872561   \n",
       "1  111700.00000  114548.5       36065.771867           18303.126741   \n",
       "\n",
       "   Cumulative Sell Volume  Cumulative Ticks  Cumulative Dollar Value  \\\n",
       "0             6761.919419              3299             1.438620e+09   \n",
       "1            17762.645126              6256             4.129942e+09   \n",
       "\n",
       "   Threshold  \n",
       "0  39.743681  \n",
       "1  89.804976  "
      ]
     },
     "execution_count": 26,
     "metadata": {},
     "output_type": "execute_result"
    }
   ],
   "source": [
    "EIB_ticks = generate_info_driven_bars(sampling_method='expected_tick_imbalance_bars',\n",
    "                                      df_sample=df_riskAI,\n",
    "                                      db_best_params=reloaded_db_resampling_params)\n",
    "\n",
    "EIB_ticks.head()"
   ]
  },
  {
   "cell_type": "markdown",
   "metadata": {},
   "source": [
    "### Imbalance Volume Bars"
   ]
  },
  {
   "cell_type": "code",
   "execution_count": 27,
   "metadata": {},
   "outputs": [
    {
     "name": "stdout",
     "output_type": "stream",
     "text": [
      "Processing batch 0 with size 29401\n"
     ]
    },
    {
     "data": {
      "text/html": [
       "<div>\n",
       "<style scoped>\n",
       "    .dataframe tbody tr th:only-of-type {\n",
       "        vertical-align: middle;\n",
       "    }\n",
       "\n",
       "    .dataframe tbody tr th {\n",
       "        vertical-align: top;\n",
       "    }\n",
       "\n",
       "    .dataframe thead th {\n",
       "        text-align: right;\n",
       "    }\n",
       "</style>\n",
       "<table border=\"1\" class=\"dataframe\">\n",
       "  <thead>\n",
       "    <tr style=\"text-align: right;\">\n",
       "      <th></th>\n",
       "      <th>Date Time</th>\n",
       "      <th>Tick Number</th>\n",
       "      <th>Open</th>\n",
       "      <th>High</th>\n",
       "      <th>Low</th>\n",
       "      <th>Close</th>\n",
       "      <th>Cumulative Volume</th>\n",
       "      <th>Cumulative Buy Volume</th>\n",
       "      <th>Cumulative Sell Volume</th>\n",
       "      <th>Cumulative Ticks</th>\n",
       "      <th>Cumulative Dollar Value</th>\n",
       "      <th>Threshold</th>\n",
       "    </tr>\n",
       "  </thead>\n",
       "  <tbody>\n",
       "    <tr>\n",
       "      <th>0</th>\n",
       "      <td>2025-08-19 20:55:15.602653+00:00</td>\n",
       "      <td>2772</td>\n",
       "      <td>118251.351562</td>\n",
       "      <td>118316.007812</td>\n",
       "      <td>112767.070312</td>\n",
       "      <td>113531.039062</td>\n",
       "      <td>10260.390340</td>\n",
       "      <td>4620.197004</td>\n",
       "      <td>5640.193336</td>\n",
       "      <td>2772</td>\n",
       "      <td>1.186663e+09</td>\n",
       "      <td>513.766845</td>\n",
       "    </tr>\n",
       "    <tr>\n",
       "      <th>1</th>\n",
       "      <td>2025-08-20 13:59:51.862656+00:00</td>\n",
       "      <td>3796</td>\n",
       "      <td>113528.000000</td>\n",
       "      <td>114016.460938</td>\n",
       "      <td>112600.062500</td>\n",
       "      <td>112700.007812</td>\n",
       "      <td>5912.775336</td>\n",
       "      <td>2688.243754</td>\n",
       "      <td>3224.531582</td>\n",
       "      <td>1024</td>\n",
       "      <td>6.706194e+08</td>\n",
       "      <td>513.766845</td>\n",
       "    </tr>\n",
       "    <tr>\n",
       "      <th>2</th>\n",
       "      <td>2025-08-22 14:16:38.062656+00:00</td>\n",
       "      <td>6691</td>\n",
       "      <td>112822.781250</td>\n",
       "      <td>115656.757812</td>\n",
       "      <td>111700.000000</td>\n",
       "      <td>115656.757812</td>\n",
       "      <td>16006.059488</td>\n",
       "      <td>8445.816432</td>\n",
       "      <td>7560.243056</td>\n",
       "      <td>2895</td>\n",
       "      <td>1.813896e+09</td>\n",
       "      <td>878.520939</td>\n",
       "    </tr>\n",
       "    <tr>\n",
       "      <th>3</th>\n",
       "      <td>2025-08-24 19:37:35.982667+00:00</td>\n",
       "      <td>9890</td>\n",
       "      <td>115696.921875</td>\n",
       "      <td>117409.593750</td>\n",
       "      <td>111075.546875</td>\n",
       "      <td>111075.546875</td>\n",
       "      <td>20869.057811</td>\n",
       "      <td>9493.875291</td>\n",
       "      <td>11375.182520</td>\n",
       "      <td>3199</td>\n",
       "      <td>2.408270e+09</td>\n",
       "      <td>1442.642372</td>\n",
       "    </tr>\n",
       "  </tbody>\n",
       "</table>\n",
       "</div>"
      ],
      "text/plain": [
       "                         Date Time  Tick Number           Open           High  \\\n",
       "0 2025-08-19 20:55:15.602653+00:00         2772  118251.351562  118316.007812   \n",
       "1 2025-08-20 13:59:51.862656+00:00         3796  113528.000000  114016.460938   \n",
       "2 2025-08-22 14:16:38.062656+00:00         6691  112822.781250  115656.757812   \n",
       "3 2025-08-24 19:37:35.982667+00:00         9890  115696.921875  117409.593750   \n",
       "\n",
       "             Low          Close  Cumulative Volume  Cumulative Buy Volume  \\\n",
       "0  112767.070312  113531.039062       10260.390340            4620.197004   \n",
       "1  112600.062500  112700.007812        5912.775336            2688.243754   \n",
       "2  111700.000000  115656.757812       16006.059488            8445.816432   \n",
       "3  111075.546875  111075.546875       20869.057811            9493.875291   \n",
       "\n",
       "   Cumulative Sell Volume  Cumulative Ticks  Cumulative Dollar Value  \\\n",
       "0             5640.193336              2772             1.186663e+09   \n",
       "1             3224.531582              1024             6.706194e+08   \n",
       "2             7560.243056              2895             1.813896e+09   \n",
       "3            11375.182520              3199             2.408270e+09   \n",
       "\n",
       "     Threshold  \n",
       "0   513.766845  \n",
       "1   513.766845  \n",
       "2   878.520939  \n",
       "3  1442.642372  "
      ]
     },
     "execution_count": 27,
     "metadata": {},
     "output_type": "execute_result"
    }
   ],
   "source": [
    "EIB_vol = generate_info_driven_bars(sampling_method='expected_volume_imbalance_bars',\n",
    "                                      df_sample=df_riskAI,\n",
    "                                      db_best_params=reloaded_db_resampling_params)\n",
    "EIB_vol.head()"
   ]
  },
  {
   "cell_type": "markdown",
   "metadata": {},
   "source": [
    "### Imbalance Dollar Bars"
   ]
  },
  {
   "cell_type": "code",
   "execution_count": 28,
   "metadata": {},
   "outputs": [
    {
     "name": "stdout",
     "output_type": "stream",
     "text": [
      "Processing batch 0 with size 29401\n"
     ]
    },
    {
     "data": {
      "text/html": [
       "<div>\n",
       "<style scoped>\n",
       "    .dataframe tbody tr th:only-of-type {\n",
       "        vertical-align: middle;\n",
       "    }\n",
       "\n",
       "    .dataframe tbody tr th {\n",
       "        vertical-align: top;\n",
       "    }\n",
       "\n",
       "    .dataframe thead th {\n",
       "        text-align: right;\n",
       "    }\n",
       "</style>\n",
       "<table border=\"1\" class=\"dataframe\">\n",
       "  <thead>\n",
       "    <tr style=\"text-align: right;\">\n",
       "      <th></th>\n",
       "      <th>Date Time</th>\n",
       "      <th>Tick Number</th>\n",
       "      <th>Open</th>\n",
       "      <th>High</th>\n",
       "      <th>Low</th>\n",
       "      <th>Close</th>\n",
       "      <th>Cumulative Volume</th>\n",
       "      <th>Cumulative Buy Volume</th>\n",
       "      <th>Cumulative Sell Volume</th>\n",
       "      <th>Cumulative Ticks</th>\n",
       "      <th>Cumulative Dollar Value</th>\n",
       "      <th>Threshold</th>\n",
       "    </tr>\n",
       "  </thead>\n",
       "  <tbody>\n",
       "    <tr>\n",
       "      <th>0</th>\n",
       "      <td>2025-08-19 20:55:15.602653+00:00</td>\n",
       "      <td>2772</td>\n",
       "      <td>118251.351562</td>\n",
       "      <td>118316.007812</td>\n",
       "      <td>112767.070312</td>\n",
       "      <td>113531.039062</td>\n",
       "      <td>10260.390340</td>\n",
       "      <td>4620.197004</td>\n",
       "      <td>5640.193336</td>\n",
       "      <td>2772</td>\n",
       "      <td>1.186663e+09</td>\n",
       "      <td>5.880002e+07</td>\n",
       "    </tr>\n",
       "    <tr>\n",
       "      <th>1</th>\n",
       "      <td>2025-08-20 13:59:51.862656+00:00</td>\n",
       "      <td>3796</td>\n",
       "      <td>113528.000000</td>\n",
       "      <td>114016.460938</td>\n",
       "      <td>112600.062500</td>\n",
       "      <td>112700.007812</td>\n",
       "      <td>5912.775336</td>\n",
       "      <td>2688.243754</td>\n",
       "      <td>3224.531582</td>\n",
       "      <td>1024</td>\n",
       "      <td>6.706194e+08</td>\n",
       "      <td>5.880002e+07</td>\n",
       "    </tr>\n",
       "    <tr>\n",
       "      <th>2</th>\n",
       "      <td>2025-08-22 14:16:38.062656+00:00</td>\n",
       "      <td>6691</td>\n",
       "      <td>112822.781250</td>\n",
       "      <td>115656.757812</td>\n",
       "      <td>111700.000000</td>\n",
       "      <td>115656.757812</td>\n",
       "      <td>16006.059488</td>\n",
       "      <td>8445.816432</td>\n",
       "      <td>7560.243056</td>\n",
       "      <td>2895</td>\n",
       "      <td>1.813896e+09</td>\n",
       "      <td>9.923351e+07</td>\n",
       "    </tr>\n",
       "    <tr>\n",
       "      <th>3</th>\n",
       "      <td>2025-08-24 19:37:35.982667+00:00</td>\n",
       "      <td>9890</td>\n",
       "      <td>115696.921875</td>\n",
       "      <td>117409.593750</td>\n",
       "      <td>111075.546875</td>\n",
       "      <td>111075.546875</td>\n",
       "      <td>20869.057811</td>\n",
       "      <td>9493.875291</td>\n",
       "      <td>11375.182520</td>\n",
       "      <td>3199</td>\n",
       "      <td>2.408270e+09</td>\n",
       "      <td>1.655897e+08</td>\n",
       "    </tr>\n",
       "  </tbody>\n",
       "</table>\n",
       "</div>"
      ],
      "text/plain": [
       "                         Date Time  Tick Number           Open           High  \\\n",
       "0 2025-08-19 20:55:15.602653+00:00         2772  118251.351562  118316.007812   \n",
       "1 2025-08-20 13:59:51.862656+00:00         3796  113528.000000  114016.460938   \n",
       "2 2025-08-22 14:16:38.062656+00:00         6691  112822.781250  115656.757812   \n",
       "3 2025-08-24 19:37:35.982667+00:00         9890  115696.921875  117409.593750   \n",
       "\n",
       "             Low          Close  Cumulative Volume  Cumulative Buy Volume  \\\n",
       "0  112767.070312  113531.039062       10260.390340            4620.197004   \n",
       "1  112600.062500  112700.007812        5912.775336            2688.243754   \n",
       "2  111700.000000  115656.757812       16006.059488            8445.816432   \n",
       "3  111075.546875  111075.546875       20869.057811            9493.875291   \n",
       "\n",
       "   Cumulative Sell Volume  Cumulative Ticks  Cumulative Dollar Value  \\\n",
       "0             5640.193336              2772             1.186663e+09   \n",
       "1             3224.531582              1024             6.706194e+08   \n",
       "2             7560.243056              2895             1.813896e+09   \n",
       "3            11375.182520              3199             2.408270e+09   \n",
       "\n",
       "      Threshold  \n",
       "0  5.880002e+07  \n",
       "1  5.880002e+07  \n",
       "2  9.923351e+07  \n",
       "3  1.655897e+08  "
      ]
     },
     "execution_count": 28,
     "metadata": {},
     "output_type": "execute_result"
    }
   ],
   "source": [
    "EIB_dollar = generate_info_driven_bars(sampling_method='expected_dollar_imbalance_bars',\n",
    "                                      df_sample=df_riskAI,\n",
    "                                      db_best_params=reloaded_db_resampling_params)\n",
    "EIB_dollar.head()\n"
   ]
  },
  {
   "cell_type": "markdown",
   "metadata": {},
   "source": [
    "### Statistical Test"
   ]
  },
  {
   "cell_type": "markdown",
   "metadata": {},
   "source": [
    "#### Log Return"
   ]
  },
  {
   "cell_type": "code",
   "execution_count": 29,
   "metadata": {},
   "outputs": [],
   "source": [
    "time_returns = log_return(df['ohlc_close'])\n",
    "ticks_EIB_returns = log_return(EIB_ticks['Close'])\n",
    "volume_EIB_returns = log_return(EIB_vol['Close'])\n",
    "dollars_EIB_returns = log_return(EIB_dollar['Close'])"
   ]
  },
  {
   "cell_type": "code",
   "execution_count": 30,
   "metadata": {},
   "outputs": [],
   "source": [
    "def jb_report(name, s):\n",
    "    # ensure 1-D array/Series\n",
    "    s = pd.Series(s).astype(float)\n",
    "    # drop non-finite\n",
    "    s = s.replace([np.inf, -np.inf], np.nan).dropna()\n",
    "\n",
    "    n = len(s)\n",
    "    if n < 3:\n",
    "        print(f\"{name}: not enough data for Jarque–Bera (n={n})\")\n",
    "        return\n",
    "\n",
    "    res = stats.jarque_bera(s)\n",
    "    print(f\"{name}: JB stat={res.statistic:.6g}, p={res.pvalue:.3g}, n={n}\")\n"
   ]
  },
  {
   "cell_type": "markdown",
   "metadata": {},
   "source": [
    "####  Jarque–Bera test statistic \n",
    "\n",
    "The `Jarque–Bera (JB) test` is used to check whether data follow a normal distribution by looking at skewness and kurtosis. In this test, smaller values are desirable because they indicate the data are closer to being normally distributed. For example, a statistic around 1 suggests the data are reasonably consistent with normality. A very large value, such as 6,633,374, strongly signals that the data deviate from normality, often due to heavy tails or asymmetry. In rare cases, the statistic can be 0, which occurs if the data have exactly zero skewness and a normal level of kurtosis, or if the dataset has no variation at all."
   ]
  },
  {
   "cell_type": "code",
   "execution_count": 31,
   "metadata": {},
   "outputs": [
    {
     "name": "stdout",
     "output_type": "stream",
     "text": [
      "time returns: JB stat=6.47489e+06, p=0, n=29400\n",
      "EIB tick returns: not enough data for Jarque–Bera (n=1)\n",
      "EIB volume returns: JB stat=0.281255, p=0.869, n=3\n",
      "EIB dollar returns: JB stat=0.281255, p=0.869, n=3\n"
     ]
    }
   ],
   "source": [
    "# print(\"Jarque-Bera test statistic for time returns:\", int(stats.jarque_bera(time_returns)[0]))\n",
    "# print(\"Jarque-Bera test statistic for EIB tick returns:\", int(stats.jarque_bera(ticks_EIB_returns)[0]))\n",
    "# print(\"Jarque-Bera test statistic for EIB volume returns:\", int(stats.jarque_bera(volume_EIB_returns)[0]))\n",
    "# print(\"Jarque-Bera test statistic for EIB dollar returns:\", int(stats.jarque_bera(dollars_EIB_returns)[0]))\n",
    "\n",
    "jb_report(\"time returns\", time_returns)\n",
    "jb_report(\"EIB tick returns\", ticks_EIB_returns)\n",
    "jb_report(\"EIB volume returns\", volume_EIB_returns)\n",
    "jb_report(\"EIB dollar returns\", dollars_EIB_returns)"
   ]
  },
  {
   "cell_type": "markdown",
   "metadata": {},
   "source": [
    "#### Shapiro-Wilk Test\n",
    "\n",
    "The `Shapiro–Wilk` test is a statistical method used to check whether a dataset follows a normal distribution. Unlike the Jarque–Bera test, which looks at skewness and kurtosis, the Shapiro–Wilk test directly compares the data to a perfectly normal shape. The test produces a statistic between 0 and 1, where values closer to 1 indicate the data are more consistent with normality. For example, a statistic of 0.98 would suggest the data are likely normal, while a much smaller value, such as 0.70, would indicate a strong departure from normality. The test also provides a p-value: if it is larger than 0.05, the data are considered roughly normal; if smaller, the data are unlikely to be normally distributed."
   ]
  },
  {
   "cell_type": "code",
   "execution_count": 32,
   "metadata": {},
   "outputs": [
    {
     "name": "stdout",
     "output_type": "stream",
     "text": [
      "time returns: W=0.844611, p=0, n=29400\n",
      "EIB tick returns: not enough data for Shapiro–Wilk (n=1)\n",
      "EIB volume returns: W=0.999998, p=0.997, n=3\n",
      "EIB dollar returns: W=0.999998, p=0.997, n=3\n"
     ]
    }
   ],
   "source": [
    "def shapiro_report(name, s):\n",
    "    s = pd.Series(s).astype(float)\n",
    "    s = s.replace([np.inf, -np.inf], np.nan).dropna()\n",
    "    n = len(s)\n",
    "\n",
    "    if n < 3:\n",
    "        print(f\"{name}: not enough data for Shapiro–Wilk (n={n})\")\n",
    "        return\n",
    "\n",
    "    # subsample if > 5000 (recommended by SciPy docs)\n",
    "    if n > 5000:\n",
    "        rng = np.random.default_rng(42)\n",
    "        s = rng.choice(s, 5000, replace=False)\n",
    "\n",
    "    stat, pval = stats.shapiro(s)\n",
    "    print(f\"{name}: W={stat:.6f}, p={pval:.3g}, n={n}\")\n",
    "\n",
    "# usage\n",
    "shapiro_report(\"time returns\", time_returns)\n",
    "shapiro_report(\"EIB tick returns\", ticks_EIB_returns)\n",
    "shapiro_report(\"EIB volume returns\", volume_EIB_returns)\n",
    "shapiro_report(\"EIB dollar returns\", dollars_EIB_returns)\n",
    "\n",
    "# print(\"Shapiro-Wilk test statistic for time returns:\", stats.shapiro(time_returns))\n",
    "# print(\"Shapiro-Wilk test statistic for EIB tick returns:\", stats.shapiro(ticks_EIB_returns))\n",
    "# print(\"Shapiro-Wilk test statistic for EIB volume returns:\", stats.shapiro(volume_EIB_returns))\n",
    "# print(\"Shapiro-Wilk test statistic for EIB dollar returns:\", stats.shapiro(dollars_EIB_returns))"
   ]
  },
  {
   "cell_type": "markdown",
   "metadata": {},
   "source": [
    "#### Kernel Density Estimate (KDE) plot\n",
    "\n",
    "A `Kernel Density Estimate (KDE) plot` is a smooth curve that shows the probability distribution of a dataset. It can be thought of as a smoothed version of a histogram, where the peaks indicate where the data are most concentrated and the shape of the curve shows how the values are distributed. KDE plots are often used to visually assess whether data resemble a normal distribution or display skewness, heavy tails, or multiple peaks."
   ]
  },
  {
   "cell_type": "code",
   "execution_count": 33,
   "metadata": {},
   "outputs": [],
   "source": [
    "#Standardize Data \n",
    "time_standard = (time_returns - time_returns.mean()) / time_returns.std()\n",
    "EIB_tick_standard = (ticks_EIB_returns - ticks_EIB_returns.mean()) / ticks_EIB_returns.std()\n",
    "EIB_volume_standard = (volume_EIB_returns  - volume_EIB_returns.mean()) / volume_EIB_returns.std()\n",
    "EIB_dollar_standard = (dollars_EIB_returns - dollars_EIB_returns.mean()) / dollars_EIB_returns.std()"
   ]
  },
  {
   "cell_type": "code",
   "execution_count": 34,
   "metadata": {},
   "outputs": [
    {
     "data": {
      "image/png": "[encoded data removed]",
      "text/plain": [
       "<Figure size 1600x1200 with 1 Axes>"
      ]
     },
     "metadata": {},
     "output_type": "display_data"
    }
   ],
   "source": [
    "#Distribution Plot\n",
    "plt.figure(figsize=(16, 12))\n",
    "sns.kdeplot(time_standard, label=\"Time\", color=\"red\")\n",
    "sns.kdeplot(EIB_tick_standard, label=\"Tick\", color=\"blue\")\n",
    "sns.kdeplot(EIB_volume_standard, label=\"Volume\", color=\"green\")\n",
    "sns.kdeplot(EIB_dollar_standard, label=\"Dollar\", color=\"purple\", linestyle=\"-.\")\n",
    "sns.kdeplot(np.random.normal(size=1000000), label=\"Normal\", linestyle=\"dotted\")\n",
    "plt.xticks(range(-4, +4))\n",
    "\n",
    "#labels\n",
    "plt.xlabel(\"Standardized Log Returns\")\n",
    "plt.ylabel(\"Density\")\n",
    "plt.title(\n",
    "    'Partial Recovery of Normality for Expected Imbalance Bars',\n",
    "    loc='center', \n",
    ")\n",
    "plt.xlim(-5, 5)\n",
    "plt.legend()\n",
    "plt.show()"
   ]
  },
  {
   "cell_type": "markdown",
   "metadata": {},
   "source": [
    "## Run Bars"
   ]
  },
  {
   "cell_type": "markdown",
   "metadata": {},
   "source": [
    "### Tick Run Bars"
   ]
  },
  {
   "cell_type": "code",
   "execution_count": 35,
   "metadata": {},
   "outputs": [
    {
     "name": "stdout",
     "output_type": "stream",
     "text": [
      "Processing batch 0 with size 29401\n"
     ]
    },
    {
     "data": {
      "text/html": [
       "<div>\n",
       "<style scoped>\n",
       "    .dataframe tbody tr th:only-of-type {\n",
       "        vertical-align: middle;\n",
       "    }\n",
       "\n",
       "    .dataframe tbody tr th {\n",
       "        vertical-align: top;\n",
       "    }\n",
       "\n",
       "    .dataframe thead th {\n",
       "        text-align: right;\n",
       "    }\n",
       "</style>\n",
       "<table border=\"1\" class=\"dataframe\">\n",
       "  <thead>\n",
       "    <tr style=\"text-align: right;\">\n",
       "      <th></th>\n",
       "      <th>Date Time</th>\n",
       "      <th>Tick Number</th>\n",
       "      <th>Open</th>\n",
       "      <th>High</th>\n",
       "      <th>Low</th>\n",
       "      <th>Close</th>\n",
       "      <th>Cumulative Volume</th>\n",
       "      <th>Cumulative Buy Volume</th>\n",
       "      <th>Cumulative Sell Volume</th>\n",
       "      <th>Cumulative Ticks</th>\n",
       "      <th>Cumulative Dollar Value</th>\n",
       "      <th>Threshold</th>\n",
       "    </tr>\n",
       "  </thead>\n",
       "  <tbody>\n",
       "  </tbody>\n",
       "</table>\n",
       "</div>"
      ],
      "text/plain": [
       "Empty DataFrame\n",
       "Columns: [Date Time, Tick Number, Open, High, Low, Close, Cumulative Volume, Cumulative Buy Volume, Cumulative Sell Volume, Cumulative Ticks, Cumulative Dollar Value, Threshold]\n",
       "Index: []"
      ]
     },
     "execution_count": 35,
     "metadata": {},
     "output_type": "execute_result"
    }
   ],
   "source": [
    "tick_run_bars = generate_info_driven_bars(sampling_method='expected_tick_run_bars',\n",
    "                                      df_sample=df_riskAI,\n",
    "                                      db_best_params=reloaded_db_resampling_params)\n",
    "tick_run_bars.head()"
   ]
  },
  {
   "cell_type": "markdown",
   "metadata": {},
   "source": [
    "### Volume Run Bars"
   ]
  },
  {
   "cell_type": "code",
   "execution_count": 36,
   "metadata": {},
   "outputs": [
    {
     "name": "stdout",
     "output_type": "stream",
     "text": [
      "Processing batch 0 with size 29401\n"
     ]
    },
    {
     "data": {
      "text/html": [
       "<div>\n",
       "<style scoped>\n",
       "    .dataframe tbody tr th:only-of-type {\n",
       "        vertical-align: middle;\n",
       "    }\n",
       "\n",
       "    .dataframe tbody tr th {\n",
       "        vertical-align: top;\n",
       "    }\n",
       "\n",
       "    .dataframe thead th {\n",
       "        text-align: right;\n",
       "    }\n",
       "</style>\n",
       "<table border=\"1\" class=\"dataframe\">\n",
       "  <thead>\n",
       "    <tr style=\"text-align: right;\">\n",
       "      <th></th>\n",
       "      <th>Date Time</th>\n",
       "      <th>Tick Number</th>\n",
       "      <th>Open</th>\n",
       "      <th>High</th>\n",
       "      <th>Low</th>\n",
       "      <th>Close</th>\n",
       "      <th>Cumulative Volume</th>\n",
       "      <th>Cumulative Buy Volume</th>\n",
       "      <th>Cumulative Sell Volume</th>\n",
       "      <th>Cumulative Ticks</th>\n",
       "      <th>Cumulative Dollar Value</th>\n",
       "      <th>Threshold</th>\n",
       "    </tr>\n",
       "  </thead>\n",
       "  <tbody>\n",
       "  </tbody>\n",
       "</table>\n",
       "</div>"
      ],
      "text/plain": [
       "Empty DataFrame\n",
       "Columns: [Date Time, Tick Number, Open, High, Low, Close, Cumulative Volume, Cumulative Buy Volume, Cumulative Sell Volume, Cumulative Ticks, Cumulative Dollar Value, Threshold]\n",
       "Index: []"
      ]
     },
     "execution_count": 36,
     "metadata": {},
     "output_type": "execute_result"
    }
   ],
   "source": [
    "\n",
    "\n",
    "volume_run_bars = generate_info_driven_bars(sampling_method='expected_volume_run_bars',\n",
    "                                      df_sample=df_riskAI,\n",
    "                                      db_best_params=reloaded_db_resampling_params)\n",
    "volume_run_bars.head()"
   ]
  },
  {
   "cell_type": "markdown",
   "metadata": {},
   "source": [
    "### Dollar Run Bars"
   ]
  },
  {
   "cell_type": "code",
   "execution_count": 37,
   "metadata": {},
   "outputs": [
    {
     "name": "stdout",
     "output_type": "stream",
     "text": [
      "Processing batch 0 with size 29401\n"
     ]
    },
    {
     "data": {
      "text/html": [
       "<div>\n",
       "<style scoped>\n",
       "    .dataframe tbody tr th:only-of-type {\n",
       "        vertical-align: middle;\n",
       "    }\n",
       "\n",
       "    .dataframe tbody tr th {\n",
       "        vertical-align: top;\n",
       "    }\n",
       "\n",
       "    .dataframe thead th {\n",
       "        text-align: right;\n",
       "    }\n",
       "</style>\n",
       "<table border=\"1\" class=\"dataframe\">\n",
       "  <thead>\n",
       "    <tr style=\"text-align: right;\">\n",
       "      <th></th>\n",
       "      <th>Date Time</th>\n",
       "      <th>Tick Number</th>\n",
       "      <th>Open</th>\n",
       "      <th>High</th>\n",
       "      <th>Low</th>\n",
       "      <th>Close</th>\n",
       "      <th>Cumulative Volume</th>\n",
       "      <th>Cumulative Buy Volume</th>\n",
       "      <th>Cumulative Sell Volume</th>\n",
       "      <th>Cumulative Ticks</th>\n",
       "      <th>Cumulative Dollar Value</th>\n",
       "      <th>Threshold</th>\n",
       "    </tr>\n",
       "  </thead>\n",
       "  <tbody>\n",
       "    <tr>\n",
       "      <th>0</th>\n",
       "      <td>2025-08-21 21:27:01.312652+00:00</td>\n",
       "      <td>5682</td>\n",
       "      <td>118251.351562</td>\n",
       "      <td>118316.007812</td>\n",
       "      <td>112029.570312</td>\n",
       "      <td>112477.546875</td>\n",
       "      <td>26679.420281</td>\n",
       "      <td>12531.694057</td>\n",
       "      <td>14147.726223</td>\n",
       "      <td>5682</td>\n",
       "      <td>3.047829e+09</td>\n",
       "      <td>8.864659e+08</td>\n",
       "    </tr>\n",
       "    <tr>\n",
       "      <th>1</th>\n",
       "      <td>2025-08-24 23:38:44.702653+00:00</td>\n",
       "      <td>10131</td>\n",
       "      <td>112542.843750</td>\n",
       "      <td>117409.593750</td>\n",
       "      <td>111075.546875</td>\n",
       "      <td>113601.039062</td>\n",
       "      <td>30623.208539</td>\n",
       "      <td>14744.969204</td>\n",
       "      <td>15878.239335</td>\n",
       "      <td>4449</td>\n",
       "      <td>3.510916e+09</td>\n",
       "      <td>1.817063e+09</td>\n",
       "    </tr>\n",
       "    <tr>\n",
       "      <th>2</th>\n",
       "      <td>2025-08-29 14:15:47.332642+00:00</td>\n",
       "      <td>16764</td>\n",
       "      <td>113486.546875</td>\n",
       "      <td>113664.000000</td>\n",
       "      <td>108415.421875</td>\n",
       "      <td>108415.421875</td>\n",
       "      <td>40630.550637</td>\n",
       "      <td>19066.407923</td>\n",
       "      <td>21564.142714</td>\n",
       "      <td>6633</td>\n",
       "      <td>4.516909e+09</td>\n",
       "      <td>2.389148e+09</td>\n",
       "    </tr>\n",
       "    <tr>\n",
       "      <th>3</th>\n",
       "      <td>2025-09-04 04:09:46.682659+00:00</td>\n",
       "      <td>24793</td>\n",
       "      <td>108556.000000</td>\n",
       "      <td>112559.187500</td>\n",
       "      <td>107278.429688</td>\n",
       "      <td>111272.539062</td>\n",
       "      <td>37962.182999</td>\n",
       "      <td>19009.391016</td>\n",
       "      <td>18952.791983</td>\n",
       "      <td>8029</td>\n",
       "      <td>4.154732e+09</td>\n",
       "      <td>2.081369e+09</td>\n",
       "    </tr>\n",
       "  </tbody>\n",
       "</table>\n",
       "</div>"
      ],
      "text/plain": [
       "                         Date Time  Tick Number           Open           High  \\\n",
       "0 2025-08-21 21:27:01.312652+00:00         5682  118251.351562  118316.007812   \n",
       "1 2025-08-24 23:38:44.702653+00:00        10131  112542.843750  117409.593750   \n",
       "2 2025-08-29 14:15:47.332642+00:00        16764  113486.546875  113664.000000   \n",
       "3 2025-09-04 04:09:46.682659+00:00        24793  108556.000000  112559.187500   \n",
       "\n",
       "             Low          Close  Cumulative Volume  Cumulative Buy Volume  \\\n",
       "0  112029.570312  112477.546875       26679.420281           12531.694057   \n",
       "1  111075.546875  113601.039062       30623.208539           14744.969204   \n",
       "2  108415.421875  108415.421875       40630.550637           19066.407923   \n",
       "3  107278.429688  111272.539062       37962.182999           19009.391016   \n",
       "\n",
       "   Cumulative Sell Volume  Cumulative Ticks  Cumulative Dollar Value  \\\n",
       "0            14147.726223              5682             3.047829e+09   \n",
       "1            15878.239335              4449             3.510916e+09   \n",
       "2            21564.142714              6633             4.516909e+09   \n",
       "3            18952.791983              8029             4.154732e+09   \n",
       "\n",
       "      Threshold  \n",
       "0  8.864659e+08  \n",
       "1  1.817063e+09  \n",
       "2  2.389148e+09  \n",
       "3  2.081369e+09  "
      ]
     },
     "execution_count": 37,
     "metadata": {},
     "output_type": "execute_result"
    }
   ],
   "source": [
    "dollar_run_bars = generate_info_driven_bars(sampling_method='expected_dollar_run_bars',\n",
    "                                      df_sample=df_riskAI,\n",
    "                                      db_best_params=reloaded_db_resampling_params)\n",
    "dollar_run_bars.head()"
   ]
  },
  {
   "cell_type": "markdown",
   "metadata": {},
   "source": [
    "### Statistical Test"
   ]
  },
  {
   "cell_type": "markdown",
   "metadata": {},
   "source": [
    "#### Log Return"
   ]
  },
  {
   "cell_type": "code",
   "execution_count": 38,
   "metadata": {},
   "outputs": [],
   "source": [
    "tick_run_bars_returns = log_return(tick_run_bars['Close'])\n",
    "volume_run_bars_returns = log_return(volume_run_bars['Close'])\n",
    "dollar_run_bars_returns = log_return(dollar_run_bars['Close'])"
   ]
  },
  {
   "cell_type": "markdown",
   "metadata": {},
   "source": [
    "####  Jarque–Bera test statistic "
   ]
  },
  {
   "cell_type": "code",
   "execution_count": null,
   "metadata": {},
   "outputs": [],
   "source": [
    "print(\"Jarque-Bera test statistic for time returns:\", int(stats.jarque_bera(time_returns)[0]))\n",
    "print(\"Jarque-Bera test statistic for tick run bars returns:\", int(stats.jarque_bera(tick_run_bars_returns)[0]))\n",
    "print(\"Jarque-Bera test statistic for volume run bars returns:\", int(stats.jarque_bera(volume_run_bars_returns)[0]))\n",
    "print(\"Jarque-Bera test statistic for dollar run bars returns:\", int(stats.jarque_bera(dollar_run_bars_returns)[0]))"
   ]
  },
  {
   "cell_type": "markdown",
   "metadata": {},
   "source": [
    "#### Shapiro-Wilk Test"
   ]
  },
  {
   "cell_type": "code",
   "execution_count": null,
   "metadata": {},
   "outputs": [],
   "source": [
    "print(\"Shapiro-Wilk test statistic for time returns:\", stats.shapiro(time_returns))\n",
    "print(\"Shapiro-Wilk test statistic for tick run bars returns:\", stats.shapiro(tick_run_bars_returns))\n",
    "print(\"Shapiro-Wilk test statistic for volume run bars returns:\", stats.shapiro(volume_run_bars_returns))\n",
    "print(\"Shapiro-Wilk test statistic for dollar run bars returns:\", stats.shapiro(dollar_run_bars_returns))"
   ]
  },
  {
   "cell_type": "markdown",
   "metadata": {},
   "source": []
  },
  {
   "cell_type": "markdown",
   "metadata": {},
   "source": [
    "#### Kernel Density Estimate (KDE) plot"
   ]
  },
  {
   "cell_type": "code",
   "execution_count": null,
   "metadata": {},
   "outputs": [],
   "source": [
    "#Standardize Data \n",
    "tick_run_bars_standard = (tick_run_bars_returns - tick_run_bars_returns.mean()) / tick_run_bars_returns.std()\n",
    "volume_run_bars_standard = (volume_run_bars_returns  - volume_run_bars_returns.mean()) / volume_run_bars_returns.std()\n",
    "dollar_run_bars_standard = (dollar_run_bars_returns - dollar_run_bars_returns.mean()) / dollar_run_bars_returns.std()"
   ]
  },
  {
   "cell_type": "code",
   "execution_count": null,
   "metadata": {},
   "outputs": [],
   "source": [
    "#Distribution Plot\n",
    "plt.figure(figsize=(16, 12))\n",
    "sns.kdeplot(time_standard, label=\"Time\", color=\"red\")\n",
    "sns.kdeplot(tick_run_bars_standard, label=\"Tick\", color=\"blue\")\n",
    "sns.kdeplot(volume_run_bars_standard, label=\"Volume\", color=\"green\")\n",
    "sns.kdeplot(dollar_run_bars_standard , label=\"Dollar\", color=\"purple\", linestyle=\"-.\")\n",
    "sns.kdeplot(np.random.normal(size=1000000), label=\"Normal\", linestyle=\"dotted\")\n",
    "plt.xticks(range(-4, +4))\n",
    "\n",
    "#labels\n",
    "plt.xlabel(\"Standardized Log Returns\")\n",
    "plt.ylabel(\"Density\")\n",
    "plt.title(\n",
    "    'Partial Recovery of Normality for Run Bars',\n",
    "    loc='center', \n",
    ")\n",
    "plt.xlim(-5, 5)\n",
    "plt.legend()\n",
    "plt.show()"
   ]
  },
  {
   "cell_type": "markdown",
   "metadata": {},
   "source": [
    "# Additional Features"
   ]
  },
  {
   "cell_type": "code",
   "execution_count": 41,
   "metadata": {},
   "outputs": [],
   "source": [
    "def grouped_features(raw_df, resumpling_df, feature_name, agg_func=np.sum):\n",
    "    \"\"\"\n",
    "    Aggregate a feature between Tick Number ranges using a specified aggregation function.\n",
    "\n",
    "    Parameters\n",
    "    ----------\n",
    "    raw_df : pd.DataFrame\n",
    "        Full DataFrame with tick-by-tick data.\n",
    "    resumpling_df : pd.DataFrame\n",
    "        DataFrame with \"Tick Number\" boundaries (breakpoints).\n",
    "    feature_name : str\n",
    "        Column name in raw_df to aggregate (e.g., \"ohlc_trades\").\n",
    "    agg_func : function, default=np.sum\n",
    "        Aggregation function (e.g., np.sum, np.mean, np.max).\n",
    "\n",
    "    Returns\n",
    "    -------\n",
    "    pd.DataFrame\n",
    "        resumpling_df with the aggregated feature filled.\n",
    "    \"\"\"\n",
    "\n",
    "    resumpling_df[feature_name] = np.nan  \n",
    "\n",
    "    m = raw_df[feature_name]\n",
    "    idx_list = resumpling_df.index.astype(int).to_list()\n",
    "\n",
    "    if idx_list:\n",
    "        idx_start = idx_list[0]\n",
    "        idx_end = idx_list[0] + 1\n",
    "        resumpling_df.loc[idx_start, feature_name] = agg_func(m.iloc[0:idx_end])\n",
    "\n",
    "    for start, end in zip(idx_list, idx_list[1:]):\n",
    "        resumpling_df.loc[end, feature_name] = agg_func(m.iloc[start:(end+1)])\n",
    "\n",
    "    return resumpling_df\n",
    "\n",
    "def last_state(raw_df,resumpling_df, feature_name):\n",
    "    resumpling_df[feature_name] = np.nan  \n",
    "    idx_list = resumpling_df.index.to_list()\n",
    "    for i in idx_list:\n",
    "        resumpling_df.loc[i,feature_name] = raw_df[feature_name][i]\n",
    "    return resumpling_df\n",
    "\n",
    "def price_vwap(raw_df, resumpling_df, feature_name, vol_colum_name ='ohlc_volume'):\n",
    "\n",
    "    resumpling_df[feature_name] = np.nan  \n",
    "\n",
    "    m = raw_df[feature_name]\n",
    "    vol = raw_df[vol_colum_name]\n",
    "\n",
    "    idx_list = resumpling_df.index.astype(int).to_list()\n",
    "\n",
    "    if idx_list:\n",
    "        idx_start = idx_list[0]\n",
    "        idx_end = idx_list[0] + 1\n",
    "\n",
    "        resumpling_df.loc[idx_start, feature_name] = np.average(m[0:idx_end], weights=vol[0:idx_end])\n",
    "\n",
    "    for start, end in zip(idx_list, idx_list[1:]):\n",
    "        resumpling_df.loc[end, feature_name] = np.average(m[start:(end+1)], weights=vol[start:(end+1)])\n",
    "\n",
    "    return resumpling_df"
   ]
  },
  {
   "cell_type": "code",
   "execution_count": 42,
   "metadata": {},
   "outputs": [],
   "source": [
    "def aggregate_features(input_df, sampling_df):\n",
    "\n",
    "    sampling_df =sampling_df.set_index(\"Tick Number\")\n",
    "\n",
    "    vol_sum = ['ohlc_trades','ohlc_taker_base','ohlc_taker_quote',\n",
    "            'tr_volume_base','tr_volume_quote']\n",
    "\n",
    "    last_states = ['l1_bid','l1_ask','l1_mid','l1_spread',\n",
    "                'l1_bid_qty','l1_ask_qty','l1_imbalance',\n",
    "                'l2_bid_depth','l2_ask_depth','l2_depth_asymmetry',\n",
    "                'l2_bid_vwap','l2_ask_vwap','l2_bid_slope','l2_ask_slope',\n",
    "                'spot_price','perp_mark_price','basis_abs','basis_pct',\n",
    "                'funding_rate','next_funding_time_ms']\n",
    "\n",
    "    mean_bar= ['tr_buy_sell_imbalance']\n",
    "\n",
    "    weighted_mean = ['tr_vwap']\n",
    "\n",
    "    #total\n",
    "    for i in vol_sum:\n",
    "        sampling_df  = grouped_features(raw_df=input_df, \n",
    "                                        resumpling_df=sampling_df , \n",
    "                                        feature_name=i, \n",
    "                                        agg_func=np.sum)\n",
    "    #last value\n",
    "    for j in last_states:\n",
    "        sampling_df  = last_state(raw_df=input_df,\n",
    "                                    resumpling_df=sampling_df ,\n",
    "                                    feature_name=j)\n",
    "    #average value   \n",
    "    for k in mean_bar:\n",
    "        sampling_df  = grouped_features(raw_df=input_df, \n",
    "                                        resumpling_df=sampling_df , \n",
    "                                        feature_name=k, \n",
    "                                        agg_func=np.mean)\n",
    "    #weighted average\n",
    "    for _ in weighted_mean:\n",
    "        sampling_df  = price_vwap(raw_df=input_df, \n",
    "                                    resumpling_df=sampling_df , \n",
    "                                    feature_name= _,\n",
    "                                    vol_colum_name ='ohlc_volume')\n",
    "        \n",
    "    return sampling_df"
   ]
  },
  {
   "cell_type": "code",
   "execution_count": 43,
   "metadata": {},
   "outputs": [
    {
     "data": {
      "text/html": [
       "<div>\n",
       "<style scoped>\n",
       "    .dataframe tbody tr th:only-of-type {\n",
       "        vertical-align: middle;\n",
       "    }\n",
       "\n",
       "    .dataframe tbody tr th {\n",
       "        vertical-align: top;\n",
       "    }\n",
       "\n",
       "    .dataframe thead th {\n",
       "        text-align: right;\n",
       "    }\n",
       "</style>\n",
       "<table border=\"1\" class=\"dataframe\">\n",
       "  <thead>\n",
       "    <tr style=\"text-align: right;\">\n",
       "      <th></th>\n",
       "      <th>Date Time</th>\n",
       "      <th>Open</th>\n",
       "      <th>High</th>\n",
       "      <th>Low</th>\n",
       "      <th>Close</th>\n",
       "      <th>Cumulative Volume</th>\n",
       "      <th>Cumulative Buy Volume</th>\n",
       "      <th>Cumulative Sell Volume</th>\n",
       "      <th>Cumulative Ticks</th>\n",
       "      <th>Cumulative Dollar Value</th>\n",
       "      <th>...</th>\n",
       "      <th>l2_bid_slope</th>\n",
       "      <th>l2_ask_slope</th>\n",
       "      <th>spot_price</th>\n",
       "      <th>perp_mark_price</th>\n",
       "      <th>basis_abs</th>\n",
       "      <th>basis_pct</th>\n",
       "      <th>funding_rate</th>\n",
       "      <th>next_funding_time_ms</th>\n",
       "      <th>tr_buy_sell_imbalance</th>\n",
       "      <th>tr_vwap</th>\n",
       "    </tr>\n",
       "    <tr>\n",
       "      <th>Tick Number</th>\n",
       "      <th></th>\n",
       "      <th></th>\n",
       "      <th></th>\n",
       "      <th></th>\n",
       "      <th></th>\n",
       "      <th></th>\n",
       "      <th></th>\n",
       "      <th></th>\n",
       "      <th></th>\n",
       "      <th></th>\n",
       "      <th></th>\n",
       "      <th></th>\n",
       "      <th></th>\n",
       "      <th></th>\n",
       "      <th></th>\n",
       "      <th></th>\n",
       "      <th></th>\n",
       "      <th></th>\n",
       "      <th></th>\n",
       "      <th></th>\n",
       "      <th></th>\n",
       "    </tr>\n",
       "  </thead>\n",
       "  <tbody>\n",
       "    <tr>\n",
       "      <th>5682</th>\n",
       "      <td>2025-08-21 21:27:01.312652+00:00</td>\n",
       "      <td>118251.351562</td>\n",
       "      <td>118316.007812</td>\n",
       "      <td>112029.570312</td>\n",
       "      <td>112477.546875</td>\n",
       "      <td>26679.420281</td>\n",
       "      <td>12531.694057</td>\n",
       "      <td>14147.726223</td>\n",
       "      <td>5682</td>\n",
       "      <td>3.047829e+09</td>\n",
       "      <td>...</td>\n",
       "      <td>-2.295965</td>\n",
       "      <td>12.021813</td>\n",
       "      <td>112542.843750</td>\n",
       "      <td>112500.796875</td>\n",
       "      <td>-42.040001</td>\n",
       "      <td>-0.000374</td>\n",
       "      <td>0.000100</td>\n",
       "      <td>1.755821e+12</td>\n",
       "      <td>-0.043373</td>\n",
       "      <td>114255.546875</td>\n",
       "    </tr>\n",
       "    <tr>\n",
       "      <th>10131</th>\n",
       "      <td>2025-08-24 23:38:44.702653+00:00</td>\n",
       "      <td>112542.843750</td>\n",
       "      <td>117409.593750</td>\n",
       "      <td>111075.546875</td>\n",
       "      <td>113601.039062</td>\n",
       "      <td>30623.208539</td>\n",
       "      <td>14744.969204</td>\n",
       "      <td>15878.239335</td>\n",
       "      <td>4449</td>\n",
       "      <td>3.510916e+09</td>\n",
       "      <td>...</td>\n",
       "      <td>-14.760899</td>\n",
       "      <td>5.892579</td>\n",
       "      <td>113486.546875</td>\n",
       "      <td>113433.296875</td>\n",
       "      <td>-53.250000</td>\n",
       "      <td>-0.000469</td>\n",
       "      <td>0.000100</td>\n",
       "      <td>1.756080e+12</td>\n",
       "      <td>-0.064838</td>\n",
       "      <td>114743.875000</td>\n",
       "    </tr>\n",
       "    <tr>\n",
       "      <th>16764</th>\n",
       "      <td>2025-08-29 14:15:47.332642+00:00</td>\n",
       "      <td>113486.546875</td>\n",
       "      <td>113664.000000</td>\n",
       "      <td>108415.421875</td>\n",
       "      <td>108415.421875</td>\n",
       "      <td>40630.550637</td>\n",
       "      <td>19066.407923</td>\n",
       "      <td>21564.142714</td>\n",
       "      <td>6633</td>\n",
       "      <td>4.516909e+09</td>\n",
       "      <td>...</td>\n",
       "      <td>-0.598694</td>\n",
       "      <td>6.178138</td>\n",
       "      <td>108557.179688</td>\n",
       "      <td>108517.781250</td>\n",
       "      <td>-39.397167</td>\n",
       "      <td>-0.000363</td>\n",
       "      <td>0.000013</td>\n",
       "      <td>1.756483e+12</td>\n",
       "      <td>-0.010307</td>\n",
       "      <td>111207.992188</td>\n",
       "    </tr>\n",
       "    <tr>\n",
       "      <th>24793</th>\n",
       "      <td>2025-09-04 04:09:46.682659+00:00</td>\n",
       "      <td>108556.000000</td>\n",
       "      <td>112559.187500</td>\n",
       "      <td>107278.429688</td>\n",
       "      <td>111272.539062</td>\n",
       "      <td>37962.182999</td>\n",
       "      <td>19009.391016</td>\n",
       "      <td>18952.791983</td>\n",
       "      <td>8029</td>\n",
       "      <td>4.154732e+09</td>\n",
       "      <td>...</td>\n",
       "      <td>-2.158313</td>\n",
       "      <td>64.297188</td>\n",
       "      <td>111257.531250</td>\n",
       "      <td>111215.203125</td>\n",
       "      <td>-42.330002</td>\n",
       "      <td>-0.000380</td>\n",
       "      <td>0.000029</td>\n",
       "      <td>1.756973e+12</td>\n",
       "      <td>-0.052352</td>\n",
       "      <td>109431.789062</td>\n",
       "    </tr>\n",
       "  </tbody>\n",
       "</table>\n",
       "<p>4 rows × 38 columns</p>\n",
       "</div>"
      ],
      "text/plain": [
       "                                   Date Time           Open           High  \\\n",
       "Tick Number                                                                  \n",
       "5682        2025-08-21 21:27:01.312652+00:00  118251.351562  118316.007812   \n",
       "10131       2025-08-24 23:38:44.702653+00:00  112542.843750  117409.593750   \n",
       "16764       2025-08-29 14:15:47.332642+00:00  113486.546875  113664.000000   \n",
       "24793       2025-09-04 04:09:46.682659+00:00  108556.000000  112559.187500   \n",
       "\n",
       "                       Low          Close  Cumulative Volume  \\\n",
       "Tick Number                                                    \n",
       "5682         112029.570312  112477.546875       26679.420281   \n",
       "10131        111075.546875  113601.039062       30623.208539   \n",
       "16764        108415.421875  108415.421875       40630.550637   \n",
       "24793        107278.429688  111272.539062       37962.182999   \n",
       "\n",
       "             Cumulative Buy Volume  Cumulative Sell Volume  Cumulative Ticks  \\\n",
       "Tick Number                                                                    \n",
       "5682                  12531.694057            14147.726223              5682   \n",
       "10131                 14744.969204            15878.239335              4449   \n",
       "16764                 19066.407923            21564.142714              6633   \n",
       "24793                 19009.391016            18952.791983              8029   \n",
       "\n",
       "             Cumulative Dollar Value  ...  l2_bid_slope  l2_ask_slope  \\\n",
       "Tick Number                           ...                               \n",
       "5682                    3.047829e+09  ...     -2.295965     12.021813   \n",
       "10131                   3.510916e+09  ...    -14.760899      5.892579   \n",
       "16764                   4.516909e+09  ...     -0.598694      6.178138   \n",
       "24793                   4.154732e+09  ...     -2.158313     64.297188   \n",
       "\n",
       "                spot_price  perp_mark_price  basis_abs  basis_pct  \\\n",
       "Tick Number                                                         \n",
       "5682         112542.843750    112500.796875 -42.040001  -0.000374   \n",
       "10131        113486.546875    113433.296875 -53.250000  -0.000469   \n",
       "16764        108557.179688    108517.781250 -39.397167  -0.000363   \n",
       "24793        111257.531250    111215.203125 -42.330002  -0.000380   \n",
       "\n",
       "             funding_rate  next_funding_time_ms  tr_buy_sell_imbalance  \\\n",
       "Tick Number                                                              \n",
       "5682             0.000100          1.755821e+12              -0.043373   \n",
       "10131            0.000100          1.756080e+12              -0.064838   \n",
       "16764            0.000013          1.756483e+12              -0.010307   \n",
       "24793            0.000029          1.756973e+12              -0.052352   \n",
       "\n",
       "                   tr_vwap  \n",
       "Tick Number                 \n",
       "5682         114255.546875  \n",
       "10131        114743.875000  \n",
       "16764        111207.992188  \n",
       "24793        109431.789062  \n",
       "\n",
       "[4 rows x 38 columns]"
      ]
     },
     "execution_count": 43,
     "metadata": {},
     "output_type": "execute_result"
    }
   ],
   "source": [
    "df_features = aggregate_features(input_df=df, sampling_df=dollar_run_bars)\n",
    "df_features"
   ]
  }
 ],
 "metadata": {
  "kernelspec": {
   "display_name": ".venv_smc",
   "language": "python",
   "name": "python3"
  },
  "language_info": {
   "codemirror_mode": {
    "name": "ipython",
    "version": 3
   },
   "file_extension": ".py",
   "mimetype": "text/x-python",
   "name": "python",
   "nbconvert_exporter": "python",
   "pygments_lexer": "ipython3",
   "version": "3.11.9"
  }
 },
 "nbformat": 4,
 "nbformat_minor": 2
}
